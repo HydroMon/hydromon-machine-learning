{
  "nbformat": 4,
  "nbformat_minor": 0,
  "metadata": {
    "colab": {
      "name": "Testing with tflite Interpreter.ipynb",
      "provenance": [],
      "collapsed_sections": [],
      "include_colab_link": true
    },
    "kernelspec": {
      "name": "python3",
      "display_name": "Python 3"
    },
    "language_info": {
      "name": "python"
    }
  },
  "cells": [
    {
      "cell_type": "markdown",
      "metadata": {
        "id": "view-in-github",
        "colab_type": "text"
      },
      "source": [
        "<a href=\"https://colab.research.google.com/github/yoursemicolon/hydromon-machine-learning/blob/main/Testing_with_tflite_Interpreter.ipynb\" target=\"_parent\"><img src=\"https://colab.research.google.com/assets/colab-badge.svg\" alt=\"Open In Colab\"/></a>"
      ]
    },
    {
      "cell_type": "markdown",
      "source": [
        "# **Predict control action in hydroponic system**"
      ],
      "metadata": {
        "id": "1hlGOoibYUb7"
      }
    },
    {
      "cell_type": "markdown",
      "source": [
        "# **Import Library**"
      ],
      "metadata": {
        "id": "h8R3htWRXqOG"
      }
    },
    {
      "cell_type": "code",
      "source": [
        "import os\n",
        "import numpy as np\n",
        "import tensorflow as tf\n",
        "from tensorflow.keras import Sequential\n",
        "from tensorflow.keras.layers import Dense\n",
        "\n",
        "print(tf.__version__)"
      ],
      "metadata": {
        "id": "jvKCQPoVXt6m",
        "colab": {
          "base_uri": "https://localhost:8080/"
        },
        "outputId": "12b14fa0-1534-4090-f516-7c76fe063735"
      },
      "execution_count": 4,
      "outputs": [
        {
          "output_type": "stream",
          "name": "stdout",
          "text": [
            "2.8.2\n"
          ]
        }
      ]
    },
    {
      "cell_type": "markdown",
      "source": [
        "## **Define Recommendation & Action**"
      ],
      "metadata": {
        "id": "PHcKosTS7CaA"
      }
    },
    {
      "cell_type": "code",
      "source": [
        "# action yang akan dilakukan oleh actuator\n",
        "action = {\n",
        "    '0' : 'No Action',\n",
        "    '1' : 'Pump Water',\n",
        "    '2' : 'Light On',\n",
        "    '3' : 'Pump Nutrient',\n",
        "    '4' : 'pH Up',\n",
        "    '5' : 'pH Down'\n",
        "}\n",
        "\n",
        "# recommendation berupa action yg dapat dilakukan\n",
        "labels = {\n",
        "    '0' : {\n",
        "        'recommendation' : [0]\n",
        "    },\n",
        "    '1' : {\n",
        "        'recommendation' : [1]\n",
        "    },\n",
        "    '2' : {\n",
        "        'recommendation' : [2]\n",
        "    },\n",
        "    '3' : {\n",
        "        'recommendation' : [3]\n",
        "    },\n",
        "    '4' : {\n",
        "        'recommendation' : [4]\n",
        "    },\n",
        "    '5' : {\n",
        "        'recommendation' : [5]\n",
        "    },\n",
        "    '6' : {\n",
        "        'recommendation' : [1, 2]\n",
        "    },\n",
        "    '7' : {\n",
        "        'recommendation' : [1, 4]\n",
        "    },\n",
        "    '8' : {\n",
        "        'recommendation' : [1, 5]\n",
        "    },\n",
        "    '9' : {\n",
        "        'recommendation' : [1, 2, 4]\n",
        "    },\n",
        "    '10' : {\n",
        "        'recommendation' : [1, 2, 5]\n",
        "    },\n",
        "    '11' : {\n",
        "        'recommendation' : [2, 3]\n",
        "    },\n",
        "    '12' : {\n",
        "        'recommendation' : [2, 4]\n",
        "    },\n",
        "    '13' : {\n",
        "        'recommendation' : [2, 5]\n",
        "    },\n",
        "    '14' : {\n",
        "        'recommendation' : [2, 3, 4]\n",
        "    },\n",
        "    '15' : {\n",
        "        'recommendation' : [2, 3, 5]\n",
        "    },\n",
        "    '16' : {\n",
        "        'recommendation' : [3, 4]\n",
        "    },\n",
        "    '17' : {\n",
        "        'recommendation' : [3, 5]\n",
        "    }\n",
        "}"
      ],
      "metadata": {
        "id": "ZfkxlnZp7E9S"
      },
      "execution_count": 59,
      "outputs": []
    },
    {
      "cell_type": "code",
      "source": [
        "# test predict\n",
        "# row = [0.490833, 0.861667, 0.364933]\n",
        "# predict_test = model.predict([row], verbose=0)\n",
        "# print(argmax(predict_test))"
      ],
      "metadata": {
        "id": "m0omD178uV4_"
      },
      "execution_count": 8,
      "outputs": []
    },
    {
      "cell_type": "markdown",
      "source": [
        "## **Test the Model with TFLite Interpreter**"
      ],
      "metadata": {
        "id": "xQOqZEC81AG5"
      }
    },
    {
      "cell_type": "markdown",
      "source": [
        "### **Load Model**"
      ],
      "metadata": {
        "id": "J-vqEaRFG4zw"
      }
    },
    {
      "cell_type": "code",
      "source": [
        "tflite_model_file = '/content/model_ver1.tflite'"
      ],
      "metadata": {
        "id": "RIWaA5kZG78X"
      },
      "execution_count": 2,
      "outputs": []
    },
    {
      "cell_type": "markdown",
      "source": [
        ""
      ],
      "metadata": {
        "id": "wy39GmqeKEyL"
      }
    },
    {
      "cell_type": "code",
      "source": [
        "# Load TFLite model and allocate tensors\n",
        "with open(tflite_model_file, 'rb') as fid:\n",
        "  tflite_model = fid.read()\n",
        "\n",
        "# Load TFLite model and allocate tensors.\n",
        "interpreter = tf.lite.Interpreter(model_content=tflite_model)\n",
        "interpreter.allocate_tensors()\n",
        "print(\"Model Loaded Succesfully.\")"
      ],
      "metadata": {
        "id": "1H19j9XG3AKa",
        "colab": {
          "base_uri": "https://localhost:8080/"
        },
        "outputId": "378b68c9-074d-4dea-878b-a13292b2a5ac"
      },
      "execution_count": 6,
      "outputs": [
        {
          "output_type": "stream",
          "name": "stdout",
          "text": [
            "Model Loaded Succesfully.\n"
          ]
        }
      ]
    },
    {
      "cell_type": "code",
      "source": [
        "# Get input and output tensors.\n",
        "input_details = interpreter.get_input_details()\n",
        "output_details = interpreter.get_output_details()"
      ],
      "metadata": {
        "id": "QOtATQNo1GmI"
      },
      "execution_count": 8,
      "outputs": []
    },
    {
      "cell_type": "code",
      "source": [
        "input_details"
      ],
      "metadata": {
        "colab": {
          "base_uri": "https://localhost:8080/"
        },
        "id": "rAZ5gH3ZLH9i",
        "outputId": "8eb1bf40-e7c3-40c4-8fc2-7bb6a3b6c735"
      },
      "execution_count": 9,
      "outputs": [
        {
          "output_type": "execute_result",
          "data": {
            "text/plain": [
              "[{'dtype': numpy.float32,\n",
              "  'index': 0,\n",
              "  'name': 'serving_default_dense_10_input:0',\n",
              "  'quantization': (0.0, 0),\n",
              "  'quantization_parameters': {'quantized_dimension': 0,\n",
              "   'scales': array([], dtype=float32),\n",
              "   'zero_points': array([], dtype=int32)},\n",
              "  'shape': array([1, 3], dtype=int32),\n",
              "  'shape_signature': array([-1,  3], dtype=int32),\n",
              "  'sparsity_parameters': {}}]"
            ]
          },
          "metadata": {},
          "execution_count": 9
        }
      ]
    },
    {
      "cell_type": "code",
      "source": [
        "output_details"
      ],
      "metadata": {
        "colab": {
          "base_uri": "https://localhost:8080/"
        },
        "id": "uSIQoCVvOtKJ",
        "outputId": "2d20635f-4f4b-4f55-dbb1-fc2deca54b0a"
      },
      "execution_count": 25,
      "outputs": [
        {
          "output_type": "execute_result",
          "data": {
            "text/plain": [
              "[{'dtype': numpy.float32,\n",
              "  'index': 16,\n",
              "  'name': 'StatefulPartitionedCall:0',\n",
              "  'quantization': (0.0, 0),\n",
              "  'quantization_parameters': {'quantized_dimension': 0,\n",
              "   'scales': array([], dtype=float32),\n",
              "   'zero_points': array([], dtype=int32)},\n",
              "  'shape': array([ 1, 18], dtype=int32),\n",
              "  'shape_signature': array([-1, 18], dtype=int32),\n",
              "  'sparsity_parameters': {}}]"
            ]
          },
          "metadata": {},
          "execution_count": 25
        }
      ]
    },
    {
      "cell_type": "code",
      "source": [
        "print(\"== Input details ==\")\n",
        "print(\"name:\", input_details[0]['name'])\n",
        "print(\"shape:\", input_details[0]['shape'])\n",
        "print(\"type:\", input_details[0]['dtype'])"
      ],
      "metadata": {
        "colab": {
          "base_uri": "https://localhost:8080/"
        },
        "id": "cFlgpS0uKow0",
        "outputId": "068230f2-ab6f-4ded-9a12-2d6fc33356bb"
      },
      "execution_count": 11,
      "outputs": [
        {
          "output_type": "stream",
          "name": "stdout",
          "text": [
            "== Input details ==\n",
            "name: serving_default_dense_10_input:0\n",
            "shape: [1 3]\n",
            "type: <class 'numpy.float32'>\n"
          ]
        }
      ]
    },
    {
      "cell_type": "code",
      "source": [
        "print(\"\\n== Output details ==\")\n",
        "print(\"name:\", output_details[0]['name'])\n",
        "print(\"shape:\", output_details[0]['shape'])\n",
        "print(\"type:\", output_details[0]['dtype'])"
      ],
      "metadata": {
        "colab": {
          "base_uri": "https://localhost:8080/"
        },
        "id": "N3KkMLgDLS53",
        "outputId": "7efd5c23-15bd-45b2-bafd-8fe379cdbe68"
      },
      "execution_count": 12,
      "outputs": [
        {
          "output_type": "stream",
          "name": "stdout",
          "text": [
            "\n",
            "== Output details ==\n",
            "name: StatefulPartitionedCall:0\n",
            "shape: [ 1 18]\n",
            "type: <class 'numpy.float32'>\n"
          ]
        }
      ]
    },
    {
      "cell_type": "code",
      "source": [
        "test_data = np.array([[0.490833, 0.861667, 0.364933]]) # label 12\n",
        "test_data = test_data.astype('float32')\n",
        "print(test_data.shape)\n",
        "print(test_data.dtype)"
      ],
      "metadata": {
        "colab": {
          "base_uri": "https://localhost:8080/"
        },
        "id": "ThLVglQKMBxi",
        "outputId": "66781f16-7d9e-4264-d850-83dbbd070393"
      },
      "execution_count": 120,
      "outputs": [
        {
          "output_type": "stream",
          "name": "stdout",
          "text": [
            "(1, 3)\n",
            "float32\n"
          ]
        }
      ]
    },
    {
      "cell_type": "code",
      "source": [
        "def classify_data(interpreter, data):\n",
        "  # run inference\n",
        "  interpreter.set_tensor(input_details[0]['index'], data)\n",
        "  interpreter.invoke()\n",
        "\n",
        "  output_details = interpreter.get_output_details()[0]['index']\n",
        "  output = interpreter.get_tensor(output_details)\n",
        "\n",
        "  return output"
      ],
      "metadata": {
        "id": "2KxK5ZIkNs5F"
      },
      "execution_count": 121,
      "outputs": []
    },
    {
      "cell_type": "code",
      "source": [
        "import time\n",
        "from numpy import argmax \n",
        "\n",
        "# classify the parameters\n",
        "time_start = time.time()\n",
        "prediction = classify_data(interpreter, test_data)\n",
        "time_finish = time.time()\n",
        "classification_time = np.round(time_finish-time_start, 5)\n",
        "print(f'Classification time = {classification_time} seconds')\n",
        "\n",
        "# print(\"Predicted label is : \", classification_label, \", with accuracy : \", np.round(prob*100, 2), \"%.\")\n",
        "print(\"Predicted label is : \", argmax(prediction))"
      ],
      "metadata": {
        "colab": {
          "base_uri": "https://localhost:8080/"
        },
        "id": "JSIcKpKINYgI",
        "outputId": "66cc83c1-ff8c-4846-be75-ad1b3adb09dd"
      },
      "execution_count": 122,
      "outputs": [
        {
          "output_type": "stream",
          "name": "stdout",
          "text": [
            "Classification time = 0.00034 seconds\n",
            "Predicted label is :  12\n"
          ]
        }
      ]
    },
    {
      "cell_type": "markdown",
      "source": [
        "## **Load Data for Other Testing**"
      ],
      "metadata": {
        "id": "NUM3qiJjXGGW"
      }
    },
    {
      "cell_type": "code",
      "source": [
        "import pandas as pd\n",
        "import requests\n",
        "from bs4 import BeautifulSoup, SoupStrainer\n",
        "\n",
        "html = requests.get('https://github.com/HydroMon/hydromon-machine-learning/tree/main/dataset/ver2_training')\n",
        "\n",
        "dfs = []\n",
        "for link in BeautifulSoup(html.text, parse_only=SoupStrainer('a')):\n",
        "    if hasattr(link, 'href') and link['href'].endswith('.csv'):\n",
        "        url = 'https://github.com'+ link['href'].replace('/blob/', '/raw/')\n",
        "        dfs.append(pd.read_csv(url, nrows=100))\n",
        "df = pd.concat(dfs)"
      ],
      "metadata": {
        "id": "OGkgfTzurnRT"
      },
      "execution_count": 113,
      "outputs": []
    },
    {
      "cell_type": "code",
      "source": [
        "# use certain features only\n",
        "# df = df.loc[:, [\"TDS\", \"Light Intensity\", \"pH\", \"Label\"]]\n",
        "# df"
      ],
      "metadata": {
        "id": "NmctZQFYwbmd"
      },
      "execution_count": 72,
      "outputs": []
    },
    {
      "cell_type": "code",
      "source": [
        "# data shuffling\n",
        "df = df.sample(frac=1).reset_index(drop=True)\n",
        "df.head()"
      ],
      "metadata": {
        "colab": {
          "base_uri": "https://localhost:8080/",
          "height": 206
        },
        "id": "E_eqNfKeUHU7",
        "outputId": "dcb0f2cc-8329-4fc1-9528-911a8adbe382"
      },
      "execution_count": 114,
      "outputs": [
        {
          "output_type": "execute_result",
          "data": {
            "text/plain": [
              "         Date      Time      ID   TDS  Light Intensity     pH  \\\n",
              "0  2022-05-20  17:10:55  40TWL4   700              424  5.041   \n",
              "1  2022-05-20  19:59:25  40TWL4  1042              827  5.935   \n",
              "2  2022-05-20  07:05:05  40TWL4   363              870  4.829   \n",
              "3  2022-05-20  18:38:35  40TWL4   706              593  6.720   \n",
              "4  2022-05-20  13:01:05  40TWL4  1390              547  5.956   \n",
              "\n",
              "   Air Temperature  Humidity     EC  Label  \n",
              "0               24        95  2.446      4  \n",
              "1               35        63  2.182      6  \n",
              "2               39        57  2.229     14  \n",
              "3               26        74  3.090      5  \n",
              "4               31        81  2.162      1  "
            ],
            "text/html": [
              "\n",
              "  <div id=\"df-a68f2018-5bea-4364-8d01-38275abad597\">\n",
              "    <div class=\"colab-df-container\">\n",
              "      <div>\n",
              "<style scoped>\n",
              "    .dataframe tbody tr th:only-of-type {\n",
              "        vertical-align: middle;\n",
              "    }\n",
              "\n",
              "    .dataframe tbody tr th {\n",
              "        vertical-align: top;\n",
              "    }\n",
              "\n",
              "    .dataframe thead th {\n",
              "        text-align: right;\n",
              "    }\n",
              "</style>\n",
              "<table border=\"1\" class=\"dataframe\">\n",
              "  <thead>\n",
              "    <tr style=\"text-align: right;\">\n",
              "      <th></th>\n",
              "      <th>Date</th>\n",
              "      <th>Time</th>\n",
              "      <th>ID</th>\n",
              "      <th>TDS</th>\n",
              "      <th>Light Intensity</th>\n",
              "      <th>pH</th>\n",
              "      <th>Air Temperature</th>\n",
              "      <th>Humidity</th>\n",
              "      <th>EC</th>\n",
              "      <th>Label</th>\n",
              "    </tr>\n",
              "  </thead>\n",
              "  <tbody>\n",
              "    <tr>\n",
              "      <th>0</th>\n",
              "      <td>2022-05-20</td>\n",
              "      <td>17:10:55</td>\n",
              "      <td>40TWL4</td>\n",
              "      <td>700</td>\n",
              "      <td>424</td>\n",
              "      <td>5.041</td>\n",
              "      <td>24</td>\n",
              "      <td>95</td>\n",
              "      <td>2.446</td>\n",
              "      <td>4</td>\n",
              "    </tr>\n",
              "    <tr>\n",
              "      <th>1</th>\n",
              "      <td>2022-05-20</td>\n",
              "      <td>19:59:25</td>\n",
              "      <td>40TWL4</td>\n",
              "      <td>1042</td>\n",
              "      <td>827</td>\n",
              "      <td>5.935</td>\n",
              "      <td>35</td>\n",
              "      <td>63</td>\n",
              "      <td>2.182</td>\n",
              "      <td>6</td>\n",
              "    </tr>\n",
              "    <tr>\n",
              "      <th>2</th>\n",
              "      <td>2022-05-20</td>\n",
              "      <td>07:05:05</td>\n",
              "      <td>40TWL4</td>\n",
              "      <td>363</td>\n",
              "      <td>870</td>\n",
              "      <td>4.829</td>\n",
              "      <td>39</td>\n",
              "      <td>57</td>\n",
              "      <td>2.229</td>\n",
              "      <td>14</td>\n",
              "    </tr>\n",
              "    <tr>\n",
              "      <th>3</th>\n",
              "      <td>2022-05-20</td>\n",
              "      <td>18:38:35</td>\n",
              "      <td>40TWL4</td>\n",
              "      <td>706</td>\n",
              "      <td>593</td>\n",
              "      <td>6.720</td>\n",
              "      <td>26</td>\n",
              "      <td>74</td>\n",
              "      <td>3.090</td>\n",
              "      <td>5</td>\n",
              "    </tr>\n",
              "    <tr>\n",
              "      <th>4</th>\n",
              "      <td>2022-05-20</td>\n",
              "      <td>13:01:05</td>\n",
              "      <td>40TWL4</td>\n",
              "      <td>1390</td>\n",
              "      <td>547</td>\n",
              "      <td>5.956</td>\n",
              "      <td>31</td>\n",
              "      <td>81</td>\n",
              "      <td>2.162</td>\n",
              "      <td>1</td>\n",
              "    </tr>\n",
              "  </tbody>\n",
              "</table>\n",
              "</div>\n",
              "      <button class=\"colab-df-convert\" onclick=\"convertToInteractive('df-a68f2018-5bea-4364-8d01-38275abad597')\"\n",
              "              title=\"Convert this dataframe to an interactive table.\"\n",
              "              style=\"display:none;\">\n",
              "        \n",
              "  <svg xmlns=\"http://www.w3.org/2000/svg\" height=\"24px\"viewBox=\"0 0 24 24\"\n",
              "       width=\"24px\">\n",
              "    <path d=\"M0 0h24v24H0V0z\" fill=\"none\"/>\n",
              "    <path d=\"M18.56 5.44l.94 2.06.94-2.06 2.06-.94-2.06-.94-.94-2.06-.94 2.06-2.06.94zm-11 1L8.5 8.5l.94-2.06 2.06-.94-2.06-.94L8.5 2.5l-.94 2.06-2.06.94zm10 10l.94 2.06.94-2.06 2.06-.94-2.06-.94-.94-2.06-.94 2.06-2.06.94z\"/><path d=\"M17.41 7.96l-1.37-1.37c-.4-.4-.92-.59-1.43-.59-.52 0-1.04.2-1.43.59L10.3 9.45l-7.72 7.72c-.78.78-.78 2.05 0 2.83L4 21.41c.39.39.9.59 1.41.59.51 0 1.02-.2 1.41-.59l7.78-7.78 2.81-2.81c.8-.78.8-2.07 0-2.86zM5.41 20L4 18.59l7.72-7.72 1.47 1.35L5.41 20z\"/>\n",
              "  </svg>\n",
              "      </button>\n",
              "      \n",
              "  <style>\n",
              "    .colab-df-container {\n",
              "      display:flex;\n",
              "      flex-wrap:wrap;\n",
              "      gap: 12px;\n",
              "    }\n",
              "\n",
              "    .colab-df-convert {\n",
              "      background-color: #E8F0FE;\n",
              "      border: none;\n",
              "      border-radius: 50%;\n",
              "      cursor: pointer;\n",
              "      display: none;\n",
              "      fill: #1967D2;\n",
              "      height: 32px;\n",
              "      padding: 0 0 0 0;\n",
              "      width: 32px;\n",
              "    }\n",
              "\n",
              "    .colab-df-convert:hover {\n",
              "      background-color: #E2EBFA;\n",
              "      box-shadow: 0px 1px 2px rgba(60, 64, 67, 0.3), 0px 1px 3px 1px rgba(60, 64, 67, 0.15);\n",
              "      fill: #174EA6;\n",
              "    }\n",
              "\n",
              "    [theme=dark] .colab-df-convert {\n",
              "      background-color: #3B4455;\n",
              "      fill: #D2E3FC;\n",
              "    }\n",
              "\n",
              "    [theme=dark] .colab-df-convert:hover {\n",
              "      background-color: #434B5C;\n",
              "      box-shadow: 0px 1px 3px 1px rgba(0, 0, 0, 0.15);\n",
              "      filter: drop-shadow(0px 1px 2px rgba(0, 0, 0, 0.3));\n",
              "      fill: #FFFFFF;\n",
              "    }\n",
              "  </style>\n",
              "\n",
              "      <script>\n",
              "        const buttonEl =\n",
              "          document.querySelector('#df-a68f2018-5bea-4364-8d01-38275abad597 button.colab-df-convert');\n",
              "        buttonEl.style.display =\n",
              "          google.colab.kernel.accessAllowed ? 'block' : 'none';\n",
              "\n",
              "        async function convertToInteractive(key) {\n",
              "          const element = document.querySelector('#df-a68f2018-5bea-4364-8d01-38275abad597');\n",
              "          const dataTable =\n",
              "            await google.colab.kernel.invokeFunction('convertToInteractive',\n",
              "                                                     [key], {});\n",
              "          if (!dataTable) return;\n",
              "\n",
              "          const docLinkHtml = 'Like what you see? Visit the ' +\n",
              "            '<a target=\"_blank\" href=https://colab.research.google.com/notebooks/data_table.ipynb>data table notebook</a>'\n",
              "            + ' to learn more about interactive tables.';\n",
              "          element.innerHTML = '';\n",
              "          dataTable['output_type'] = 'display_data';\n",
              "          await google.colab.output.renderOutput(dataTable, element);\n",
              "          const docLink = document.createElement('div');\n",
              "          docLink.innerHTML = docLinkHtml;\n",
              "          element.appendChild(docLink);\n",
              "        }\n",
              "      </script>\n",
              "    </div>\n",
              "  </div>\n",
              "  "
            ]
          },
          "metadata": {},
          "execution_count": 114
        }
      ]
    },
    {
      "cell_type": "code",
      "source": [
        "test_data = np.array([[0.490833, 0.861667, 0.364933]]) # label 12\n",
        "test_data = test_data.astype('float32')\n",
        "print(test_data.shape)\n",
        "print(test_data.dtype)"
      ],
      "metadata": {
        "colab": {
          "base_uri": "https://localhost:8080/"
        },
        "id": "7Pf9s-q0hDnC",
        "outputId": "5d74828c-d61c-48d7-aab7-03eef81ac6e0"
      },
      "execution_count": 115,
      "outputs": [
        {
          "output_type": "stream",
          "name": "stdout",
          "text": [
            "(1, 3)\n",
            "float32\n"
          ]
        }
      ]
    },
    {
      "cell_type": "code",
      "source": [
        "from sklearn import preprocessing \n",
        "\n",
        "# min max scaler\n",
        "min_max_scaler = preprocessing.MinMaxScaler(feature_range=(0,1))"
      ],
      "metadata": {
        "id": "u5R-VSe5hrlJ"
      },
      "execution_count": 116,
      "outputs": []
    },
    {
      "cell_type": "code",
      "source": [
        "df.iloc[:20]"
      ],
      "metadata": {
        "colab": {
          "base_uri": "https://localhost:8080/",
          "height": 677
        },
        "id": "fGBHXOhfi0km",
        "outputId": "197392da-fc49-4261-c771-8aee92ea363d"
      },
      "execution_count": 117,
      "outputs": [
        {
          "output_type": "execute_result",
          "data": {
            "text/plain": [
              "          Date      Time      ID   TDS  Light Intensity     pH  \\\n",
              "0   2022-05-20  17:10:55  40TWL4   700              424  5.041   \n",
              "1   2022-05-20  19:59:25  40TWL4  1042              827  5.935   \n",
              "2   2022-05-20  07:05:05  40TWL4   363              870  4.829   \n",
              "3   2022-05-20  18:38:35  40TWL4   706              593  6.720   \n",
              "4   2022-05-20  13:01:05  40TWL4  1390              547  5.956   \n",
              "5   2022-05-20  02:58:20  40TWL4   648              800  5.521   \n",
              "6   2022-05-20  17:11:10  40TWL4   705              445  4.317   \n",
              "7   2022-05-20  11:35:20  40TWL4   985              404  6.435   \n",
              "8   2022-05-20  15:47:25  40TWL4   436              531  5.671   \n",
              "9   2022-05-20  11:37:55  40TWL4   839              743  5.527   \n",
              "10  2022-05-20  11:14:10  40TWL4   669              467  6.824   \n",
              "11  2022-05-20  19:55:50  40TWL4  1140              909  6.278   \n",
              "12  2022-05-20  01:32:30  40TWL4  1136              927  7.513   \n",
              "13  2022-05-20  09:52:55  40TWL4   526              500  5.406   \n",
              "14  2022-05-20  04:20:40  40TWL4   767              807  5.223   \n",
              "15  2022-05-20  04:14:35  40TWL4   990              977  4.754   \n",
              "16  2022-05-20  15:49:35  40TWL4   303              587  5.748   \n",
              "17  2022-05-20  13:04:00  40TWL4  1500              493  5.924   \n",
              "18  2022-05-20  17:11:45  40TWL4   811              546  4.565   \n",
              "19  2022-05-20  09:55:20  40TWL4   679              412  4.015   \n",
              "\n",
              "    Air Temperature  Humidity     EC  Label  \n",
              "0                24        95  2.446      4  \n",
              "1                35        63  2.182      6  \n",
              "2                39        57  2.229     14  \n",
              "3                26        74  3.090      5  \n",
              "4                31        81  2.162      1  \n",
              "5                32         6  3.396     11  \n",
              "6                36        72  2.261      4  \n",
              "7                33        50  3.041      0  \n",
              "8                35         9  3.024      3  \n",
              "9                26        55  3.307      0  \n",
              "10               37         3  2.945     17  \n",
              "11               30        59  3.090      6  \n",
              "12               27        89  2.743     10  \n",
              "13               23        97  2.159     16  \n",
              "14               27        47  2.689     12  \n",
              "15               38         5  2.488     12  \n",
              "16               30        82  3.375      3  \n",
              "17               22        33  3.448      1  \n",
              "18               26       100  2.114      4  \n",
              "19               28         8  2.624     16  "
            ],
            "text/html": [
              "\n",
              "  <div id=\"df-079665ce-bb23-4fe1-92a7-e6b5b22147f3\">\n",
              "    <div class=\"colab-df-container\">\n",
              "      <div>\n",
              "<style scoped>\n",
              "    .dataframe tbody tr th:only-of-type {\n",
              "        vertical-align: middle;\n",
              "    }\n",
              "\n",
              "    .dataframe tbody tr th {\n",
              "        vertical-align: top;\n",
              "    }\n",
              "\n",
              "    .dataframe thead th {\n",
              "        text-align: right;\n",
              "    }\n",
              "</style>\n",
              "<table border=\"1\" class=\"dataframe\">\n",
              "  <thead>\n",
              "    <tr style=\"text-align: right;\">\n",
              "      <th></th>\n",
              "      <th>Date</th>\n",
              "      <th>Time</th>\n",
              "      <th>ID</th>\n",
              "      <th>TDS</th>\n",
              "      <th>Light Intensity</th>\n",
              "      <th>pH</th>\n",
              "      <th>Air Temperature</th>\n",
              "      <th>Humidity</th>\n",
              "      <th>EC</th>\n",
              "      <th>Label</th>\n",
              "    </tr>\n",
              "  </thead>\n",
              "  <tbody>\n",
              "    <tr>\n",
              "      <th>0</th>\n",
              "      <td>2022-05-20</td>\n",
              "      <td>17:10:55</td>\n",
              "      <td>40TWL4</td>\n",
              "      <td>700</td>\n",
              "      <td>424</td>\n",
              "      <td>5.041</td>\n",
              "      <td>24</td>\n",
              "      <td>95</td>\n",
              "      <td>2.446</td>\n",
              "      <td>4</td>\n",
              "    </tr>\n",
              "    <tr>\n",
              "      <th>1</th>\n",
              "      <td>2022-05-20</td>\n",
              "      <td>19:59:25</td>\n",
              "      <td>40TWL4</td>\n",
              "      <td>1042</td>\n",
              "      <td>827</td>\n",
              "      <td>5.935</td>\n",
              "      <td>35</td>\n",
              "      <td>63</td>\n",
              "      <td>2.182</td>\n",
              "      <td>6</td>\n",
              "    </tr>\n",
              "    <tr>\n",
              "      <th>2</th>\n",
              "      <td>2022-05-20</td>\n",
              "      <td>07:05:05</td>\n",
              "      <td>40TWL4</td>\n",
              "      <td>363</td>\n",
              "      <td>870</td>\n",
              "      <td>4.829</td>\n",
              "      <td>39</td>\n",
              "      <td>57</td>\n",
              "      <td>2.229</td>\n",
              "      <td>14</td>\n",
              "    </tr>\n",
              "    <tr>\n",
              "      <th>3</th>\n",
              "      <td>2022-05-20</td>\n",
              "      <td>18:38:35</td>\n",
              "      <td>40TWL4</td>\n",
              "      <td>706</td>\n",
              "      <td>593</td>\n",
              "      <td>6.720</td>\n",
              "      <td>26</td>\n",
              "      <td>74</td>\n",
              "      <td>3.090</td>\n",
              "      <td>5</td>\n",
              "    </tr>\n",
              "    <tr>\n",
              "      <th>4</th>\n",
              "      <td>2022-05-20</td>\n",
              "      <td>13:01:05</td>\n",
              "      <td>40TWL4</td>\n",
              "      <td>1390</td>\n",
              "      <td>547</td>\n",
              "      <td>5.956</td>\n",
              "      <td>31</td>\n",
              "      <td>81</td>\n",
              "      <td>2.162</td>\n",
              "      <td>1</td>\n",
              "    </tr>\n",
              "    <tr>\n",
              "      <th>5</th>\n",
              "      <td>2022-05-20</td>\n",
              "      <td>02:58:20</td>\n",
              "      <td>40TWL4</td>\n",
              "      <td>648</td>\n",
              "      <td>800</td>\n",
              "      <td>5.521</td>\n",
              "      <td>32</td>\n",
              "      <td>6</td>\n",
              "      <td>3.396</td>\n",
              "      <td>11</td>\n",
              "    </tr>\n",
              "    <tr>\n",
              "      <th>6</th>\n",
              "      <td>2022-05-20</td>\n",
              "      <td>17:11:10</td>\n",
              "      <td>40TWL4</td>\n",
              "      <td>705</td>\n",
              "      <td>445</td>\n",
              "      <td>4.317</td>\n",
              "      <td>36</td>\n",
              "      <td>72</td>\n",
              "      <td>2.261</td>\n",
              "      <td>4</td>\n",
              "    </tr>\n",
              "    <tr>\n",
              "      <th>7</th>\n",
              "      <td>2022-05-20</td>\n",
              "      <td>11:35:20</td>\n",
              "      <td>40TWL4</td>\n",
              "      <td>985</td>\n",
              "      <td>404</td>\n",
              "      <td>6.435</td>\n",
              "      <td>33</td>\n",
              "      <td>50</td>\n",
              "      <td>3.041</td>\n",
              "      <td>0</td>\n",
              "    </tr>\n",
              "    <tr>\n",
              "      <th>8</th>\n",
              "      <td>2022-05-20</td>\n",
              "      <td>15:47:25</td>\n",
              "      <td>40TWL4</td>\n",
              "      <td>436</td>\n",
              "      <td>531</td>\n",
              "      <td>5.671</td>\n",
              "      <td>35</td>\n",
              "      <td>9</td>\n",
              "      <td>3.024</td>\n",
              "      <td>3</td>\n",
              "    </tr>\n",
              "    <tr>\n",
              "      <th>9</th>\n",
              "      <td>2022-05-20</td>\n",
              "      <td>11:37:55</td>\n",
              "      <td>40TWL4</td>\n",
              "      <td>839</td>\n",
              "      <td>743</td>\n",
              "      <td>5.527</td>\n",
              "      <td>26</td>\n",
              "      <td>55</td>\n",
              "      <td>3.307</td>\n",
              "      <td>0</td>\n",
              "    </tr>\n",
              "    <tr>\n",
              "      <th>10</th>\n",
              "      <td>2022-05-20</td>\n",
              "      <td>11:14:10</td>\n",
              "      <td>40TWL4</td>\n",
              "      <td>669</td>\n",
              "      <td>467</td>\n",
              "      <td>6.824</td>\n",
              "      <td>37</td>\n",
              "      <td>3</td>\n",
              "      <td>2.945</td>\n",
              "      <td>17</td>\n",
              "    </tr>\n",
              "    <tr>\n",
              "      <th>11</th>\n",
              "      <td>2022-05-20</td>\n",
              "      <td>19:55:50</td>\n",
              "      <td>40TWL4</td>\n",
              "      <td>1140</td>\n",
              "      <td>909</td>\n",
              "      <td>6.278</td>\n",
              "      <td>30</td>\n",
              "      <td>59</td>\n",
              "      <td>3.090</td>\n",
              "      <td>6</td>\n",
              "    </tr>\n",
              "    <tr>\n",
              "      <th>12</th>\n",
              "      <td>2022-05-20</td>\n",
              "      <td>01:32:30</td>\n",
              "      <td>40TWL4</td>\n",
              "      <td>1136</td>\n",
              "      <td>927</td>\n",
              "      <td>7.513</td>\n",
              "      <td>27</td>\n",
              "      <td>89</td>\n",
              "      <td>2.743</td>\n",
              "      <td>10</td>\n",
              "    </tr>\n",
              "    <tr>\n",
              "      <th>13</th>\n",
              "      <td>2022-05-20</td>\n",
              "      <td>09:52:55</td>\n",
              "      <td>40TWL4</td>\n",
              "      <td>526</td>\n",
              "      <td>500</td>\n",
              "      <td>5.406</td>\n",
              "      <td>23</td>\n",
              "      <td>97</td>\n",
              "      <td>2.159</td>\n",
              "      <td>16</td>\n",
              "    </tr>\n",
              "    <tr>\n",
              "      <th>14</th>\n",
              "      <td>2022-05-20</td>\n",
              "      <td>04:20:40</td>\n",
              "      <td>40TWL4</td>\n",
              "      <td>767</td>\n",
              "      <td>807</td>\n",
              "      <td>5.223</td>\n",
              "      <td>27</td>\n",
              "      <td>47</td>\n",
              "      <td>2.689</td>\n",
              "      <td>12</td>\n",
              "    </tr>\n",
              "    <tr>\n",
              "      <th>15</th>\n",
              "      <td>2022-05-20</td>\n",
              "      <td>04:14:35</td>\n",
              "      <td>40TWL4</td>\n",
              "      <td>990</td>\n",
              "      <td>977</td>\n",
              "      <td>4.754</td>\n",
              "      <td>38</td>\n",
              "      <td>5</td>\n",
              "      <td>2.488</td>\n",
              "      <td>12</td>\n",
              "    </tr>\n",
              "    <tr>\n",
              "      <th>16</th>\n",
              "      <td>2022-05-20</td>\n",
              "      <td>15:49:35</td>\n",
              "      <td>40TWL4</td>\n",
              "      <td>303</td>\n",
              "      <td>587</td>\n",
              "      <td>5.748</td>\n",
              "      <td>30</td>\n",
              "      <td>82</td>\n",
              "      <td>3.375</td>\n",
              "      <td>3</td>\n",
              "    </tr>\n",
              "    <tr>\n",
              "      <th>17</th>\n",
              "      <td>2022-05-20</td>\n",
              "      <td>13:04:00</td>\n",
              "      <td>40TWL4</td>\n",
              "      <td>1500</td>\n",
              "      <td>493</td>\n",
              "      <td>5.924</td>\n",
              "      <td>22</td>\n",
              "      <td>33</td>\n",
              "      <td>3.448</td>\n",
              "      <td>1</td>\n",
              "    </tr>\n",
              "    <tr>\n",
              "      <th>18</th>\n",
              "      <td>2022-05-20</td>\n",
              "      <td>17:11:45</td>\n",
              "      <td>40TWL4</td>\n",
              "      <td>811</td>\n",
              "      <td>546</td>\n",
              "      <td>4.565</td>\n",
              "      <td>26</td>\n",
              "      <td>100</td>\n",
              "      <td>2.114</td>\n",
              "      <td>4</td>\n",
              "    </tr>\n",
              "    <tr>\n",
              "      <th>19</th>\n",
              "      <td>2022-05-20</td>\n",
              "      <td>09:55:20</td>\n",
              "      <td>40TWL4</td>\n",
              "      <td>679</td>\n",
              "      <td>412</td>\n",
              "      <td>4.015</td>\n",
              "      <td>28</td>\n",
              "      <td>8</td>\n",
              "      <td>2.624</td>\n",
              "      <td>16</td>\n",
              "    </tr>\n",
              "  </tbody>\n",
              "</table>\n",
              "</div>\n",
              "      <button class=\"colab-df-convert\" onclick=\"convertToInteractive('df-079665ce-bb23-4fe1-92a7-e6b5b22147f3')\"\n",
              "              title=\"Convert this dataframe to an interactive table.\"\n",
              "              style=\"display:none;\">\n",
              "        \n",
              "  <svg xmlns=\"http://www.w3.org/2000/svg\" height=\"24px\"viewBox=\"0 0 24 24\"\n",
              "       width=\"24px\">\n",
              "    <path d=\"M0 0h24v24H0V0z\" fill=\"none\"/>\n",
              "    <path d=\"M18.56 5.44l.94 2.06.94-2.06 2.06-.94-2.06-.94-.94-2.06-.94 2.06-2.06.94zm-11 1L8.5 8.5l.94-2.06 2.06-.94-2.06-.94L8.5 2.5l-.94 2.06-2.06.94zm10 10l.94 2.06.94-2.06 2.06-.94-2.06-.94-.94-2.06-.94 2.06-2.06.94z\"/><path d=\"M17.41 7.96l-1.37-1.37c-.4-.4-.92-.59-1.43-.59-.52 0-1.04.2-1.43.59L10.3 9.45l-7.72 7.72c-.78.78-.78 2.05 0 2.83L4 21.41c.39.39.9.59 1.41.59.51 0 1.02-.2 1.41-.59l7.78-7.78 2.81-2.81c.8-.78.8-2.07 0-2.86zM5.41 20L4 18.59l7.72-7.72 1.47 1.35L5.41 20z\"/>\n",
              "  </svg>\n",
              "      </button>\n",
              "      \n",
              "  <style>\n",
              "    .colab-df-container {\n",
              "      display:flex;\n",
              "      flex-wrap:wrap;\n",
              "      gap: 12px;\n",
              "    }\n",
              "\n",
              "    .colab-df-convert {\n",
              "      background-color: #E8F0FE;\n",
              "      border: none;\n",
              "      border-radius: 50%;\n",
              "      cursor: pointer;\n",
              "      display: none;\n",
              "      fill: #1967D2;\n",
              "      height: 32px;\n",
              "      padding: 0 0 0 0;\n",
              "      width: 32px;\n",
              "    }\n",
              "\n",
              "    .colab-df-convert:hover {\n",
              "      background-color: #E2EBFA;\n",
              "      box-shadow: 0px 1px 2px rgba(60, 64, 67, 0.3), 0px 1px 3px 1px rgba(60, 64, 67, 0.15);\n",
              "      fill: #174EA6;\n",
              "    }\n",
              "\n",
              "    [theme=dark] .colab-df-convert {\n",
              "      background-color: #3B4455;\n",
              "      fill: #D2E3FC;\n",
              "    }\n",
              "\n",
              "    [theme=dark] .colab-df-convert:hover {\n",
              "      background-color: #434B5C;\n",
              "      box-shadow: 0px 1px 3px 1px rgba(0, 0, 0, 0.15);\n",
              "      filter: drop-shadow(0px 1px 2px rgba(0, 0, 0, 0.3));\n",
              "      fill: #FFFFFF;\n",
              "    }\n",
              "  </style>\n",
              "\n",
              "      <script>\n",
              "        const buttonEl =\n",
              "          document.querySelector('#df-079665ce-bb23-4fe1-92a7-e6b5b22147f3 button.colab-df-convert');\n",
              "        buttonEl.style.display =\n",
              "          google.colab.kernel.accessAllowed ? 'block' : 'none';\n",
              "\n",
              "        async function convertToInteractive(key) {\n",
              "          const element = document.querySelector('#df-079665ce-bb23-4fe1-92a7-e6b5b22147f3');\n",
              "          const dataTable =\n",
              "            await google.colab.kernel.invokeFunction('convertToInteractive',\n",
              "                                                     [key], {});\n",
              "          if (!dataTable) return;\n",
              "\n",
              "          const docLinkHtml = 'Like what you see? Visit the ' +\n",
              "            '<a target=\"_blank\" href=https://colab.research.google.com/notebooks/data_table.ipynb>data table notebook</a>'\n",
              "            + ' to learn more about interactive tables.';\n",
              "          element.innerHTML = '';\n",
              "          dataTable['output_type'] = 'display_data';\n",
              "          await google.colab.output.renderOutput(dataTable, element);\n",
              "          const docLink = document.createElement('div');\n",
              "          docLink.innerHTML = docLinkHtml;\n",
              "          element.appendChild(docLink);\n",
              "        }\n",
              "      </script>\n",
              "    </div>\n",
              "  </div>\n",
              "  "
            ]
          },
          "metadata": {},
          "execution_count": 117
        }
      ]
    },
    {
      "cell_type": "code",
      "source": [
        "# classify the parameters\n",
        "counter = 0\n",
        "number_of_data = df.iloc[:20]\n",
        "iterate = number_of_data.iterrows()\n",
        "\n",
        "for i, data in iterate:\n",
        "  row = [data['TDS'], data['Light Intensity'], data['pH']]\n",
        "\n",
        "  # normalize input\n",
        "  norm_row = min_max_scaler.fit_transform([row])\n",
        "  norm_row = np.array(norm_row)\n",
        "  norm_row = norm_row.astype('float32')\n",
        "  # norm_row = np.array([[0.556667, 0.458333, 0.40550]]) # label 12\n",
        "  # norm_row = test_data.astype('float32')\n",
        "\n",
        "  time_start = time.time()\n",
        "  prediction = classify_data(interpreter, norm_row)\n",
        "  time_finish = time.time()\n",
        "  classification_time = np.round(time_finish-time_start, 5)\n",
        "  \n",
        "  if data['Label'] == argmax(prediction):\n",
        "    print(\"TRUE\")\n",
        "    counter = counter + 1\n",
        "    print(f\"Actual label is {str(data['Label'])}\")\n",
        "    print(\"Predicted label is : \", argmax(prediction))\n",
        "    print(f'Classification time = {classification_time} seconds')\n",
        "    print()  \n",
        "\n",
        "print(f\"{counter} correct prediction from {len(number_of_data)} iteration\")"
      ],
      "metadata": {
        "colab": {
          "base_uri": "https://localhost:8080/"
        },
        "id": "HYASYIrXg17g",
        "outputId": "4f3dd17c-f0e8-4b83-b37b-a4ab3a4bfaa1"
      },
      "execution_count": 127,
      "outputs": [
        {
          "output_type": "stream",
          "name": "stdout",
          "text": [
            "TRUE\n",
            "Actual label is 16\n",
            "Predicted label is :  16\n",
            "Classification time = 5e-05 seconds\n",
            "\n",
            "TRUE\n",
            "Actual label is 16\n",
            "Predicted label is :  16\n",
            "Classification time = 6e-05 seconds\n",
            "\n",
            "2 correct prediction from 20 iteration\n"
          ]
        }
      ]
    }
  ]
}