{
  "nbformat": 4,
  "nbformat_minor": 0,
  "metadata": {
    "colab": {
      "name": "SavedModel_HydroMon.ipynb",
      "provenance": [],
      "collapsed_sections": [],
      "include_colab_link": true
    },
    "kernelspec": {
      "name": "python3",
      "display_name": "Python 3"
    },
    "language_info": {
      "name": "python"
    }
  },
  "cells": [
    {
      "cell_type": "markdown",
      "metadata": {
        "id": "view-in-github",
        "colab_type": "text"
      },
      "source": [
        "<a href=\"https://colab.research.google.com/github/yoursemicolon/hydromon-machine-learning/blob/main/notebook/SavedModel_HydroMon.ipynb\" target=\"_parent\"><img src=\"https://colab.research.google.com/assets/colab-badge.svg\" alt=\"Open In Colab\"/></a>"
      ]
    },
    {
      "cell_type": "markdown",
      "source": [
        "# **Predict control action in hydroponic system**\n",
        "## **Multiclass Classification**\n",
        "\n",
        "Multiclass classification are those predictive modeling problems where examples are assigned one or more than two classes. The problem here is to predict numeric value from hydroponic parameters, where each class is assigned a unique integer value as the label from 0 to 17. The goal is to predict the probability of the example belonging to each known class."
      ],
      "metadata": {
        "id": "1hlGOoibYUb7"
      }
    },
    {
      "cell_type": "markdown",
      "source": [
        "## **Label and Action**\n",
        "\n",
        "\n",
        "\n",
        "*   Label 0 : No action\n",
        "*   Label 1 : Pump Water\n",
        "* Label 2 : Light On\n",
        "* Label 3 : Pump Nutrient\n",
        "* Label 4 : pH Up\n",
        "* Label 5 : pH Down\n",
        "* Label 6 : Pump Water + Light On\n",
        "* Label 7 : Pump Water + pH Up\n",
        "* Label 8 : Pump Water + pH Down\n",
        "* Label 9 : Pump Water + Light On + pH Up\n",
        "* Label 10 : Pump Water + Light On + pH Down\n",
        "* Label 11 : Light On + Pump Nutrient\n",
        "* Label 12 : Light On + pH Up\n",
        "* Label 13 : Light On + pH Down\n",
        "* Label 14 : Light On + Pump Nutrient + pH Up\n",
        "* Label 15 : Light On + Pump Nutrient + pH Down\n",
        "* Label 16 : Pump Nutrient + pH Up\n",
        "* Label 17 : Pump Nutrient + pH Down\n",
        "\n",
        "\n",
        "\n"
      ],
      "metadata": {
        "id": "8bB19x0MZG3I"
      }
    },
    {
      "cell_type": "markdown",
      "source": [
        "# **Import Library**"
      ],
      "metadata": {
        "id": "h8R3htWRXqOG"
      }
    },
    {
      "cell_type": "code",
      "source": [
        "import os\n",
        "import numpy as np\n",
        "import tensorflow as tf\n",
        "from tensorflow.keras import Sequential\n",
        "from tensorflow.keras.layers import Dense, Flatten\n",
        "\n",
        "print(tf.__version__)"
      ],
      "metadata": {
        "id": "jvKCQPoVXt6m",
        "colab": {
          "base_uri": "https://localhost:8080/"
        },
        "outputId": "44b4e422-2e64-43c6-f899-cd37eb70e1f7"
      },
      "execution_count": 2,
      "outputs": [
        {
          "output_type": "stream",
          "name": "stdout",
          "text": [
            "2.8.2\n"
          ]
        }
      ]
    },
    {
      "cell_type": "markdown",
      "source": [
        "## **Load Data**"
      ],
      "metadata": {
        "id": "NUM3qiJjXGGW"
      }
    },
    {
      "cell_type": "code",
      "source": [
        "import pandas as pd\n",
        "import requests\n",
        "from bs4 import BeautifulSoup, SoupStrainer\n",
        "\n",
        "html = requests.get('https://github.com/HydroMon/hydromon-machine-learning/tree/main/dataset/ver2_training')\n",
        "\n",
        "dfs = []\n",
        "for link in BeautifulSoup(html.text, parse_only=SoupStrainer('a')):\n",
        "    if hasattr(link, 'href') and link['href'].endswith('.csv'):\n",
        "        url = 'https://github.com'+ link['href'].replace('/blob/', '/raw/')\n",
        "        dfs.append(pd.read_csv(url))\n",
        "df = pd.concat(dfs)\n",
        "\n",
        "df"
      ],
      "metadata": {
        "colab": {
          "base_uri": "https://localhost:8080/",
          "height": 424
        },
        "id": "OGkgfTzurnRT",
        "outputId": "b6d201d3-b489-4f4d-aac7-ce7aff23b14b"
      },
      "execution_count": 3,
      "outputs": [
        {
          "output_type": "execute_result",
          "data": {
            "text/plain": [
              "           Date      Time      ID   TDS  Light Intensity     pH  \\\n",
              "0    2022-05-20  11:34:05  40TWL4   993              689  6.268   \n",
              "1    2022-05-20  11:34:10  40TWL4   735              462  6.044   \n",
              "2    2022-05-20  11:34:15  40TWL4   750              778  5.599   \n",
              "3    2022-05-20  11:34:20  40TWL4   934              491  6.090   \n",
              "4    2022-05-20  11:34:25  40TWL4   769              754  6.253   \n",
              "..          ...       ...     ...   ...              ...    ...   \n",
              "995  2022-05-20  01:27:00  40TWL4  1378              880  4.014   \n",
              "996  2022-05-20  01:27:05  40TWL4  1023              846  4.585   \n",
              "997  2022-05-20  01:27:10  40TWL4  1219              969  4.728   \n",
              "998  2022-05-20  01:27:15  40TWL4  1019              866  5.272   \n",
              "999  2022-05-20  01:27:20  40TWL4  1053              907  5.326   \n",
              "\n",
              "     Air Temperature  Humidity     EC  Label  \n",
              "0                 31        98  2.248      0  \n",
              "1                 27        46  2.887      0  \n",
              "2                 38        53  2.953      0  \n",
              "3                 38        45  2.114      0  \n",
              "4                 28        27  3.499      0  \n",
              "..               ...       ...    ...    ...  \n",
              "995               29        19  3.097      9  \n",
              "996               23        78  3.117      9  \n",
              "997               38        87  2.850      9  \n",
              "998               20        23  3.179      9  \n",
              "999               24        41  3.189      9  \n",
              "\n",
              "[18000 rows x 10 columns]"
            ],
            "text/html": [
              "\n",
              "  <div id=\"df-d404252b-3ffc-476b-a591-770a1e28cab5\">\n",
              "    <div class=\"colab-df-container\">\n",
              "      <div>\n",
              "<style scoped>\n",
              "    .dataframe tbody tr th:only-of-type {\n",
              "        vertical-align: middle;\n",
              "    }\n",
              "\n",
              "    .dataframe tbody tr th {\n",
              "        vertical-align: top;\n",
              "    }\n",
              "\n",
              "    .dataframe thead th {\n",
              "        text-align: right;\n",
              "    }\n",
              "</style>\n",
              "<table border=\"1\" class=\"dataframe\">\n",
              "  <thead>\n",
              "    <tr style=\"text-align: right;\">\n",
              "      <th></th>\n",
              "      <th>Date</th>\n",
              "      <th>Time</th>\n",
              "      <th>ID</th>\n",
              "      <th>TDS</th>\n",
              "      <th>Light Intensity</th>\n",
              "      <th>pH</th>\n",
              "      <th>Air Temperature</th>\n",
              "      <th>Humidity</th>\n",
              "      <th>EC</th>\n",
              "      <th>Label</th>\n",
              "    </tr>\n",
              "  </thead>\n",
              "  <tbody>\n",
              "    <tr>\n",
              "      <th>0</th>\n",
              "      <td>2022-05-20</td>\n",
              "      <td>11:34:05</td>\n",
              "      <td>40TWL4</td>\n",
              "      <td>993</td>\n",
              "      <td>689</td>\n",
              "      <td>6.268</td>\n",
              "      <td>31</td>\n",
              "      <td>98</td>\n",
              "      <td>2.248</td>\n",
              "      <td>0</td>\n",
              "    </tr>\n",
              "    <tr>\n",
              "      <th>1</th>\n",
              "      <td>2022-05-20</td>\n",
              "      <td>11:34:10</td>\n",
              "      <td>40TWL4</td>\n",
              "      <td>735</td>\n",
              "      <td>462</td>\n",
              "      <td>6.044</td>\n",
              "      <td>27</td>\n",
              "      <td>46</td>\n",
              "      <td>2.887</td>\n",
              "      <td>0</td>\n",
              "    </tr>\n",
              "    <tr>\n",
              "      <th>2</th>\n",
              "      <td>2022-05-20</td>\n",
              "      <td>11:34:15</td>\n",
              "      <td>40TWL4</td>\n",
              "      <td>750</td>\n",
              "      <td>778</td>\n",
              "      <td>5.599</td>\n",
              "      <td>38</td>\n",
              "      <td>53</td>\n",
              "      <td>2.953</td>\n",
              "      <td>0</td>\n",
              "    </tr>\n",
              "    <tr>\n",
              "      <th>3</th>\n",
              "      <td>2022-05-20</td>\n",
              "      <td>11:34:20</td>\n",
              "      <td>40TWL4</td>\n",
              "      <td>934</td>\n",
              "      <td>491</td>\n",
              "      <td>6.090</td>\n",
              "      <td>38</td>\n",
              "      <td>45</td>\n",
              "      <td>2.114</td>\n",
              "      <td>0</td>\n",
              "    </tr>\n",
              "    <tr>\n",
              "      <th>4</th>\n",
              "      <td>2022-05-20</td>\n",
              "      <td>11:34:25</td>\n",
              "      <td>40TWL4</td>\n",
              "      <td>769</td>\n",
              "      <td>754</td>\n",
              "      <td>6.253</td>\n",
              "      <td>28</td>\n",
              "      <td>27</td>\n",
              "      <td>3.499</td>\n",
              "      <td>0</td>\n",
              "    </tr>\n",
              "    <tr>\n",
              "      <th>...</th>\n",
              "      <td>...</td>\n",
              "      <td>...</td>\n",
              "      <td>...</td>\n",
              "      <td>...</td>\n",
              "      <td>...</td>\n",
              "      <td>...</td>\n",
              "      <td>...</td>\n",
              "      <td>...</td>\n",
              "      <td>...</td>\n",
              "      <td>...</td>\n",
              "    </tr>\n",
              "    <tr>\n",
              "      <th>995</th>\n",
              "      <td>2022-05-20</td>\n",
              "      <td>01:27:00</td>\n",
              "      <td>40TWL4</td>\n",
              "      <td>1378</td>\n",
              "      <td>880</td>\n",
              "      <td>4.014</td>\n",
              "      <td>29</td>\n",
              "      <td>19</td>\n",
              "      <td>3.097</td>\n",
              "      <td>9</td>\n",
              "    </tr>\n",
              "    <tr>\n",
              "      <th>996</th>\n",
              "      <td>2022-05-20</td>\n",
              "      <td>01:27:05</td>\n",
              "      <td>40TWL4</td>\n",
              "      <td>1023</td>\n",
              "      <td>846</td>\n",
              "      <td>4.585</td>\n",
              "      <td>23</td>\n",
              "      <td>78</td>\n",
              "      <td>3.117</td>\n",
              "      <td>9</td>\n",
              "    </tr>\n",
              "    <tr>\n",
              "      <th>997</th>\n",
              "      <td>2022-05-20</td>\n",
              "      <td>01:27:10</td>\n",
              "      <td>40TWL4</td>\n",
              "      <td>1219</td>\n",
              "      <td>969</td>\n",
              "      <td>4.728</td>\n",
              "      <td>38</td>\n",
              "      <td>87</td>\n",
              "      <td>2.850</td>\n",
              "      <td>9</td>\n",
              "    </tr>\n",
              "    <tr>\n",
              "      <th>998</th>\n",
              "      <td>2022-05-20</td>\n",
              "      <td>01:27:15</td>\n",
              "      <td>40TWL4</td>\n",
              "      <td>1019</td>\n",
              "      <td>866</td>\n",
              "      <td>5.272</td>\n",
              "      <td>20</td>\n",
              "      <td>23</td>\n",
              "      <td>3.179</td>\n",
              "      <td>9</td>\n",
              "    </tr>\n",
              "    <tr>\n",
              "      <th>999</th>\n",
              "      <td>2022-05-20</td>\n",
              "      <td>01:27:20</td>\n",
              "      <td>40TWL4</td>\n",
              "      <td>1053</td>\n",
              "      <td>907</td>\n",
              "      <td>5.326</td>\n",
              "      <td>24</td>\n",
              "      <td>41</td>\n",
              "      <td>3.189</td>\n",
              "      <td>9</td>\n",
              "    </tr>\n",
              "  </tbody>\n",
              "</table>\n",
              "<p>18000 rows × 10 columns</p>\n",
              "</div>\n",
              "      <button class=\"colab-df-convert\" onclick=\"convertToInteractive('df-d404252b-3ffc-476b-a591-770a1e28cab5')\"\n",
              "              title=\"Convert this dataframe to an interactive table.\"\n",
              "              style=\"display:none;\">\n",
              "        \n",
              "  <svg xmlns=\"http://www.w3.org/2000/svg\" height=\"24px\"viewBox=\"0 0 24 24\"\n",
              "       width=\"24px\">\n",
              "    <path d=\"M0 0h24v24H0V0z\" fill=\"none\"/>\n",
              "    <path d=\"M18.56 5.44l.94 2.06.94-2.06 2.06-.94-2.06-.94-.94-2.06-.94 2.06-2.06.94zm-11 1L8.5 8.5l.94-2.06 2.06-.94-2.06-.94L8.5 2.5l-.94 2.06-2.06.94zm10 10l.94 2.06.94-2.06 2.06-.94-2.06-.94-.94-2.06-.94 2.06-2.06.94z\"/><path d=\"M17.41 7.96l-1.37-1.37c-.4-.4-.92-.59-1.43-.59-.52 0-1.04.2-1.43.59L10.3 9.45l-7.72 7.72c-.78.78-.78 2.05 0 2.83L4 21.41c.39.39.9.59 1.41.59.51 0 1.02-.2 1.41-.59l7.78-7.78 2.81-2.81c.8-.78.8-2.07 0-2.86zM5.41 20L4 18.59l7.72-7.72 1.47 1.35L5.41 20z\"/>\n",
              "  </svg>\n",
              "      </button>\n",
              "      \n",
              "  <style>\n",
              "    .colab-df-container {\n",
              "      display:flex;\n",
              "      flex-wrap:wrap;\n",
              "      gap: 12px;\n",
              "    }\n",
              "\n",
              "    .colab-df-convert {\n",
              "      background-color: #E8F0FE;\n",
              "      border: none;\n",
              "      border-radius: 50%;\n",
              "      cursor: pointer;\n",
              "      display: none;\n",
              "      fill: #1967D2;\n",
              "      height: 32px;\n",
              "      padding: 0 0 0 0;\n",
              "      width: 32px;\n",
              "    }\n",
              "\n",
              "    .colab-df-convert:hover {\n",
              "      background-color: #E2EBFA;\n",
              "      box-shadow: 0px 1px 2px rgba(60, 64, 67, 0.3), 0px 1px 3px 1px rgba(60, 64, 67, 0.15);\n",
              "      fill: #174EA6;\n",
              "    }\n",
              "\n",
              "    [theme=dark] .colab-df-convert {\n",
              "      background-color: #3B4455;\n",
              "      fill: #D2E3FC;\n",
              "    }\n",
              "\n",
              "    [theme=dark] .colab-df-convert:hover {\n",
              "      background-color: #434B5C;\n",
              "      box-shadow: 0px 1px 3px 1px rgba(0, 0, 0, 0.15);\n",
              "      filter: drop-shadow(0px 1px 2px rgba(0, 0, 0, 0.3));\n",
              "      fill: #FFFFFF;\n",
              "    }\n",
              "  </style>\n",
              "\n",
              "      <script>\n",
              "        const buttonEl =\n",
              "          document.querySelector('#df-d404252b-3ffc-476b-a591-770a1e28cab5 button.colab-df-convert');\n",
              "        buttonEl.style.display =\n",
              "          google.colab.kernel.accessAllowed ? 'block' : 'none';\n",
              "\n",
              "        async function convertToInteractive(key) {\n",
              "          const element = document.querySelector('#df-d404252b-3ffc-476b-a591-770a1e28cab5');\n",
              "          const dataTable =\n",
              "            await google.colab.kernel.invokeFunction('convertToInteractive',\n",
              "                                                     [key], {});\n",
              "          if (!dataTable) return;\n",
              "\n",
              "          const docLinkHtml = 'Like what you see? Visit the ' +\n",
              "            '<a target=\"_blank\" href=https://colab.research.google.com/notebooks/data_table.ipynb>data table notebook</a>'\n",
              "            + ' to learn more about interactive tables.';\n",
              "          element.innerHTML = '';\n",
              "          dataTable['output_type'] = 'display_data';\n",
              "          await google.colab.output.renderOutput(dataTable, element);\n",
              "          const docLink = document.createElement('div');\n",
              "          docLink.innerHTML = docLinkHtml;\n",
              "          element.appendChild(docLink);\n",
              "        }\n",
              "      </script>\n",
              "    </div>\n",
              "  </div>\n",
              "  "
            ]
          },
          "metadata": {},
          "execution_count": 3
        }
      ]
    },
    {
      "cell_type": "code",
      "source": [
        "# use certain features only\n",
        "df = df.loc[:, [\"TDS\", \"Light Intensity\", \"pH\", \"Label\"]]\n",
        "df "
      ],
      "metadata": {
        "colab": {
          "base_uri": "https://localhost:8080/",
          "height": 424
        },
        "id": "NmctZQFYwbmd",
        "outputId": "bc6b553e-45af-45df-c5dd-f05ea1d390bd"
      },
      "execution_count": 4,
      "outputs": [
        {
          "output_type": "execute_result",
          "data": {
            "text/plain": [
              "      TDS  Light Intensity     pH  Label\n",
              "0     993              689  6.268      0\n",
              "1     735              462  6.044      0\n",
              "2     750              778  5.599      0\n",
              "3     934              491  6.090      0\n",
              "4     769              754  6.253      0\n",
              "..    ...              ...    ...    ...\n",
              "995  1378              880  4.014      9\n",
              "996  1023              846  4.585      9\n",
              "997  1219              969  4.728      9\n",
              "998  1019              866  5.272      9\n",
              "999  1053              907  5.326      9\n",
              "\n",
              "[18000 rows x 4 columns]"
            ],
            "text/html": [
              "\n",
              "  <div id=\"df-70d24558-8ee5-4323-b54d-cecbca4b73f2\">\n",
              "    <div class=\"colab-df-container\">\n",
              "      <div>\n",
              "<style scoped>\n",
              "    .dataframe tbody tr th:only-of-type {\n",
              "        vertical-align: middle;\n",
              "    }\n",
              "\n",
              "    .dataframe tbody tr th {\n",
              "        vertical-align: top;\n",
              "    }\n",
              "\n",
              "    .dataframe thead th {\n",
              "        text-align: right;\n",
              "    }\n",
              "</style>\n",
              "<table border=\"1\" class=\"dataframe\">\n",
              "  <thead>\n",
              "    <tr style=\"text-align: right;\">\n",
              "      <th></th>\n",
              "      <th>TDS</th>\n",
              "      <th>Light Intensity</th>\n",
              "      <th>pH</th>\n",
              "      <th>Label</th>\n",
              "    </tr>\n",
              "  </thead>\n",
              "  <tbody>\n",
              "    <tr>\n",
              "      <th>0</th>\n",
              "      <td>993</td>\n",
              "      <td>689</td>\n",
              "      <td>6.268</td>\n",
              "      <td>0</td>\n",
              "    </tr>\n",
              "    <tr>\n",
              "      <th>1</th>\n",
              "      <td>735</td>\n",
              "      <td>462</td>\n",
              "      <td>6.044</td>\n",
              "      <td>0</td>\n",
              "    </tr>\n",
              "    <tr>\n",
              "      <th>2</th>\n",
              "      <td>750</td>\n",
              "      <td>778</td>\n",
              "      <td>5.599</td>\n",
              "      <td>0</td>\n",
              "    </tr>\n",
              "    <tr>\n",
              "      <th>3</th>\n",
              "      <td>934</td>\n",
              "      <td>491</td>\n",
              "      <td>6.090</td>\n",
              "      <td>0</td>\n",
              "    </tr>\n",
              "    <tr>\n",
              "      <th>4</th>\n",
              "      <td>769</td>\n",
              "      <td>754</td>\n",
              "      <td>6.253</td>\n",
              "      <td>0</td>\n",
              "    </tr>\n",
              "    <tr>\n",
              "      <th>...</th>\n",
              "      <td>...</td>\n",
              "      <td>...</td>\n",
              "      <td>...</td>\n",
              "      <td>...</td>\n",
              "    </tr>\n",
              "    <tr>\n",
              "      <th>995</th>\n",
              "      <td>1378</td>\n",
              "      <td>880</td>\n",
              "      <td>4.014</td>\n",
              "      <td>9</td>\n",
              "    </tr>\n",
              "    <tr>\n",
              "      <th>996</th>\n",
              "      <td>1023</td>\n",
              "      <td>846</td>\n",
              "      <td>4.585</td>\n",
              "      <td>9</td>\n",
              "    </tr>\n",
              "    <tr>\n",
              "      <th>997</th>\n",
              "      <td>1219</td>\n",
              "      <td>969</td>\n",
              "      <td>4.728</td>\n",
              "      <td>9</td>\n",
              "    </tr>\n",
              "    <tr>\n",
              "      <th>998</th>\n",
              "      <td>1019</td>\n",
              "      <td>866</td>\n",
              "      <td>5.272</td>\n",
              "      <td>9</td>\n",
              "    </tr>\n",
              "    <tr>\n",
              "      <th>999</th>\n",
              "      <td>1053</td>\n",
              "      <td>907</td>\n",
              "      <td>5.326</td>\n",
              "      <td>9</td>\n",
              "    </tr>\n",
              "  </tbody>\n",
              "</table>\n",
              "<p>18000 rows × 4 columns</p>\n",
              "</div>\n",
              "      <button class=\"colab-df-convert\" onclick=\"convertToInteractive('df-70d24558-8ee5-4323-b54d-cecbca4b73f2')\"\n",
              "              title=\"Convert this dataframe to an interactive table.\"\n",
              "              style=\"display:none;\">\n",
              "        \n",
              "  <svg xmlns=\"http://www.w3.org/2000/svg\" height=\"24px\"viewBox=\"0 0 24 24\"\n",
              "       width=\"24px\">\n",
              "    <path d=\"M0 0h24v24H0V0z\" fill=\"none\"/>\n",
              "    <path d=\"M18.56 5.44l.94 2.06.94-2.06 2.06-.94-2.06-.94-.94-2.06-.94 2.06-2.06.94zm-11 1L8.5 8.5l.94-2.06 2.06-.94-2.06-.94L8.5 2.5l-.94 2.06-2.06.94zm10 10l.94 2.06.94-2.06 2.06-.94-2.06-.94-.94-2.06-.94 2.06-2.06.94z\"/><path d=\"M17.41 7.96l-1.37-1.37c-.4-.4-.92-.59-1.43-.59-.52 0-1.04.2-1.43.59L10.3 9.45l-7.72 7.72c-.78.78-.78 2.05 0 2.83L4 21.41c.39.39.9.59 1.41.59.51 0 1.02-.2 1.41-.59l7.78-7.78 2.81-2.81c.8-.78.8-2.07 0-2.86zM5.41 20L4 18.59l7.72-7.72 1.47 1.35L5.41 20z\"/>\n",
              "  </svg>\n",
              "      </button>\n",
              "      \n",
              "  <style>\n",
              "    .colab-df-container {\n",
              "      display:flex;\n",
              "      flex-wrap:wrap;\n",
              "      gap: 12px;\n",
              "    }\n",
              "\n",
              "    .colab-df-convert {\n",
              "      background-color: #E8F0FE;\n",
              "      border: none;\n",
              "      border-radius: 50%;\n",
              "      cursor: pointer;\n",
              "      display: none;\n",
              "      fill: #1967D2;\n",
              "      height: 32px;\n",
              "      padding: 0 0 0 0;\n",
              "      width: 32px;\n",
              "    }\n",
              "\n",
              "    .colab-df-convert:hover {\n",
              "      background-color: #E2EBFA;\n",
              "      box-shadow: 0px 1px 2px rgba(60, 64, 67, 0.3), 0px 1px 3px 1px rgba(60, 64, 67, 0.15);\n",
              "      fill: #174EA6;\n",
              "    }\n",
              "\n",
              "    [theme=dark] .colab-df-convert {\n",
              "      background-color: #3B4455;\n",
              "      fill: #D2E3FC;\n",
              "    }\n",
              "\n",
              "    [theme=dark] .colab-df-convert:hover {\n",
              "      background-color: #434B5C;\n",
              "      box-shadow: 0px 1px 3px 1px rgba(0, 0, 0, 0.15);\n",
              "      filter: drop-shadow(0px 1px 2px rgba(0, 0, 0, 0.3));\n",
              "      fill: #FFFFFF;\n",
              "    }\n",
              "  </style>\n",
              "\n",
              "      <script>\n",
              "        const buttonEl =\n",
              "          document.querySelector('#df-70d24558-8ee5-4323-b54d-cecbca4b73f2 button.colab-df-convert');\n",
              "        buttonEl.style.display =\n",
              "          google.colab.kernel.accessAllowed ? 'block' : 'none';\n",
              "\n",
              "        async function convertToInteractive(key) {\n",
              "          const element = document.querySelector('#df-70d24558-8ee5-4323-b54d-cecbca4b73f2');\n",
              "          const dataTable =\n",
              "            await google.colab.kernel.invokeFunction('convertToInteractive',\n",
              "                                                     [key], {});\n",
              "          if (!dataTable) return;\n",
              "\n",
              "          const docLinkHtml = 'Like what you see? Visit the ' +\n",
              "            '<a target=\"_blank\" href=https://colab.research.google.com/notebooks/data_table.ipynb>data table notebook</a>'\n",
              "            + ' to learn more about interactive tables.';\n",
              "          element.innerHTML = '';\n",
              "          dataTable['output_type'] = 'display_data';\n",
              "          await google.colab.output.renderOutput(dataTable, element);\n",
              "          const docLink = document.createElement('div');\n",
              "          docLink.innerHTML = docLinkHtml;\n",
              "          element.appendChild(docLink);\n",
              "        }\n",
              "      </script>\n",
              "    </div>\n",
              "  </div>\n",
              "  "
            ]
          },
          "metadata": {},
          "execution_count": 4
        }
      ]
    },
    {
      "cell_type": "code",
      "source": [
        "df.info()"
      ],
      "metadata": {
        "colab": {
          "base_uri": "https://localhost:8080/"
        },
        "id": "q7P4AlzJyYYp",
        "outputId": "fcdb5d0c-8e69-4f96-8140-c20797781ca0"
      },
      "execution_count": 5,
      "outputs": [
        {
          "output_type": "stream",
          "name": "stdout",
          "text": [
            "<class 'pandas.core.frame.DataFrame'>\n",
            "Int64Index: 18000 entries, 0 to 999\n",
            "Data columns (total 4 columns):\n",
            " #   Column           Non-Null Count  Dtype  \n",
            "---  ------           --------------  -----  \n",
            " 0   TDS              18000 non-null  int64  \n",
            " 1   Light Intensity  18000 non-null  int64  \n",
            " 2   pH               18000 non-null  float64\n",
            " 3   Label            18000 non-null  int64  \n",
            "dtypes: float64(1), int64(3)\n",
            "memory usage: 703.1 KB\n"
          ]
        }
      ]
    },
    {
      "cell_type": "markdown",
      "source": [
        "## **Data Preprocessing**"
      ],
      "metadata": {
        "id": "Eq9FbvddXKkj"
      }
    },
    {
      "cell_type": "code",
      "source": [
        "# data shuffling\n",
        "df = df.sample(frac=1).reset_index(drop=True)\n",
        "df"
      ],
      "metadata": {
        "colab": {
          "base_uri": "https://localhost:8080/",
          "height": 424
        },
        "id": "Vglk5KjeIB-c",
        "outputId": "6ea8a1f5-84a8-40b6-fd30-3e05297290a6"
      },
      "execution_count": 6,
      "outputs": [
        {
          "output_type": "execute_result",
          "data": {
            "text/plain": [
              "        TDS  Light Intensity     pH  Label\n",
              "0      1139              962  5.709      6\n",
              "1       684              995  5.836     11\n",
              "2      1151              985  7.007     10\n",
              "3      1028              575  4.542      7\n",
              "4       972              554  4.788      4\n",
              "...     ...              ...    ...    ...\n",
              "17995  1346              884  6.145      6\n",
              "17996   662              988  7.581     15\n",
              "17997  1388              856  6.489      6\n",
              "17998  1121              951  4.441      9\n",
              "17999   459              920  5.885     11\n",
              "\n",
              "[18000 rows x 4 columns]"
            ],
            "text/html": [
              "\n",
              "  <div id=\"df-cb06e3c0-b25f-4e9f-8bc3-694ced1505a5\">\n",
              "    <div class=\"colab-df-container\">\n",
              "      <div>\n",
              "<style scoped>\n",
              "    .dataframe tbody tr th:only-of-type {\n",
              "        vertical-align: middle;\n",
              "    }\n",
              "\n",
              "    .dataframe tbody tr th {\n",
              "        vertical-align: top;\n",
              "    }\n",
              "\n",
              "    .dataframe thead th {\n",
              "        text-align: right;\n",
              "    }\n",
              "</style>\n",
              "<table border=\"1\" class=\"dataframe\">\n",
              "  <thead>\n",
              "    <tr style=\"text-align: right;\">\n",
              "      <th></th>\n",
              "      <th>TDS</th>\n",
              "      <th>Light Intensity</th>\n",
              "      <th>pH</th>\n",
              "      <th>Label</th>\n",
              "    </tr>\n",
              "  </thead>\n",
              "  <tbody>\n",
              "    <tr>\n",
              "      <th>0</th>\n",
              "      <td>1139</td>\n",
              "      <td>962</td>\n",
              "      <td>5.709</td>\n",
              "      <td>6</td>\n",
              "    </tr>\n",
              "    <tr>\n",
              "      <th>1</th>\n",
              "      <td>684</td>\n",
              "      <td>995</td>\n",
              "      <td>5.836</td>\n",
              "      <td>11</td>\n",
              "    </tr>\n",
              "    <tr>\n",
              "      <th>2</th>\n",
              "      <td>1151</td>\n",
              "      <td>985</td>\n",
              "      <td>7.007</td>\n",
              "      <td>10</td>\n",
              "    </tr>\n",
              "    <tr>\n",
              "      <th>3</th>\n",
              "      <td>1028</td>\n",
              "      <td>575</td>\n",
              "      <td>4.542</td>\n",
              "      <td>7</td>\n",
              "    </tr>\n",
              "    <tr>\n",
              "      <th>4</th>\n",
              "      <td>972</td>\n",
              "      <td>554</td>\n",
              "      <td>4.788</td>\n",
              "      <td>4</td>\n",
              "    </tr>\n",
              "    <tr>\n",
              "      <th>...</th>\n",
              "      <td>...</td>\n",
              "      <td>...</td>\n",
              "      <td>...</td>\n",
              "      <td>...</td>\n",
              "    </tr>\n",
              "    <tr>\n",
              "      <th>17995</th>\n",
              "      <td>1346</td>\n",
              "      <td>884</td>\n",
              "      <td>6.145</td>\n",
              "      <td>6</td>\n",
              "    </tr>\n",
              "    <tr>\n",
              "      <th>17996</th>\n",
              "      <td>662</td>\n",
              "      <td>988</td>\n",
              "      <td>7.581</td>\n",
              "      <td>15</td>\n",
              "    </tr>\n",
              "    <tr>\n",
              "      <th>17997</th>\n",
              "      <td>1388</td>\n",
              "      <td>856</td>\n",
              "      <td>6.489</td>\n",
              "      <td>6</td>\n",
              "    </tr>\n",
              "    <tr>\n",
              "      <th>17998</th>\n",
              "      <td>1121</td>\n",
              "      <td>951</td>\n",
              "      <td>4.441</td>\n",
              "      <td>9</td>\n",
              "    </tr>\n",
              "    <tr>\n",
              "      <th>17999</th>\n",
              "      <td>459</td>\n",
              "      <td>920</td>\n",
              "      <td>5.885</td>\n",
              "      <td>11</td>\n",
              "    </tr>\n",
              "  </tbody>\n",
              "</table>\n",
              "<p>18000 rows × 4 columns</p>\n",
              "</div>\n",
              "      <button class=\"colab-df-convert\" onclick=\"convertToInteractive('df-cb06e3c0-b25f-4e9f-8bc3-694ced1505a5')\"\n",
              "              title=\"Convert this dataframe to an interactive table.\"\n",
              "              style=\"display:none;\">\n",
              "        \n",
              "  <svg xmlns=\"http://www.w3.org/2000/svg\" height=\"24px\"viewBox=\"0 0 24 24\"\n",
              "       width=\"24px\">\n",
              "    <path d=\"M0 0h24v24H0V0z\" fill=\"none\"/>\n",
              "    <path d=\"M18.56 5.44l.94 2.06.94-2.06 2.06-.94-2.06-.94-.94-2.06-.94 2.06-2.06.94zm-11 1L8.5 8.5l.94-2.06 2.06-.94-2.06-.94L8.5 2.5l-.94 2.06-2.06.94zm10 10l.94 2.06.94-2.06 2.06-.94-2.06-.94-.94-2.06-.94 2.06-2.06.94z\"/><path d=\"M17.41 7.96l-1.37-1.37c-.4-.4-.92-.59-1.43-.59-.52 0-1.04.2-1.43.59L10.3 9.45l-7.72 7.72c-.78.78-.78 2.05 0 2.83L4 21.41c.39.39.9.59 1.41.59.51 0 1.02-.2 1.41-.59l7.78-7.78 2.81-2.81c.8-.78.8-2.07 0-2.86zM5.41 20L4 18.59l7.72-7.72 1.47 1.35L5.41 20z\"/>\n",
              "  </svg>\n",
              "      </button>\n",
              "      \n",
              "  <style>\n",
              "    .colab-df-container {\n",
              "      display:flex;\n",
              "      flex-wrap:wrap;\n",
              "      gap: 12px;\n",
              "    }\n",
              "\n",
              "    .colab-df-convert {\n",
              "      background-color: #E8F0FE;\n",
              "      border: none;\n",
              "      border-radius: 50%;\n",
              "      cursor: pointer;\n",
              "      display: none;\n",
              "      fill: #1967D2;\n",
              "      height: 32px;\n",
              "      padding: 0 0 0 0;\n",
              "      width: 32px;\n",
              "    }\n",
              "\n",
              "    .colab-df-convert:hover {\n",
              "      background-color: #E2EBFA;\n",
              "      box-shadow: 0px 1px 2px rgba(60, 64, 67, 0.3), 0px 1px 3px 1px rgba(60, 64, 67, 0.15);\n",
              "      fill: #174EA6;\n",
              "    }\n",
              "\n",
              "    [theme=dark] .colab-df-convert {\n",
              "      background-color: #3B4455;\n",
              "      fill: #D2E3FC;\n",
              "    }\n",
              "\n",
              "    [theme=dark] .colab-df-convert:hover {\n",
              "      background-color: #434B5C;\n",
              "      box-shadow: 0px 1px 3px 1px rgba(0, 0, 0, 0.15);\n",
              "      filter: drop-shadow(0px 1px 2px rgba(0, 0, 0, 0.3));\n",
              "      fill: #FFFFFF;\n",
              "    }\n",
              "  </style>\n",
              "\n",
              "      <script>\n",
              "        const buttonEl =\n",
              "          document.querySelector('#df-cb06e3c0-b25f-4e9f-8bc3-694ced1505a5 button.colab-df-convert');\n",
              "        buttonEl.style.display =\n",
              "          google.colab.kernel.accessAllowed ? 'block' : 'none';\n",
              "\n",
              "        async function convertToInteractive(key) {\n",
              "          const element = document.querySelector('#df-cb06e3c0-b25f-4e9f-8bc3-694ced1505a5');\n",
              "          const dataTable =\n",
              "            await google.colab.kernel.invokeFunction('convertToInteractive',\n",
              "                                                     [key], {});\n",
              "          if (!dataTable) return;\n",
              "\n",
              "          const docLinkHtml = 'Like what you see? Visit the ' +\n",
              "            '<a target=\"_blank\" href=https://colab.research.google.com/notebooks/data_table.ipynb>data table notebook</a>'\n",
              "            + ' to learn more about interactive tables.';\n",
              "          element.innerHTML = '';\n",
              "          dataTable['output_type'] = 'display_data';\n",
              "          await google.colab.output.renderOutput(dataTable, element);\n",
              "          const docLink = document.createElement('div');\n",
              "          docLink.innerHTML = docLinkHtml;\n",
              "          element.appendChild(docLink);\n",
              "        }\n",
              "      </script>\n",
              "    </div>\n",
              "  </div>\n",
              "  "
            ]
          },
          "metadata": {},
          "execution_count": 6
        }
      ]
    },
    {
      "cell_type": "code",
      "source": [
        "# split into input and output columns\n",
        "# input = pH, TDS, Light Intensity\n",
        "# output = labels\n",
        "X, y = df.values[:, :-1], df.values[:, -1]"
      ],
      "metadata": {
        "id": "OAaaXUIO8hN6"
      },
      "execution_count": 7,
      "outputs": []
    },
    {
      "cell_type": "code",
      "source": [
        "# input\n",
        "print(\"Input Data:\")\n",
        "print(X)\n",
        "\n",
        "# output\n",
        "print(\"Output: \")\n",
        "print(y)"
      ],
      "metadata": {
        "colab": {
          "base_uri": "https://localhost:8080/"
        },
        "id": "42SO1jIW-v0x",
        "outputId": "468913d3-e170-49c5-a304-30f4c7d2c6ce"
      },
      "execution_count": 8,
      "outputs": [
        {
          "output_type": "stream",
          "name": "stdout",
          "text": [
            "Input Data:\n",
            "[[1139.     962.       5.709]\n",
            " [ 684.     995.       5.836]\n",
            " [1151.     985.       7.007]\n",
            " ...\n",
            " [1388.     856.       6.489]\n",
            " [1121.     951.       4.441]\n",
            " [ 459.     920.       5.885]]\n",
            "Output: \n",
            "[ 6. 11. 10. ...  6.  9. 11.]\n"
          ]
        }
      ]
    },
    {
      "cell_type": "markdown",
      "source": [
        "The de facto standard way of declaring model inputs and outputs is to use numpy, a Python library that provides lots of array type data structures. "
      ],
      "metadata": {
        "id": "1DKdBFy8Eudg"
      }
    },
    {
      "cell_type": "code",
      "source": [
        "# ensure all input data are floating point values\n",
        "X = X.astype('float32')\n",
        "X"
      ],
      "metadata": {
        "colab": {
          "base_uri": "https://localhost:8080/"
        },
        "id": "Q0j2c_6f_UQE",
        "outputId": "8d5635b5-5fde-4363-f11d-16fcc8afeff5"
      },
      "execution_count": 9,
      "outputs": [
        {
          "output_type": "execute_result",
          "data": {
            "text/plain": [
              "array([[1139.   ,  962.   ,    5.709],\n",
              "       [ 684.   ,  995.   ,    5.836],\n",
              "       [1151.   ,  985.   ,    7.007],\n",
              "       ...,\n",
              "       [1388.   ,  856.   ,    6.489],\n",
              "       [1121.   ,  951.   ,    4.441],\n",
              "       [ 459.   ,  920.   ,    5.885]], dtype=float32)"
            ]
          },
          "metadata": {},
          "execution_count": 9
        }
      ]
    },
    {
      "cell_type": "code",
      "source": [
        "print(X.shape, y.shape)"
      ],
      "metadata": {
        "colab": {
          "base_uri": "https://localhost:8080/"
        },
        "id": "je5eZEBF0V8c",
        "outputId": "0955f9a3-3fe6-4cb9-e3fe-8ff5d969c62f"
      },
      "execution_count": 10,
      "outputs": [
        {
          "output_type": "stream",
          "name": "stdout",
          "text": [
            "(18000, 3) (18000,)\n"
          ]
        }
      ]
    },
    {
      "cell_type": "code",
      "source": [
        "# split into input and output columns\n",
        "from sklearn.model_selection import train_test_split\n",
        "\n",
        "X_train, X_test, y_train, y_test = train_test_split(X, y, test_size=0.20)\n",
        "print(X_train.shape, X_test.shape, y_train.shape, y_test.shape)"
      ],
      "metadata": {
        "colab": {
          "base_uri": "https://localhost:8080/"
        },
        "id": "Dwyo3HH2AvGN",
        "outputId": "d86f3481-2a15-4e6b-dafa-67b1983f83fa"
      },
      "execution_count": 11,
      "outputs": [
        {
          "output_type": "stream",
          "name": "stdout",
          "text": [
            "(14400, 3) (3600, 3) (14400,) (3600,)\n"
          ]
        }
      ]
    },
    {
      "cell_type": "code",
      "source": [
        "X_train"
      ],
      "metadata": {
        "colab": {
          "base_uri": "https://localhost:8080/"
        },
        "id": "3NH_jVw41nO5",
        "outputId": "641cb7bb-ff9c-43f1-a629-fd6495fa90a3"
      },
      "execution_count": 12,
      "outputs": [
        {
          "output_type": "execute_result",
          "data": {
            "text/plain": [
              "array([[ 968.   ,  675.   ,    5.622],\n",
              "       [ 779.   ,  484.   ,    5.794],\n",
              "       [ 536.   ,  827.   ,    5.659],\n",
              "       ...,\n",
              "       [ 669.   ,  645.   ,    7.195],\n",
              "       [ 790.   ,  818.   ,    5.728],\n",
              "       [1480.   ,  787.   ,    4.265]], dtype=float32)"
            ]
          },
          "metadata": {},
          "execution_count": 12
        }
      ]
    },
    {
      "cell_type": "code",
      "source": [
        "X_test"
      ],
      "metadata": {
        "colab": {
          "base_uri": "https://localhost:8080/"
        },
        "id": "l-pyySPm1pbV",
        "outputId": "2233d578-cf62-4508-a324-36a6978bee2a"
      },
      "execution_count": 13,
      "outputs": [
        {
          "output_type": "execute_result",
          "data": {
            "text/plain": [
              "array([[ 889.   ,  917.   ,    5.46 ],\n",
              "       [ 587.   ,  810.   ,    4.097],\n",
              "       [ 321.   ,  647.   ,    4.366],\n",
              "       ...,\n",
              "       [ 639.   ,  504.   ,    7.547],\n",
              "       [ 672.   ,  978.   ,    7.537],\n",
              "       [1390.   ,  761.   ,    5.127]], dtype=float32)"
            ]
          },
          "metadata": {},
          "execution_count": 13
        }
      ]
    },
    {
      "cell_type": "markdown",
      "source": [
        "### **Data Normalization After Train-Test Split**\n",
        "To avoid data leakage."
      ],
      "metadata": {
        "id": "6PB1pyKY0dxH"
      }
    },
    {
      "cell_type": "code",
      "source": [
        "from sklearn import preprocessing\n",
        "\n",
        "column = ['pH','TDS','Light Intensity']\n",
        "\n",
        "# min max scaler\n",
        "min_max_scaler = preprocessing.MinMaxScaler(feature_range=(0,1))"
      ],
      "metadata": {
        "id": "H3pI3Jvz0hti"
      },
      "execution_count": 14,
      "outputs": []
    },
    {
      "cell_type": "code",
      "source": [
        "# X_train normalization and convert to dataframe\n",
        "norm_x_train = pd.DataFrame(min_max_scaler.fit_transform(X_train), columns=column)\n",
        "norm_x_train"
      ],
      "metadata": {
        "colab": {
          "base_uri": "https://localhost:8080/",
          "height": 424
        },
        "id": "ZEG1BRE3prWQ",
        "outputId": "303584d1-8b02-45a2-f9e0-aac6a9cb09e3"
      },
      "execution_count": 15,
      "outputs": [
        {
          "output_type": "execute_result",
          "data": {
            "text/plain": [
              "             pH       TDS  Light Intensity\n",
              "0      0.556667  0.458333          0.40550\n",
              "1      0.399167  0.140000          0.44850\n",
              "2      0.196667  0.711667          0.41475\n",
              "3      0.554167  0.545000          0.58200\n",
              "4      0.195833  0.911667          0.30450\n",
              "...         ...       ...              ...\n",
              "14395  0.858333  0.411667          0.48425\n",
              "14396  0.663333  0.121667          0.33075\n",
              "14397  0.307500  0.408333          0.79875\n",
              "14398  0.408333  0.696667          0.43200\n",
              "14399  0.983333  0.645000          0.06625\n",
              "\n",
              "[14400 rows x 3 columns]"
            ],
            "text/html": [
              "\n",
              "  <div id=\"df-11e8b020-ed89-432c-a3ea-50abcf7f6fba\">\n",
              "    <div class=\"colab-df-container\">\n",
              "      <div>\n",
              "<style scoped>\n",
              "    .dataframe tbody tr th:only-of-type {\n",
              "        vertical-align: middle;\n",
              "    }\n",
              "\n",
              "    .dataframe tbody tr th {\n",
              "        vertical-align: top;\n",
              "    }\n",
              "\n",
              "    .dataframe thead th {\n",
              "        text-align: right;\n",
              "    }\n",
              "</style>\n",
              "<table border=\"1\" class=\"dataframe\">\n",
              "  <thead>\n",
              "    <tr style=\"text-align: right;\">\n",
              "      <th></th>\n",
              "      <th>pH</th>\n",
              "      <th>TDS</th>\n",
              "      <th>Light Intensity</th>\n",
              "    </tr>\n",
              "  </thead>\n",
              "  <tbody>\n",
              "    <tr>\n",
              "      <th>0</th>\n",
              "      <td>0.556667</td>\n",
              "      <td>0.458333</td>\n",
              "      <td>0.40550</td>\n",
              "    </tr>\n",
              "    <tr>\n",
              "      <th>1</th>\n",
              "      <td>0.399167</td>\n",
              "      <td>0.140000</td>\n",
              "      <td>0.44850</td>\n",
              "    </tr>\n",
              "    <tr>\n",
              "      <th>2</th>\n",
              "      <td>0.196667</td>\n",
              "      <td>0.711667</td>\n",
              "      <td>0.41475</td>\n",
              "    </tr>\n",
              "    <tr>\n",
              "      <th>3</th>\n",
              "      <td>0.554167</td>\n",
              "      <td>0.545000</td>\n",
              "      <td>0.58200</td>\n",
              "    </tr>\n",
              "    <tr>\n",
              "      <th>4</th>\n",
              "      <td>0.195833</td>\n",
              "      <td>0.911667</td>\n",
              "      <td>0.30450</td>\n",
              "    </tr>\n",
              "    <tr>\n",
              "      <th>...</th>\n",
              "      <td>...</td>\n",
              "      <td>...</td>\n",
              "      <td>...</td>\n",
              "    </tr>\n",
              "    <tr>\n",
              "      <th>14395</th>\n",
              "      <td>0.858333</td>\n",
              "      <td>0.411667</td>\n",
              "      <td>0.48425</td>\n",
              "    </tr>\n",
              "    <tr>\n",
              "      <th>14396</th>\n",
              "      <td>0.663333</td>\n",
              "      <td>0.121667</td>\n",
              "      <td>0.33075</td>\n",
              "    </tr>\n",
              "    <tr>\n",
              "      <th>14397</th>\n",
              "      <td>0.307500</td>\n",
              "      <td>0.408333</td>\n",
              "      <td>0.79875</td>\n",
              "    </tr>\n",
              "    <tr>\n",
              "      <th>14398</th>\n",
              "      <td>0.408333</td>\n",
              "      <td>0.696667</td>\n",
              "      <td>0.43200</td>\n",
              "    </tr>\n",
              "    <tr>\n",
              "      <th>14399</th>\n",
              "      <td>0.983333</td>\n",
              "      <td>0.645000</td>\n",
              "      <td>0.06625</td>\n",
              "    </tr>\n",
              "  </tbody>\n",
              "</table>\n",
              "<p>14400 rows × 3 columns</p>\n",
              "</div>\n",
              "      <button class=\"colab-df-convert\" onclick=\"convertToInteractive('df-11e8b020-ed89-432c-a3ea-50abcf7f6fba')\"\n",
              "              title=\"Convert this dataframe to an interactive table.\"\n",
              "              style=\"display:none;\">\n",
              "        \n",
              "  <svg xmlns=\"http://www.w3.org/2000/svg\" height=\"24px\"viewBox=\"0 0 24 24\"\n",
              "       width=\"24px\">\n",
              "    <path d=\"M0 0h24v24H0V0z\" fill=\"none\"/>\n",
              "    <path d=\"M18.56 5.44l.94 2.06.94-2.06 2.06-.94-2.06-.94-.94-2.06-.94 2.06-2.06.94zm-11 1L8.5 8.5l.94-2.06 2.06-.94-2.06-.94L8.5 2.5l-.94 2.06-2.06.94zm10 10l.94 2.06.94-2.06 2.06-.94-2.06-.94-.94-2.06-.94 2.06-2.06.94z\"/><path d=\"M17.41 7.96l-1.37-1.37c-.4-.4-.92-.59-1.43-.59-.52 0-1.04.2-1.43.59L10.3 9.45l-7.72 7.72c-.78.78-.78 2.05 0 2.83L4 21.41c.39.39.9.59 1.41.59.51 0 1.02-.2 1.41-.59l7.78-7.78 2.81-2.81c.8-.78.8-2.07 0-2.86zM5.41 20L4 18.59l7.72-7.72 1.47 1.35L5.41 20z\"/>\n",
              "  </svg>\n",
              "      </button>\n",
              "      \n",
              "  <style>\n",
              "    .colab-df-container {\n",
              "      display:flex;\n",
              "      flex-wrap:wrap;\n",
              "      gap: 12px;\n",
              "    }\n",
              "\n",
              "    .colab-df-convert {\n",
              "      background-color: #E8F0FE;\n",
              "      border: none;\n",
              "      border-radius: 50%;\n",
              "      cursor: pointer;\n",
              "      display: none;\n",
              "      fill: #1967D2;\n",
              "      height: 32px;\n",
              "      padding: 0 0 0 0;\n",
              "      width: 32px;\n",
              "    }\n",
              "\n",
              "    .colab-df-convert:hover {\n",
              "      background-color: #E2EBFA;\n",
              "      box-shadow: 0px 1px 2px rgba(60, 64, 67, 0.3), 0px 1px 3px 1px rgba(60, 64, 67, 0.15);\n",
              "      fill: #174EA6;\n",
              "    }\n",
              "\n",
              "    [theme=dark] .colab-df-convert {\n",
              "      background-color: #3B4455;\n",
              "      fill: #D2E3FC;\n",
              "    }\n",
              "\n",
              "    [theme=dark] .colab-df-convert:hover {\n",
              "      background-color: #434B5C;\n",
              "      box-shadow: 0px 1px 3px 1px rgba(0, 0, 0, 0.15);\n",
              "      filter: drop-shadow(0px 1px 2px rgba(0, 0, 0, 0.3));\n",
              "      fill: #FFFFFF;\n",
              "    }\n",
              "  </style>\n",
              "\n",
              "      <script>\n",
              "        const buttonEl =\n",
              "          document.querySelector('#df-11e8b020-ed89-432c-a3ea-50abcf7f6fba button.colab-df-convert');\n",
              "        buttonEl.style.display =\n",
              "          google.colab.kernel.accessAllowed ? 'block' : 'none';\n",
              "\n",
              "        async function convertToInteractive(key) {\n",
              "          const element = document.querySelector('#df-11e8b020-ed89-432c-a3ea-50abcf7f6fba');\n",
              "          const dataTable =\n",
              "            await google.colab.kernel.invokeFunction('convertToInteractive',\n",
              "                                                     [key], {});\n",
              "          if (!dataTable) return;\n",
              "\n",
              "          const docLinkHtml = 'Like what you see? Visit the ' +\n",
              "            '<a target=\"_blank\" href=https://colab.research.google.com/notebooks/data_table.ipynb>data table notebook</a>'\n",
              "            + ' to learn more about interactive tables.';\n",
              "          element.innerHTML = '';\n",
              "          dataTable['output_type'] = 'display_data';\n",
              "          await google.colab.output.renderOutput(dataTable, element);\n",
              "          const docLink = document.createElement('div');\n",
              "          docLink.innerHTML = docLinkHtml;\n",
              "          element.appendChild(docLink);\n",
              "        }\n",
              "      </script>\n",
              "    </div>\n",
              "  </div>\n",
              "  "
            ]
          },
          "metadata": {},
          "execution_count": 15
        }
      ]
    },
    {
      "cell_type": "code",
      "source": [
        "# X_test normalization and convert to dataframe\n",
        "norm_x_test = pd.DataFrame(min_max_scaler.fit_transform(X_test), columns=column)\n",
        "norm_x_test"
      ],
      "metadata": {
        "colab": {
          "base_uri": "https://localhost:8080/",
          "height": 424
        },
        "id": "flNHIECI2sxK",
        "outputId": "3b7c700f-9b9a-48e4-bb53-b569796cd3cd"
      },
      "execution_count": 16,
      "outputs": [
        {
          "output_type": "execute_result",
          "data": {
            "text/plain": [
              "            pH       TDS  Light Intensity\n",
              "0     0.490833  0.861667         0.364933\n",
              "1     0.239167  0.683333         0.024012\n",
              "2     0.017500  0.411667         0.091296\n",
              "3     0.655000  0.820000         0.165082\n",
              "4     0.553333  0.388333         0.366933\n",
              "...        ...       ...              ...\n",
              "3595  0.543333  0.975000         0.508754\n",
              "3596  0.827500  0.945000         0.409455\n",
              "3597  0.282500  0.173333         0.886943\n",
              "3598  0.310000  0.963333         0.884442\n",
              "3599  0.908333  0.601667         0.281641\n",
              "\n",
              "[3600 rows x 3 columns]"
            ],
            "text/html": [
              "\n",
              "  <div id=\"df-0422aab9-7c6c-4f2f-96bb-20d990672502\">\n",
              "    <div class=\"colab-df-container\">\n",
              "      <div>\n",
              "<style scoped>\n",
              "    .dataframe tbody tr th:only-of-type {\n",
              "        vertical-align: middle;\n",
              "    }\n",
              "\n",
              "    .dataframe tbody tr th {\n",
              "        vertical-align: top;\n",
              "    }\n",
              "\n",
              "    .dataframe thead th {\n",
              "        text-align: right;\n",
              "    }\n",
              "</style>\n",
              "<table border=\"1\" class=\"dataframe\">\n",
              "  <thead>\n",
              "    <tr style=\"text-align: right;\">\n",
              "      <th></th>\n",
              "      <th>pH</th>\n",
              "      <th>TDS</th>\n",
              "      <th>Light Intensity</th>\n",
              "    </tr>\n",
              "  </thead>\n",
              "  <tbody>\n",
              "    <tr>\n",
              "      <th>0</th>\n",
              "      <td>0.490833</td>\n",
              "      <td>0.861667</td>\n",
              "      <td>0.364933</td>\n",
              "    </tr>\n",
              "    <tr>\n",
              "      <th>1</th>\n",
              "      <td>0.239167</td>\n",
              "      <td>0.683333</td>\n",
              "      <td>0.024012</td>\n",
              "    </tr>\n",
              "    <tr>\n",
              "      <th>2</th>\n",
              "      <td>0.017500</td>\n",
              "      <td>0.411667</td>\n",
              "      <td>0.091296</td>\n",
              "    </tr>\n",
              "    <tr>\n",
              "      <th>3</th>\n",
              "      <td>0.655000</td>\n",
              "      <td>0.820000</td>\n",
              "      <td>0.165082</td>\n",
              "    </tr>\n",
              "    <tr>\n",
              "      <th>4</th>\n",
              "      <td>0.553333</td>\n",
              "      <td>0.388333</td>\n",
              "      <td>0.366933</td>\n",
              "    </tr>\n",
              "    <tr>\n",
              "      <th>...</th>\n",
              "      <td>...</td>\n",
              "      <td>...</td>\n",
              "      <td>...</td>\n",
              "    </tr>\n",
              "    <tr>\n",
              "      <th>3595</th>\n",
              "      <td>0.543333</td>\n",
              "      <td>0.975000</td>\n",
              "      <td>0.508754</td>\n",
              "    </tr>\n",
              "    <tr>\n",
              "      <th>3596</th>\n",
              "      <td>0.827500</td>\n",
              "      <td>0.945000</td>\n",
              "      <td>0.409455</td>\n",
              "    </tr>\n",
              "    <tr>\n",
              "      <th>3597</th>\n",
              "      <td>0.282500</td>\n",
              "      <td>0.173333</td>\n",
              "      <td>0.886943</td>\n",
              "    </tr>\n",
              "    <tr>\n",
              "      <th>3598</th>\n",
              "      <td>0.310000</td>\n",
              "      <td>0.963333</td>\n",
              "      <td>0.884442</td>\n",
              "    </tr>\n",
              "    <tr>\n",
              "      <th>3599</th>\n",
              "      <td>0.908333</td>\n",
              "      <td>0.601667</td>\n",
              "      <td>0.281641</td>\n",
              "    </tr>\n",
              "  </tbody>\n",
              "</table>\n",
              "<p>3600 rows × 3 columns</p>\n",
              "</div>\n",
              "      <button class=\"colab-df-convert\" onclick=\"convertToInteractive('df-0422aab9-7c6c-4f2f-96bb-20d990672502')\"\n",
              "              title=\"Convert this dataframe to an interactive table.\"\n",
              "              style=\"display:none;\">\n",
              "        \n",
              "  <svg xmlns=\"http://www.w3.org/2000/svg\" height=\"24px\"viewBox=\"0 0 24 24\"\n",
              "       width=\"24px\">\n",
              "    <path d=\"M0 0h24v24H0V0z\" fill=\"none\"/>\n",
              "    <path d=\"M18.56 5.44l.94 2.06.94-2.06 2.06-.94-2.06-.94-.94-2.06-.94 2.06-2.06.94zm-11 1L8.5 8.5l.94-2.06 2.06-.94-2.06-.94L8.5 2.5l-.94 2.06-2.06.94zm10 10l.94 2.06.94-2.06 2.06-.94-2.06-.94-.94-2.06-.94 2.06-2.06.94z\"/><path d=\"M17.41 7.96l-1.37-1.37c-.4-.4-.92-.59-1.43-.59-.52 0-1.04.2-1.43.59L10.3 9.45l-7.72 7.72c-.78.78-.78 2.05 0 2.83L4 21.41c.39.39.9.59 1.41.59.51 0 1.02-.2 1.41-.59l7.78-7.78 2.81-2.81c.8-.78.8-2.07 0-2.86zM5.41 20L4 18.59l7.72-7.72 1.47 1.35L5.41 20z\"/>\n",
              "  </svg>\n",
              "      </button>\n",
              "      \n",
              "  <style>\n",
              "    .colab-df-container {\n",
              "      display:flex;\n",
              "      flex-wrap:wrap;\n",
              "      gap: 12px;\n",
              "    }\n",
              "\n",
              "    .colab-df-convert {\n",
              "      background-color: #E8F0FE;\n",
              "      border: none;\n",
              "      border-radius: 50%;\n",
              "      cursor: pointer;\n",
              "      display: none;\n",
              "      fill: #1967D2;\n",
              "      height: 32px;\n",
              "      padding: 0 0 0 0;\n",
              "      width: 32px;\n",
              "    }\n",
              "\n",
              "    .colab-df-convert:hover {\n",
              "      background-color: #E2EBFA;\n",
              "      box-shadow: 0px 1px 2px rgba(60, 64, 67, 0.3), 0px 1px 3px 1px rgba(60, 64, 67, 0.15);\n",
              "      fill: #174EA6;\n",
              "    }\n",
              "\n",
              "    [theme=dark] .colab-df-convert {\n",
              "      background-color: #3B4455;\n",
              "      fill: #D2E3FC;\n",
              "    }\n",
              "\n",
              "    [theme=dark] .colab-df-convert:hover {\n",
              "      background-color: #434B5C;\n",
              "      box-shadow: 0px 1px 3px 1px rgba(0, 0, 0, 0.15);\n",
              "      filter: drop-shadow(0px 1px 2px rgba(0, 0, 0, 0.3));\n",
              "      fill: #FFFFFF;\n",
              "    }\n",
              "  </style>\n",
              "\n",
              "      <script>\n",
              "        const buttonEl =\n",
              "          document.querySelector('#df-0422aab9-7c6c-4f2f-96bb-20d990672502 button.colab-df-convert');\n",
              "        buttonEl.style.display =\n",
              "          google.colab.kernel.accessAllowed ? 'block' : 'none';\n",
              "\n",
              "        async function convertToInteractive(key) {\n",
              "          const element = document.querySelector('#df-0422aab9-7c6c-4f2f-96bb-20d990672502');\n",
              "          const dataTable =\n",
              "            await google.colab.kernel.invokeFunction('convertToInteractive',\n",
              "                                                     [key], {});\n",
              "          if (!dataTable) return;\n",
              "\n",
              "          const docLinkHtml = 'Like what you see? Visit the ' +\n",
              "            '<a target=\"_blank\" href=https://colab.research.google.com/notebooks/data_table.ipynb>data table notebook</a>'\n",
              "            + ' to learn more about interactive tables.';\n",
              "          element.innerHTML = '';\n",
              "          dataTable['output_type'] = 'display_data';\n",
              "          await google.colab.output.renderOutput(dataTable, element);\n",
              "          const docLink = document.createElement('div');\n",
              "          docLink.innerHTML = docLinkHtml;\n",
              "          element.appendChild(docLink);\n",
              "        }\n",
              "      </script>\n",
              "    </div>\n",
              "  </div>\n",
              "  "
            ]
          },
          "metadata": {},
          "execution_count": 16
        }
      ]
    },
    {
      "cell_type": "code",
      "source": [
        "# determine the number of input features\n",
        "# input = pH, TDS, Light Intensity\n",
        "n_features = X_train.shape[1]\n",
        "n_features"
      ],
      "metadata": {
        "colab": {
          "base_uri": "https://localhost:8080/"
        },
        "id": "dswnxQD6BNpE",
        "outputId": "93577465-0c4d-4d6d-f9c3-a13abca99414"
      },
      "execution_count": 17,
      "outputs": [
        {
          "output_type": "execute_result",
          "data": {
            "text/plain": [
              "3"
            ]
          },
          "metadata": {},
          "execution_count": 17
        }
      ]
    },
    {
      "cell_type": "markdown",
      "source": [
        "## **Create Model**"
      ],
      "metadata": {
        "id": "Hpv61DjaXOE6"
      }
    },
    {
      "cell_type": "markdown",
      "source": [
        "The function requires that the output layer is configured with an n nodes (one for each class), in this case 18 nodes, and a ‘softmax‘ activation in order to predict the probability for each class."
      ],
      "metadata": {
        "id": "xyEEZ3HHcTXm"
      }
    },
    {
      "cell_type": "markdown",
      "source": [
        "### **Creating a Callback Class**"
      ],
      "metadata": {
        "id": "_AVGktw6ZKun"
      }
    },
    {
      "cell_type": "code",
      "source": [
        "# class modelCallback(tf.keras.callbacks.Callback):\n",
        "#   def on_epoch_end(self, epoch, logs={}):\n",
        "#     # check accuracy\n",
        "#     if logs.get('accuracy') is not None and logs.get('accuracy') > 0.99:\n",
        "#       print(\"\\nReached 99% accuracy so cancelling training!\")\n",
        "\n",
        "#       # stop training once the above condition is met\n",
        "#       self.model.stop_training = True"
      ],
      "metadata": {
        "id": "BkVt8VOFZQ8j"
      },
      "execution_count": null,
      "outputs": []
    },
    {
      "cell_type": "markdown",
      "source": [
        "This is where it will go through the loop we spoke about above: making a guess, measuring how good or bad it is (aka the loss), using the optimizer to make another guess etc. It will do it for the number of epochs we specify. When we run this code, we'll see the loss on the right hand side."
      ],
      "metadata": {
        "id": "eS5DNFevE6vS"
      }
    },
    {
      "cell_type": "markdown",
      "source": [
        "## **Model Checkpoint & Early Stop**\n",
        "\n",
        "This function of keras callbacks is used to save the model after every epoch. We just need to define a few of the parameters like where we want to store, what we want to monitor and etc. \n",
        "\n",
        "Use the below to code for saving the model. We have first defined the path and then assigned val_loss to be monitored, if it lowers down we will save it. We will again train the network now."
      ],
      "metadata": {
        "id": "PYzNnMVeBsuY"
      }
    },
    {
      "cell_type": "code",
      "source": [
        "# add shortcut drive capstone ke drive pribadi\n",
        "filepath = '/content/drive/My Drive/Company-Based Capstone Project/[C22-HY03] Capstone Project/3.3. System Development/ML/Notebooks/'\n",
        "\n",
        "from keras.callbacks import ModelCheckpoint\n",
        "\n",
        "checkpoint = ModelCheckpoint(filepath, monitor='val_loss', save_best_only=True, verbose=1)\n",
        "callbacks_list = [checkpoint]"
      ],
      "metadata": {
        "id": "yLttsl-UBxrR"
      },
      "execution_count": 18,
      "outputs": []
    },
    {
      "cell_type": "code",
      "source": [
        "# stop early\n",
        "from keras.callbacks import EarlyStopping\n",
        "\n",
        "stop_early = EarlyStopping(monitor='val_loss', patience=10)"
      ],
      "metadata": {
        "id": "8UjVsXQyFNRZ"
      },
      "execution_count": 24,
      "outputs": []
    },
    {
      "cell_type": "code",
      "source": [
        "def train_model(x_train, y_train):\n",
        "\n",
        "    # callbacks = [modelCallback()] # use first callback\n",
        "    # callbacks = [checkpoint] # use checkpoint\n",
        "    callbacks = [stop_early, checkpoint] # use stop early and checkpoint\n",
        "    \n",
        "    global model\n",
        "    model = tf.keras.models.Sequential([ \n",
        "        tf.keras.layers.Dense(128, input_dim=n_features, activation=tf.nn.relu, kernel_initializer='he_normal'), # input layer\n",
        "        tf.keras.layers.Dense(64, activation=tf.nn.relu, kernel_initializer='he_normal'), # hidden layer\n",
        "        tf.keras.layers.Dense(32, activation=tf.nn.relu, kernel_initializer='he_normal'), # hidden layer\n",
        "        tf.keras.layers.Dense(16, activation=tf.nn.relu, kernel_initializer='he_normal'), # hidden layer\n",
        "        tf.keras.layers.Dense(18, activation=tf.nn.softmax, kernel_initializer='he_normal') # output layer\n",
        "    ]) \n",
        "\n",
        "    # Compile the model\n",
        "    model.compile(optimizer=tf.keras.optimizers.Adam(lr=0.001), \n",
        "                  loss='sparse_categorical_crossentropy', \n",
        "                  metrics=['accuracy']) \n",
        "    # print(model.summary())\n",
        "    \n",
        "    # Fit the model for 10 epochs adding the callbacks\n",
        "    # and save the training history\n",
        "    history = model.fit(x_train, \n",
        "                        y_train, \n",
        "                        validation_data=(norm_x_test, y_test),\n",
        "                        epochs=100, \n",
        "                        callbacks=callbacks,\n",
        "                        batch_size=128,\n",
        "                        verbose=2)\n",
        "\n",
        "    return history"
      ],
      "metadata": {
        "id": "8DrpunaCA8TE"
      },
      "execution_count": 27,
      "outputs": []
    },
    {
      "cell_type": "markdown",
      "source": [
        "## **Training the Neural Network**"
      ],
      "metadata": {
        "id": "SGWVAU-wEdSW"
      }
    },
    {
      "cell_type": "markdown",
      "source": [
        "In this section, we will investigate loss functions that are approriate for multiclass classification predictive modeling problems."
      ],
      "metadata": {
        "id": "sTgl2Dw1bmVK"
      }
    },
    {
      "cell_type": "code",
      "source": [
        "hist = train_model(norm_x_train, y_train)"
      ],
      "metadata": {
        "colab": {
          "base_uri": "https://localhost:8080/"
        },
        "id": "ovI7fIGFB-u7",
        "outputId": "fbb9a20f-760b-49f6-f59a-8ee3e9d09072"
      },
      "execution_count": 28,
      "outputs": [
        {
          "output_type": "stream",
          "name": "stdout",
          "text": [
            "Epoch 1/100\n"
          ]
        },
        {
          "output_type": "stream",
          "name": "stderr",
          "text": [
            "/usr/local/lib/python3.7/dist-packages/keras/optimizer_v2/adam.py:105: UserWarning: The `lr` argument is deprecated, use `learning_rate` instead.\n",
            "  super(Adam, self).__init__(name, **kwargs)\n"
          ]
        },
        {
          "output_type": "stream",
          "name": "stdout",
          "text": [
            "\n",
            "Epoch 1: val_loss did not improve from 0.07165\n",
            "113/113 - 1s - loss: 2.1727 - accuracy: 0.3452 - val_loss: 1.5887 - val_accuracy: 0.5308 - 941ms/epoch - 8ms/step\n",
            "Epoch 2/100\n",
            "\n",
            "Epoch 2: val_loss did not improve from 0.07165\n",
            "113/113 - 0s - loss: 1.1923 - accuracy: 0.6102 - val_loss: 0.9254 - val_accuracy: 0.6778 - 309ms/epoch - 3ms/step\n",
            "Epoch 3/100\n",
            "\n",
            "Epoch 3: val_loss did not improve from 0.07165\n",
            "113/113 - 0s - loss: 0.7168 - accuracy: 0.7528 - val_loss: 0.5637 - val_accuracy: 0.8019 - 296ms/epoch - 3ms/step\n",
            "Epoch 4/100\n",
            "\n",
            "Epoch 4: val_loss did not improve from 0.07165\n",
            "113/113 - 0s - loss: 0.4533 - accuracy: 0.8410 - val_loss: 0.4105 - val_accuracy: 0.8431 - 345ms/epoch - 3ms/step\n",
            "Epoch 5/100\n",
            "\n",
            "Epoch 5: val_loss did not improve from 0.07165\n",
            "113/113 - 0s - loss: 0.3436 - accuracy: 0.8756 - val_loss: 0.3344 - val_accuracy: 0.8731 - 323ms/epoch - 3ms/step\n",
            "Epoch 6/100\n",
            "\n",
            "Epoch 6: val_loss did not improve from 0.07165\n",
            "113/113 - 0s - loss: 0.2686 - accuracy: 0.9057 - val_loss: 0.2505 - val_accuracy: 0.9103 - 313ms/epoch - 3ms/step\n",
            "Epoch 7/100\n",
            "\n",
            "Epoch 7: val_loss did not improve from 0.07165\n",
            "113/113 - 0s - loss: 0.2254 - accuracy: 0.9212 - val_loss: 0.2187 - val_accuracy: 0.9258 - 285ms/epoch - 3ms/step\n",
            "Epoch 8/100\n",
            "\n",
            "Epoch 8: val_loss did not improve from 0.07165\n",
            "113/113 - 0s - loss: 0.1871 - accuracy: 0.9370 - val_loss: 0.1999 - val_accuracy: 0.9233 - 294ms/epoch - 3ms/step\n",
            "Epoch 9/100\n",
            "\n",
            "Epoch 9: val_loss did not improve from 0.07165\n",
            "113/113 - 0s - loss: 0.1688 - accuracy: 0.9427 - val_loss: 0.1646 - val_accuracy: 0.9436 - 285ms/epoch - 3ms/step\n",
            "Epoch 10/100\n",
            "\n",
            "Epoch 10: val_loss did not improve from 0.07165\n",
            "113/113 - 0s - loss: 0.1486 - accuracy: 0.9513 - val_loss: 0.1577 - val_accuracy: 0.9469 - 319ms/epoch - 3ms/step\n",
            "Epoch 11/100\n",
            "\n",
            "Epoch 11: val_loss did not improve from 0.07165\n",
            "113/113 - 0s - loss: 0.1409 - accuracy: 0.9521 - val_loss: 0.1449 - val_accuracy: 0.9494 - 289ms/epoch - 3ms/step\n",
            "Epoch 12/100\n",
            "\n",
            "Epoch 12: val_loss did not improve from 0.07165\n",
            "113/113 - 0s - loss: 0.1358 - accuracy: 0.9531 - val_loss: 0.1404 - val_accuracy: 0.9494 - 323ms/epoch - 3ms/step\n",
            "Epoch 13/100\n",
            "\n",
            "Epoch 13: val_loss did not improve from 0.07165\n",
            "113/113 - 0s - loss: 0.1257 - accuracy: 0.9553 - val_loss: 0.1273 - val_accuracy: 0.9581 - 284ms/epoch - 3ms/step\n",
            "Epoch 14/100\n",
            "\n",
            "Epoch 14: val_loss did not improve from 0.07165\n",
            "113/113 - 0s - loss: 0.1185 - accuracy: 0.9594 - val_loss: 0.1170 - val_accuracy: 0.9611 - 291ms/epoch - 3ms/step\n",
            "Epoch 15/100\n",
            "\n",
            "Epoch 15: val_loss did not improve from 0.07165\n",
            "113/113 - 0s - loss: 0.1081 - accuracy: 0.9640 - val_loss: 0.1235 - val_accuracy: 0.9517 - 306ms/epoch - 3ms/step\n",
            "Epoch 16/100\n",
            "\n",
            "Epoch 16: val_loss did not improve from 0.07165\n",
            "113/113 - 0s - loss: 0.1042 - accuracy: 0.9641 - val_loss: 0.1065 - val_accuracy: 0.9656 - 322ms/epoch - 3ms/step\n",
            "Epoch 17/100\n",
            "\n",
            "Epoch 17: val_loss did not improve from 0.07165\n",
            "113/113 - 0s - loss: 0.1033 - accuracy: 0.9624 - val_loss: 0.1116 - val_accuracy: 0.9539 - 307ms/epoch - 3ms/step\n",
            "Epoch 18/100\n",
            "\n",
            "Epoch 18: val_loss did not improve from 0.07165\n",
            "113/113 - 0s - loss: 0.1001 - accuracy: 0.9635 - val_loss: 0.1100 - val_accuracy: 0.9600 - 306ms/epoch - 3ms/step\n",
            "Epoch 19/100\n",
            "\n",
            "Epoch 19: val_loss did not improve from 0.07165\n",
            "113/113 - 0s - loss: 0.0944 - accuracy: 0.9662 - val_loss: 0.0994 - val_accuracy: 0.9628 - 310ms/epoch - 3ms/step\n",
            "Epoch 20/100\n",
            "\n",
            "Epoch 20: val_loss did not improve from 0.07165\n",
            "113/113 - 0s - loss: 0.0909 - accuracy: 0.9669 - val_loss: 0.1089 - val_accuracy: 0.9542 - 293ms/epoch - 3ms/step\n",
            "Epoch 21/100\n",
            "\n",
            "Epoch 21: val_loss did not improve from 0.07165\n",
            "113/113 - 0s - loss: 0.0958 - accuracy: 0.9630 - val_loss: 0.1035 - val_accuracy: 0.9611 - 278ms/epoch - 2ms/step\n",
            "Epoch 22/100\n",
            "\n",
            "Epoch 22: val_loss did not improve from 0.07165\n",
            "113/113 - 0s - loss: 0.1089 - accuracy: 0.9549 - val_loss: 0.0955 - val_accuracy: 0.9619 - 346ms/epoch - 3ms/step\n",
            "Epoch 23/100\n",
            "\n",
            "Epoch 23: val_loss did not improve from 0.07165\n",
            "113/113 - 0s - loss: 0.0895 - accuracy: 0.9658 - val_loss: 0.0903 - val_accuracy: 0.9667 - 321ms/epoch - 3ms/step\n",
            "Epoch 24/100\n",
            "\n",
            "Epoch 24: val_loss did not improve from 0.07165\n",
            "113/113 - 0s - loss: 0.0867 - accuracy: 0.9676 - val_loss: 0.0906 - val_accuracy: 0.9714 - 293ms/epoch - 3ms/step\n",
            "Epoch 25/100\n",
            "\n",
            "Epoch 25: val_loss did not improve from 0.07165\n",
            "113/113 - 0s - loss: 0.0861 - accuracy: 0.9665 - val_loss: 0.0950 - val_accuracy: 0.9642 - 327ms/epoch - 3ms/step\n",
            "Epoch 26/100\n",
            "\n",
            "Epoch 26: val_loss did not improve from 0.07165\n",
            "113/113 - 0s - loss: 0.0868 - accuracy: 0.9656 - val_loss: 0.1145 - val_accuracy: 0.9494 - 326ms/epoch - 3ms/step\n",
            "Epoch 27/100\n",
            "\n",
            "Epoch 27: val_loss did not improve from 0.07165\n",
            "113/113 - 0s - loss: 0.0824 - accuracy: 0.9676 - val_loss: 0.1138 - val_accuracy: 0.9514 - 290ms/epoch - 3ms/step\n",
            "Epoch 28/100\n",
            "\n",
            "Epoch 28: val_loss did not improve from 0.07165\n",
            "113/113 - 0s - loss: 0.0856 - accuracy: 0.9672 - val_loss: 0.0791 - val_accuracy: 0.9714 - 293ms/epoch - 3ms/step\n",
            "Epoch 29/100\n",
            "\n",
            "Epoch 29: val_loss did not improve from 0.07165\n",
            "113/113 - 0s - loss: 0.0755 - accuracy: 0.9726 - val_loss: 0.0916 - val_accuracy: 0.9636 - 282ms/epoch - 2ms/step\n",
            "Epoch 30/100\n",
            "\n",
            "Epoch 30: val_loss did not improve from 0.07165\n",
            "113/113 - 0s - loss: 0.0837 - accuracy: 0.9663 - val_loss: 0.0881 - val_accuracy: 0.9642 - 309ms/epoch - 3ms/step\n",
            "Epoch 31/100\n",
            "\n",
            "Epoch 31: val_loss did not improve from 0.07165\n",
            "113/113 - 0s - loss: 0.0797 - accuracy: 0.9705 - val_loss: 0.0979 - val_accuracy: 0.9583 - 301ms/epoch - 3ms/step\n",
            "Epoch 32/100\n",
            "\n",
            "Epoch 32: val_loss did not improve from 0.07165\n",
            "113/113 - 0s - loss: 0.0842 - accuracy: 0.9656 - val_loss: 0.0968 - val_accuracy: 0.9592 - 301ms/epoch - 3ms/step\n",
            "Epoch 33/100\n",
            "\n",
            "Epoch 33: val_loss did not improve from 0.07165\n",
            "113/113 - 0s - loss: 0.0800 - accuracy: 0.9674 - val_loss: 0.0950 - val_accuracy: 0.9614 - 289ms/epoch - 3ms/step\n",
            "Epoch 34/100\n",
            "\n",
            "Epoch 34: val_loss did not improve from 0.07165\n",
            "113/113 - 0s - loss: 0.0767 - accuracy: 0.9683 - val_loss: 0.0848 - val_accuracy: 0.9622 - 311ms/epoch - 3ms/step\n",
            "Epoch 35/100\n",
            "\n",
            "Epoch 35: val_loss did not improve from 0.07165\n",
            "113/113 - 0s - loss: 0.0762 - accuracy: 0.9706 - val_loss: 0.0864 - val_accuracy: 0.9617 - 324ms/epoch - 3ms/step\n",
            "Epoch 36/100\n",
            "\n",
            "Epoch 36: val_loss improved from 0.07165 to 0.06939, saving model to /content/drive/My Drive/Company-Based Capstone Project/[C22-HY03] Capstone Project/3.3. System Development/ML/Notebooks/\n",
            "INFO:tensorflow:Assets written to: /content/drive/My Drive/Company-Based Capstone Project/[C22-HY03] Capstone Project/3.3. System Development/ML/Notebooks/assets\n",
            "113/113 - 1s - loss: 0.0693 - accuracy: 0.9728 - val_loss: 0.0694 - val_accuracy: 0.9764 - 1s/epoch - 12ms/step\n",
            "Epoch 37/100\n",
            "\n",
            "Epoch 37: val_loss did not improve from 0.06939\n",
            "113/113 - 0s - loss: 0.0725 - accuracy: 0.9708 - val_loss: 0.0713 - val_accuracy: 0.9733 - 498ms/epoch - 4ms/step\n",
            "Epoch 38/100\n",
            "\n",
            "Epoch 38: val_loss did not improve from 0.06939\n",
            "113/113 - 0s - loss: 0.0806 - accuracy: 0.9670 - val_loss: 0.0853 - val_accuracy: 0.9658 - 481ms/epoch - 4ms/step\n",
            "Epoch 39/100\n",
            "\n",
            "Epoch 39: val_loss did not improve from 0.06939\n",
            "113/113 - 0s - loss: 0.0710 - accuracy: 0.9724 - val_loss: 0.0838 - val_accuracy: 0.9664 - 497ms/epoch - 4ms/step\n",
            "Epoch 40/100\n",
            "\n",
            "Epoch 40: val_loss did not improve from 0.06939\n",
            "113/113 - 0s - loss: 0.0726 - accuracy: 0.9705 - val_loss: 0.0920 - val_accuracy: 0.9631 - 365ms/epoch - 3ms/step\n",
            "Epoch 41/100\n",
            "\n",
            "Epoch 41: val_loss did not improve from 0.06939\n",
            "113/113 - 0s - loss: 0.0757 - accuracy: 0.9688 - val_loss: 0.0954 - val_accuracy: 0.9594 - 279ms/epoch - 2ms/step\n",
            "Epoch 42/100\n",
            "\n",
            "Epoch 42: val_loss did not improve from 0.06939\n",
            "113/113 - 0s - loss: 0.0698 - accuracy: 0.9704 - val_loss: 0.0781 - val_accuracy: 0.9717 - 322ms/epoch - 3ms/step\n",
            "Epoch 43/100\n",
            "\n",
            "Epoch 43: val_loss did not improve from 0.06939\n",
            "113/113 - 0s - loss: 0.0712 - accuracy: 0.9701 - val_loss: 0.0806 - val_accuracy: 0.9631 - 310ms/epoch - 3ms/step\n",
            "Epoch 44/100\n",
            "\n",
            "Epoch 44: val_loss did not improve from 0.06939\n",
            "113/113 - 0s - loss: 0.0713 - accuracy: 0.9694 - val_loss: 0.0938 - val_accuracy: 0.9606 - 312ms/epoch - 3ms/step\n",
            "Epoch 45/100\n",
            "\n",
            "Epoch 45: val_loss did not improve from 0.06939\n",
            "113/113 - 0s - loss: 0.0665 - accuracy: 0.9735 - val_loss: 0.0753 - val_accuracy: 0.9692 - 287ms/epoch - 3ms/step\n",
            "Epoch 46/100\n",
            "\n",
            "Epoch 46: val_loss did not improve from 0.06939\n",
            "113/113 - 0s - loss: 0.0739 - accuracy: 0.9711 - val_loss: 0.0803 - val_accuracy: 0.9639 - 339ms/epoch - 3ms/step\n"
          ]
        }
      ]
    },
    {
      "cell_type": "markdown",
      "source": [
        "## **Model Evaluation**"
      ],
      "metadata": {
        "id": "XFBtRvjQHIEN"
      }
    },
    {
      "cell_type": "markdown",
      "source": [
        "### **Training Scores**"
      ],
      "metadata": {
        "id": "iQKXmL85ftMS"
      }
    },
    {
      "cell_type": "code",
      "source": [
        "# evaluate the model\n",
        "# train_loss, train_acc = model.evaluate(norm_x_train, y_train, verbose=2)\n",
        "# test_lost, test_acc = model.evaluate(norm_x_test, y_test, verbose=2)\n",
        "# # loss, acc = model.evaluate(X_test, y_test, verbose=2)\n",
        "# print('Train %s: %.3f' % model.metrics_names[1])\n",
        "# print('Test accuracy: %.3f' % test_acc)\n",
        "train_scores = model.evaluate(norm_x_train, y_train, verbose=0)\n",
        "print(\"%s: %.2f%%\" % (model.metrics_names[1], train_scores[1]*100))\n",
        "print(\"%s: %.2f%%\" % (model.metrics_names[0], train_scores[0]*100))"
      ],
      "metadata": {
        "colab": {
          "base_uri": "https://localhost:8080/"
        },
        "id": "Vnwo4BnWKJxc",
        "outputId": "e1382fb7-f128-478b-a9a2-409d960aa52e"
      },
      "execution_count": 34,
      "outputs": [
        {
          "output_type": "stream",
          "name": "stdout",
          "text": [
            "loss: 6.15%\n",
            "accuracy: 97.59%\n"
          ]
        }
      ]
    },
    {
      "cell_type": "markdown",
      "source": [
        "### **Testing Scores**"
      ],
      "metadata": {
        "id": "9wixl-fifwh2"
      }
    },
    {
      "cell_type": "code",
      "source": [
        "test_scores = model.evaluate(norm_x_test, y_test, verbose=0)\n",
        "print(\"%s: %.2f%%\" % (model.metrics_names[0], test_scores[0]*100))\n",
        "print(\"%s: %.2f%%\" % (model.metrics_names[1], test_scores[1]*100))"
      ],
      "metadata": {
        "colab": {
          "base_uri": "https://localhost:8080/"
        },
        "id": "eOwbHu9AfynC",
        "outputId": "fd892d53-3d09-4418-82a7-c2185fcd32b9"
      },
      "execution_count": 36,
      "outputs": [
        {
          "output_type": "stream",
          "name": "stdout",
          "text": [
            "loss: 8.03%\n",
            "accuracy: 96.39%\n"
          ]
        }
      ]
    },
    {
      "cell_type": "markdown",
      "source": [
        "## **Generate a SavedModel**"
      ],
      "metadata": {
        "id": "L1jOvgmZ5CZ_"
      }
    },
    {
      "cell_type": "code",
      "source": [
        "export_dir = 'saved_model/1'\n",
        "tf.saved_model.save(model, export_dir)"
      ],
      "metadata": {
        "id": "i9fh4Es35Fh0",
        "colab": {
          "base_uri": "https://localhost:8080/"
        },
        "outputId": "35791097-2b67-4789-8c1f-5ab0e5541532"
      },
      "execution_count": 40,
      "outputs": [
        {
          "output_type": "stream",
          "name": "stdout",
          "text": [
            "INFO:tensorflow:Assets written to: saved_model/1/assets\n"
          ]
        }
      ]
    },
    {
      "cell_type": "markdown",
      "source": [
        "### **Convert the SavedModel to TFLite**"
      ],
      "metadata": {
        "id": "IElTziNW5e_S"
      }
    },
    {
      "cell_type": "code",
      "source": [
        "# Select mode of optimization\n",
        "mode = \"Speed\" \n",
        "\n",
        "if mode == 'Storage':\n",
        "    optimization = tf.lite.Optimize.OPTIMIZE_FOR_SIZE\n",
        "elif mode == 'Speed':\n",
        "    optimization = tf.lite.Optimize.OPTIMIZE_FOR_LATENCY\n",
        "else:\n",
        "    optimization = tf.lite.Optimize.DEFAULT"
      ],
      "metadata": {
        "id": "JW7W5wuvTHsb"
      },
      "execution_count": 41,
      "outputs": []
    },
    {
      "cell_type": "code",
      "source": [
        "# convert the model\n",
        "converter = tf.lite.TFLiteConverter.from_saved_model(export_dir)\n",
        "\n",
        "# set the optimization\n",
        "converter.optimizations = [optimization]\n",
        "\n",
        "# invoke the converter to finally generate the tflite model\n",
        "tflite_model = converter.convert()"
      ],
      "metadata": {
        "id": "iShkFDZx5jbK",
        "colab": {
          "base_uri": "https://localhost:8080/"
        },
        "outputId": "df021fea-7410-4796-a53b-add3d5ea9f69"
      },
      "execution_count": 42,
      "outputs": [
        {
          "output_type": "stream",
          "name": "stderr",
          "text": [
            "WARNING:absl:Optimization option OPTIMIZE_FOR_LATENCY is deprecated, please use optimizations=[Optimize.DEFAULT] instead.\n",
            "WARNING:absl:Optimization option OPTIMIZE_FOR_LATENCY is deprecated, please use optimizations=[Optimize.DEFAULT] instead.\n",
            "WARNING:absl:Optimization option OPTIMIZE_FOR_LATENCY is deprecated, please use optimizations=[Optimize.DEFAULT] instead.\n",
            "WARNING:absl:Buffer deduplication procedure will be skipped when flatbuffer library is not properly loaded\n"
          ]
        }
      ]
    },
    {
      "cell_type": "code",
      "source": [
        "import pathlib\n",
        "tflite_model_file = pathlib.Path('./model_ver1.tflite')\n",
        "tflite_model_file.write_bytes(tflite_model)"
      ],
      "metadata": {
        "id": "c9OJNS1F5qat",
        "colab": {
          "base_uri": "https://localhost:8080/"
        },
        "outputId": "768ded71-822f-406f-9292-20460fcab57e"
      },
      "execution_count": 43,
      "outputs": [
        {
          "output_type": "execute_result",
          "data": {
            "text/plain": [
              "18912"
            ]
          },
          "metadata": {},
          "execution_count": 43
        }
      ]
    },
    {
      "cell_type": "markdown",
      "source": [
        "## **Download the TFLite Model File**"
      ],
      "metadata": {
        "id": "uJoshl1jDTlQ"
      }
    },
    {
      "cell_type": "code",
      "source": [
        "try:\n",
        "    from google.colab import files\n",
        "    files.download(tflite_model_file)\n",
        "except:\n",
        "    pass"
      ],
      "metadata": {
        "id": "OfjCbLSdDYdz",
        "colab": {
          "base_uri": "https://localhost:8080/",
          "height": 17
        },
        "outputId": "8aa71af2-97fd-4dd9-fe82-9a33382e35a2"
      },
      "execution_count": 100,
      "outputs": [
        {
          "output_type": "display_data",
          "data": {
            "text/plain": [
              "<IPython.core.display.Javascript object>"
            ],
            "application/javascript": [
              "\n",
              "    async function download(id, filename, size) {\n",
              "      if (!google.colab.kernel.accessAllowed) {\n",
              "        return;\n",
              "      }\n",
              "      const div = document.createElement('div');\n",
              "      const label = document.createElement('label');\n",
              "      label.textContent = `Downloading \"${filename}\": `;\n",
              "      div.appendChild(label);\n",
              "      const progress = document.createElement('progress');\n",
              "      progress.max = size;\n",
              "      div.appendChild(progress);\n",
              "      document.body.appendChild(div);\n",
              "\n",
              "      const buffers = [];\n",
              "      let downloaded = 0;\n",
              "\n",
              "      const channel = await google.colab.kernel.comms.open(id);\n",
              "      // Send a message to notify the kernel that we're ready.\n",
              "      channel.send({})\n",
              "\n",
              "      for await (const message of channel.messages) {\n",
              "        // Send a message to notify the kernel that we're ready.\n",
              "        channel.send({})\n",
              "        if (message.buffers) {\n",
              "          for (const buffer of message.buffers) {\n",
              "            buffers.push(buffer);\n",
              "            downloaded += buffer.byteLength;\n",
              "            progress.value = downloaded;\n",
              "          }\n",
              "        }\n",
              "      }\n",
              "      const blob = new Blob(buffers, {type: 'application/binary'});\n",
              "      const a = document.createElement('a');\n",
              "      a.href = window.URL.createObjectURL(blob);\n",
              "      a.download = filename;\n",
              "      div.appendChild(a);\n",
              "      a.click();\n",
              "      div.remove();\n",
              "    }\n",
              "  "
            ]
          },
          "metadata": {}
        },
        {
          "output_type": "display_data",
          "data": {
            "text/plain": [
              "<IPython.core.display.Javascript object>"
            ],
            "application/javascript": [
              "download(\"download_a782c84e-8b87-4e3c-b514-64261e2b0dcc\", \"model_ver1.tflite\", 18912)"
            ]
          },
          "metadata": {}
        },
        {
          "output_type": "display_data",
          "data": {
            "text/plain": [
              "<IPython.core.display.Javascript object>"
            ],
            "application/javascript": [
              "\n",
              "    async function download(id, filename, size) {\n",
              "      if (!google.colab.kernel.accessAllowed) {\n",
              "        return;\n",
              "      }\n",
              "      const div = document.createElement('div');\n",
              "      const label = document.createElement('label');\n",
              "      label.textContent = `Downloading \"${filename}\": `;\n",
              "      div.appendChild(label);\n",
              "      const progress = document.createElement('progress');\n",
              "      progress.max = size;\n",
              "      div.appendChild(progress);\n",
              "      document.body.appendChild(div);\n",
              "\n",
              "      const buffers = [];\n",
              "      let downloaded = 0;\n",
              "\n",
              "      const channel = await google.colab.kernel.comms.open(id);\n",
              "      // Send a message to notify the kernel that we're ready.\n",
              "      channel.send({})\n",
              "\n",
              "      for await (const message of channel.messages) {\n",
              "        // Send a message to notify the kernel that we're ready.\n",
              "        channel.send({})\n",
              "        if (message.buffers) {\n",
              "          for (const buffer of message.buffers) {\n",
              "            buffers.push(buffer);\n",
              "            downloaded += buffer.byteLength;\n",
              "            progress.value = downloaded;\n",
              "          }\n",
              "        }\n",
              "      }\n",
              "      const blob = new Blob(buffers, {type: 'application/binary'});\n",
              "      const a = document.createElement('a');\n",
              "      a.href = window.URL.createObjectURL(blob);\n",
              "      a.download = filename;\n",
              "      div.appendChild(a);\n",
              "      a.click();\n",
              "      div.remove();\n",
              "    }\n",
              "  "
            ]
          },
          "metadata": {}
        },
        {
          "output_type": "display_data",
          "data": {
            "text/plain": [
              "<IPython.core.display.Javascript object>"
            ],
            "application/javascript": [
              "download(\"download_95bd1ec4-6932-4768-a849-a3918e95635a\", \"model_ver1.tflite\", 18912)"
            ]
          },
          "metadata": {}
        }
      ]
    }
  ]
}