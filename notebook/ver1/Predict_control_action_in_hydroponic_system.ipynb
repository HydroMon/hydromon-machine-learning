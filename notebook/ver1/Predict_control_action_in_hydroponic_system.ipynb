{
  "nbformat": 4,
  "nbformat_minor": 0,
  "metadata": {
    "colab": {
      "name": "Predict control action in hydroponic system.ipynb",
      "provenance": [],
      "collapsed_sections": []
    },
    "kernelspec": {
      "name": "python3",
      "display_name": "Python 3"
    },
    "language_info": {
      "name": "python"
    }
  },
  "cells": [
    {
      "cell_type": "markdown",
      "source": [
        "# **Multiclass Classification**\n",
        "\n",
        "Multiclass classification are those predictive modeling problems where examples are assigned one or more than two classes. The problem here is to predict numeric value from hydroponic parameters, where each class is assigned a unique integer value as the label from 0 to 17. The goal is to predict the probability of the example belonging to each known class."
      ],
      "metadata": {
        "id": "1hlGOoibYUb7"
      }
    },
    {
      "cell_type": "markdown",
      "source": [
        "## **Label and Action**\n",
        "\n",
        "\n",
        "\n",
        "*   Label 0 : No action\n",
        "*   Label 1 : Pump Water\n",
        "* Label 2 : Light On\n",
        "* Label 3 : Pump Nutrient\n",
        "* Label 4 : pH Up\n",
        "* Label 5 : pH Down\n",
        "* Label 6 : Pump Water + Light On\n",
        "* Label 7 : Pump Water + pH Up\n",
        "* Label 8 : Pump Water + pH Down\n",
        "* Label 9 : Pump Water + Light On + pH Up\n",
        "* Label 10 : Pump Water + Light On + pH Down\n",
        "* Label 11 : Light On + Pump Nutrient\n",
        "* Label 12 : Light On + pH Up\n",
        "* Label 13 : Light On + pH Down\n",
        "* Label 14 : Light On + Pump Nutrient + pH Up\n",
        "* Label 15 : Light On + Pump Nutrient + pH Down\n",
        "* Label 16 : Pump Nutrient + pH Up\n",
        "* Label 17 : Pump Nutrient + pH Down\n",
        "\n",
        "\n",
        "\n"
      ],
      "metadata": {
        "id": "8bB19x0MZG3I"
      }
    },
    {
      "cell_type": "markdown",
      "source": [
        "# **Import Library**"
      ],
      "metadata": {
        "id": "h8R3htWRXqOG"
      }
    },
    {
      "cell_type": "code",
      "source": [
        "import os\n",
        "import numpy as np\n",
        "import tensorflow as tf\n",
        "from tensorflow.keras import Sequential\n",
        "from tensorflow.keras.layers import Dense, Flatten\n",
        "\n",
        "print(tf.__version__)"
      ],
      "metadata": {
        "id": "jvKCQPoVXt6m",
        "colab": {
          "base_uri": "https://localhost:8080/"
        },
        "outputId": "085d78be-759a-4b49-9891-af7120760406"
      },
      "execution_count": null,
      "outputs": [
        {
          "output_type": "stream",
          "name": "stdout",
          "text": [
            "2.8.2\n"
          ]
        }
      ]
    },
    {
      "cell_type": "markdown",
      "source": [
        "## **Load Data**"
      ],
      "metadata": {
        "id": "NUM3qiJjXGGW"
      }
    },
    {
      "cell_type": "code",
      "source": [
        "# import pandas as pd\n",
        "\n",
        "# url = 'https://raw.githubusercontent.com/HydroMon/hydromon-machine-learning/main/dataset/ver2/merged_dataset.csv'\n",
        "# col_lists = [\"pH\", \"TDS\", \"Light Intensity\", \"Label\"]\n",
        "# df = pd.read_csv(url, usecols=col_lists)\n",
        "\n",
        "# df"
      ],
      "metadata": {
        "id": "9XlPW1X87hfq"
      },
      "execution_count": null,
      "outputs": []
    },
    {
      "cell_type": "code",
      "source": [
        "import pandas as pd\n",
        "import requests\n",
        "from bs4 import BeautifulSoup, SoupStrainer\n",
        "\n",
        "html = requests.get('https://github.com/HydroMon/hydromon-machine-learning/tree/main/dataset/ver2')\n",
        "\n",
        "dfs = []\n",
        "for link in BeautifulSoup(html.text, parse_only=SoupStrainer('a')):\n",
        "    if hasattr(link, 'href') and link['href'].endswith('.csv'):\n",
        "        url = 'https://github.com'+ link['href'].replace('/blob/', '/raw/')\n",
        "        dfs.append(pd.read_csv(url))\n",
        "df = pd.concat(dfs)\n",
        "\n",
        "df"
      ],
      "metadata": {
        "id": "Ek5207C6o1Cu",
        "colab": {
          "base_uri": "https://localhost:8080/",
          "height": 424
        },
        "outputId": "20bbcb53-8482-4fac-b136-aa4f37efd85e"
      },
      "execution_count": null,
      "outputs": [
        {
          "output_type": "execute_result",
          "data": {
            "text/plain": [
              "           Date      Time      ID   TDS  Light Intensity     pH  \\\n",
              "0    2022-05-20  11:34:05  40TWL4   993              689  6.268   \n",
              "1    2022-05-20  11:34:10  40TWL4   735              462  6.044   \n",
              "2    2022-05-20  11:34:15  40TWL4   750              778  5.599   \n",
              "3    2022-05-20  11:34:20  40TWL4   934              491  6.090   \n",
              "4    2022-05-20  11:34:25  40TWL4   769              754  6.253   \n",
              "..          ...       ...     ...   ...              ...    ...   \n",
              "995  2022-05-20  01:27:00  40TWL4  1378              880  4.014   \n",
              "996  2022-05-20  01:27:05  40TWL4  1023              846  4.585   \n",
              "997  2022-05-20  01:27:10  40TWL4  1219              969  4.728   \n",
              "998  2022-05-20  01:27:15  40TWL4  1019              866  5.272   \n",
              "999  2022-05-20  01:27:20  40TWL4  1053              907  5.326   \n",
              "\n",
              "     Air Temperature  Humidity     EC  Label  \n",
              "0                 31        98  2.248      0  \n",
              "1                 27        46  2.887      0  \n",
              "2                 38        53  2.953      0  \n",
              "3                 38        45  2.114      0  \n",
              "4                 28        27  3.499      0  \n",
              "..               ...       ...    ...    ...  \n",
              "995               29        19  3.097      9  \n",
              "996               23        78  3.117      9  \n",
              "997               38        87  2.850      9  \n",
              "998               20        23  3.179      9  \n",
              "999               24        41  3.189      9  \n",
              "\n",
              "[18000 rows x 10 columns]"
            ],
            "text/html": [
              "\n",
              "  <div id=\"df-294506fb-8efe-4cf5-8200-1aa18f39698a\">\n",
              "    <div class=\"colab-df-container\">\n",
              "      <div>\n",
              "<style scoped>\n",
              "    .dataframe tbody tr th:only-of-type {\n",
              "        vertical-align: middle;\n",
              "    }\n",
              "\n",
              "    .dataframe tbody tr th {\n",
              "        vertical-align: top;\n",
              "    }\n",
              "\n",
              "    .dataframe thead th {\n",
              "        text-align: right;\n",
              "    }\n",
              "</style>\n",
              "<table border=\"1\" class=\"dataframe\">\n",
              "  <thead>\n",
              "    <tr style=\"text-align: right;\">\n",
              "      <th></th>\n",
              "      <th>Date</th>\n",
              "      <th>Time</th>\n",
              "      <th>ID</th>\n",
              "      <th>TDS</th>\n",
              "      <th>Light Intensity</th>\n",
              "      <th>pH</th>\n",
              "      <th>Air Temperature</th>\n",
              "      <th>Humidity</th>\n",
              "      <th>EC</th>\n",
              "      <th>Label</th>\n",
              "    </tr>\n",
              "  </thead>\n",
              "  <tbody>\n",
              "    <tr>\n",
              "      <th>0</th>\n",
              "      <td>2022-05-20</td>\n",
              "      <td>11:34:05</td>\n",
              "      <td>40TWL4</td>\n",
              "      <td>993</td>\n",
              "      <td>689</td>\n",
              "      <td>6.268</td>\n",
              "      <td>31</td>\n",
              "      <td>98</td>\n",
              "      <td>2.248</td>\n",
              "      <td>0</td>\n",
              "    </tr>\n",
              "    <tr>\n",
              "      <th>1</th>\n",
              "      <td>2022-05-20</td>\n",
              "      <td>11:34:10</td>\n",
              "      <td>40TWL4</td>\n",
              "      <td>735</td>\n",
              "      <td>462</td>\n",
              "      <td>6.044</td>\n",
              "      <td>27</td>\n",
              "      <td>46</td>\n",
              "      <td>2.887</td>\n",
              "      <td>0</td>\n",
              "    </tr>\n",
              "    <tr>\n",
              "      <th>2</th>\n",
              "      <td>2022-05-20</td>\n",
              "      <td>11:34:15</td>\n",
              "      <td>40TWL4</td>\n",
              "      <td>750</td>\n",
              "      <td>778</td>\n",
              "      <td>5.599</td>\n",
              "      <td>38</td>\n",
              "      <td>53</td>\n",
              "      <td>2.953</td>\n",
              "      <td>0</td>\n",
              "    </tr>\n",
              "    <tr>\n",
              "      <th>3</th>\n",
              "      <td>2022-05-20</td>\n",
              "      <td>11:34:20</td>\n",
              "      <td>40TWL4</td>\n",
              "      <td>934</td>\n",
              "      <td>491</td>\n",
              "      <td>6.090</td>\n",
              "      <td>38</td>\n",
              "      <td>45</td>\n",
              "      <td>2.114</td>\n",
              "      <td>0</td>\n",
              "    </tr>\n",
              "    <tr>\n",
              "      <th>4</th>\n",
              "      <td>2022-05-20</td>\n",
              "      <td>11:34:25</td>\n",
              "      <td>40TWL4</td>\n",
              "      <td>769</td>\n",
              "      <td>754</td>\n",
              "      <td>6.253</td>\n",
              "      <td>28</td>\n",
              "      <td>27</td>\n",
              "      <td>3.499</td>\n",
              "      <td>0</td>\n",
              "    </tr>\n",
              "    <tr>\n",
              "      <th>...</th>\n",
              "      <td>...</td>\n",
              "      <td>...</td>\n",
              "      <td>...</td>\n",
              "      <td>...</td>\n",
              "      <td>...</td>\n",
              "      <td>...</td>\n",
              "      <td>...</td>\n",
              "      <td>...</td>\n",
              "      <td>...</td>\n",
              "      <td>...</td>\n",
              "    </tr>\n",
              "    <tr>\n",
              "      <th>995</th>\n",
              "      <td>2022-05-20</td>\n",
              "      <td>01:27:00</td>\n",
              "      <td>40TWL4</td>\n",
              "      <td>1378</td>\n",
              "      <td>880</td>\n",
              "      <td>4.014</td>\n",
              "      <td>29</td>\n",
              "      <td>19</td>\n",
              "      <td>3.097</td>\n",
              "      <td>9</td>\n",
              "    </tr>\n",
              "    <tr>\n",
              "      <th>996</th>\n",
              "      <td>2022-05-20</td>\n",
              "      <td>01:27:05</td>\n",
              "      <td>40TWL4</td>\n",
              "      <td>1023</td>\n",
              "      <td>846</td>\n",
              "      <td>4.585</td>\n",
              "      <td>23</td>\n",
              "      <td>78</td>\n",
              "      <td>3.117</td>\n",
              "      <td>9</td>\n",
              "    </tr>\n",
              "    <tr>\n",
              "      <th>997</th>\n",
              "      <td>2022-05-20</td>\n",
              "      <td>01:27:10</td>\n",
              "      <td>40TWL4</td>\n",
              "      <td>1219</td>\n",
              "      <td>969</td>\n",
              "      <td>4.728</td>\n",
              "      <td>38</td>\n",
              "      <td>87</td>\n",
              "      <td>2.850</td>\n",
              "      <td>9</td>\n",
              "    </tr>\n",
              "    <tr>\n",
              "      <th>998</th>\n",
              "      <td>2022-05-20</td>\n",
              "      <td>01:27:15</td>\n",
              "      <td>40TWL4</td>\n",
              "      <td>1019</td>\n",
              "      <td>866</td>\n",
              "      <td>5.272</td>\n",
              "      <td>20</td>\n",
              "      <td>23</td>\n",
              "      <td>3.179</td>\n",
              "      <td>9</td>\n",
              "    </tr>\n",
              "    <tr>\n",
              "      <th>999</th>\n",
              "      <td>2022-05-20</td>\n",
              "      <td>01:27:20</td>\n",
              "      <td>40TWL4</td>\n",
              "      <td>1053</td>\n",
              "      <td>907</td>\n",
              "      <td>5.326</td>\n",
              "      <td>24</td>\n",
              "      <td>41</td>\n",
              "      <td>3.189</td>\n",
              "      <td>9</td>\n",
              "    </tr>\n",
              "  </tbody>\n",
              "</table>\n",
              "<p>18000 rows × 10 columns</p>\n",
              "</div>\n",
              "      <button class=\"colab-df-convert\" onclick=\"convertToInteractive('df-294506fb-8efe-4cf5-8200-1aa18f39698a')\"\n",
              "              title=\"Convert this dataframe to an interactive table.\"\n",
              "              style=\"display:none;\">\n",
              "        \n",
              "  <svg xmlns=\"http://www.w3.org/2000/svg\" height=\"24px\"viewBox=\"0 0 24 24\"\n",
              "       width=\"24px\">\n",
              "    <path d=\"M0 0h24v24H0V0z\" fill=\"none\"/>\n",
              "    <path d=\"M18.56 5.44l.94 2.06.94-2.06 2.06-.94-2.06-.94-.94-2.06-.94 2.06-2.06.94zm-11 1L8.5 8.5l.94-2.06 2.06-.94-2.06-.94L8.5 2.5l-.94 2.06-2.06.94zm10 10l.94 2.06.94-2.06 2.06-.94-2.06-.94-.94-2.06-.94 2.06-2.06.94z\"/><path d=\"M17.41 7.96l-1.37-1.37c-.4-.4-.92-.59-1.43-.59-.52 0-1.04.2-1.43.59L10.3 9.45l-7.72 7.72c-.78.78-.78 2.05 0 2.83L4 21.41c.39.39.9.59 1.41.59.51 0 1.02-.2 1.41-.59l7.78-7.78 2.81-2.81c.8-.78.8-2.07 0-2.86zM5.41 20L4 18.59l7.72-7.72 1.47 1.35L5.41 20z\"/>\n",
              "  </svg>\n",
              "      </button>\n",
              "      \n",
              "  <style>\n",
              "    .colab-df-container {\n",
              "      display:flex;\n",
              "      flex-wrap:wrap;\n",
              "      gap: 12px;\n",
              "    }\n",
              "\n",
              "    .colab-df-convert {\n",
              "      background-color: #E8F0FE;\n",
              "      border: none;\n",
              "      border-radius: 50%;\n",
              "      cursor: pointer;\n",
              "      display: none;\n",
              "      fill: #1967D2;\n",
              "      height: 32px;\n",
              "      padding: 0 0 0 0;\n",
              "      width: 32px;\n",
              "    }\n",
              "\n",
              "    .colab-df-convert:hover {\n",
              "      background-color: #E2EBFA;\n",
              "      box-shadow: 0px 1px 2px rgba(60, 64, 67, 0.3), 0px 1px 3px 1px rgba(60, 64, 67, 0.15);\n",
              "      fill: #174EA6;\n",
              "    }\n",
              "\n",
              "    [theme=dark] .colab-df-convert {\n",
              "      background-color: #3B4455;\n",
              "      fill: #D2E3FC;\n",
              "    }\n",
              "\n",
              "    [theme=dark] .colab-df-convert:hover {\n",
              "      background-color: #434B5C;\n",
              "      box-shadow: 0px 1px 3px 1px rgba(0, 0, 0, 0.15);\n",
              "      filter: drop-shadow(0px 1px 2px rgba(0, 0, 0, 0.3));\n",
              "      fill: #FFFFFF;\n",
              "    }\n",
              "  </style>\n",
              "\n",
              "      <script>\n",
              "        const buttonEl =\n",
              "          document.querySelector('#df-294506fb-8efe-4cf5-8200-1aa18f39698a button.colab-df-convert');\n",
              "        buttonEl.style.display =\n",
              "          google.colab.kernel.accessAllowed ? 'block' : 'none';\n",
              "\n",
              "        async function convertToInteractive(key) {\n",
              "          const element = document.querySelector('#df-294506fb-8efe-4cf5-8200-1aa18f39698a');\n",
              "          const dataTable =\n",
              "            await google.colab.kernel.invokeFunction('convertToInteractive',\n",
              "                                                     [key], {});\n",
              "          if (!dataTable) return;\n",
              "\n",
              "          const docLinkHtml = 'Like what you see? Visit the ' +\n",
              "            '<a target=\"_blank\" href=https://colab.research.google.com/notebooks/data_table.ipynb>data table notebook</a>'\n",
              "            + ' to learn more about interactive tables.';\n",
              "          element.innerHTML = '';\n",
              "          dataTable['output_type'] = 'display_data';\n",
              "          await google.colab.output.renderOutput(dataTable, element);\n",
              "          const docLink = document.createElement('div');\n",
              "          docLink.innerHTML = docLinkHtml;\n",
              "          element.appendChild(docLink);\n",
              "        }\n",
              "      </script>\n",
              "    </div>\n",
              "  </div>\n",
              "  "
            ]
          },
          "metadata": {},
          "execution_count": 2
        }
      ]
    },
    {
      "cell_type": "code",
      "source": [
        "# use certain features only\n",
        "df = df.loc[:, [\"TDS\", \"Light Intensity\", \"pH\", \"Label\"]]\n",
        "df "
      ],
      "metadata": {
        "colab": {
          "base_uri": "https://localhost:8080/",
          "height": 424
        },
        "id": "NmctZQFYwbmd",
        "outputId": "318ba3d1-b17d-4825-ea22-b38afd0eee00"
      },
      "execution_count": null,
      "outputs": [
        {
          "output_type": "execute_result",
          "data": {
            "text/plain": [
              "      TDS  Light Intensity     pH  Label\n",
              "0     993              689  6.268      0\n",
              "1     735              462  6.044      0\n",
              "2     750              778  5.599      0\n",
              "3     934              491  6.090      0\n",
              "4     769              754  6.253      0\n",
              "..    ...              ...    ...    ...\n",
              "995  1378              880  4.014      9\n",
              "996  1023              846  4.585      9\n",
              "997  1219              969  4.728      9\n",
              "998  1019              866  5.272      9\n",
              "999  1053              907  5.326      9\n",
              "\n",
              "[18000 rows x 4 columns]"
            ],
            "text/html": [
              "\n",
              "  <div id=\"df-697bc4ed-08c6-473b-b3a3-c7db26dc8da3\">\n",
              "    <div class=\"colab-df-container\">\n",
              "      <div>\n",
              "<style scoped>\n",
              "    .dataframe tbody tr th:only-of-type {\n",
              "        vertical-align: middle;\n",
              "    }\n",
              "\n",
              "    .dataframe tbody tr th {\n",
              "        vertical-align: top;\n",
              "    }\n",
              "\n",
              "    .dataframe thead th {\n",
              "        text-align: right;\n",
              "    }\n",
              "</style>\n",
              "<table border=\"1\" class=\"dataframe\">\n",
              "  <thead>\n",
              "    <tr style=\"text-align: right;\">\n",
              "      <th></th>\n",
              "      <th>TDS</th>\n",
              "      <th>Light Intensity</th>\n",
              "      <th>pH</th>\n",
              "      <th>Label</th>\n",
              "    </tr>\n",
              "  </thead>\n",
              "  <tbody>\n",
              "    <tr>\n",
              "      <th>0</th>\n",
              "      <td>993</td>\n",
              "      <td>689</td>\n",
              "      <td>6.268</td>\n",
              "      <td>0</td>\n",
              "    </tr>\n",
              "    <tr>\n",
              "      <th>1</th>\n",
              "      <td>735</td>\n",
              "      <td>462</td>\n",
              "      <td>6.044</td>\n",
              "      <td>0</td>\n",
              "    </tr>\n",
              "    <tr>\n",
              "      <th>2</th>\n",
              "      <td>750</td>\n",
              "      <td>778</td>\n",
              "      <td>5.599</td>\n",
              "      <td>0</td>\n",
              "    </tr>\n",
              "    <tr>\n",
              "      <th>3</th>\n",
              "      <td>934</td>\n",
              "      <td>491</td>\n",
              "      <td>6.090</td>\n",
              "      <td>0</td>\n",
              "    </tr>\n",
              "    <tr>\n",
              "      <th>4</th>\n",
              "      <td>769</td>\n",
              "      <td>754</td>\n",
              "      <td>6.253</td>\n",
              "      <td>0</td>\n",
              "    </tr>\n",
              "    <tr>\n",
              "      <th>...</th>\n",
              "      <td>...</td>\n",
              "      <td>...</td>\n",
              "      <td>...</td>\n",
              "      <td>...</td>\n",
              "    </tr>\n",
              "    <tr>\n",
              "      <th>995</th>\n",
              "      <td>1378</td>\n",
              "      <td>880</td>\n",
              "      <td>4.014</td>\n",
              "      <td>9</td>\n",
              "    </tr>\n",
              "    <tr>\n",
              "      <th>996</th>\n",
              "      <td>1023</td>\n",
              "      <td>846</td>\n",
              "      <td>4.585</td>\n",
              "      <td>9</td>\n",
              "    </tr>\n",
              "    <tr>\n",
              "      <th>997</th>\n",
              "      <td>1219</td>\n",
              "      <td>969</td>\n",
              "      <td>4.728</td>\n",
              "      <td>9</td>\n",
              "    </tr>\n",
              "    <tr>\n",
              "      <th>998</th>\n",
              "      <td>1019</td>\n",
              "      <td>866</td>\n",
              "      <td>5.272</td>\n",
              "      <td>9</td>\n",
              "    </tr>\n",
              "    <tr>\n",
              "      <th>999</th>\n",
              "      <td>1053</td>\n",
              "      <td>907</td>\n",
              "      <td>5.326</td>\n",
              "      <td>9</td>\n",
              "    </tr>\n",
              "  </tbody>\n",
              "</table>\n",
              "<p>18000 rows × 4 columns</p>\n",
              "</div>\n",
              "      <button class=\"colab-df-convert\" onclick=\"convertToInteractive('df-697bc4ed-08c6-473b-b3a3-c7db26dc8da3')\"\n",
              "              title=\"Convert this dataframe to an interactive table.\"\n",
              "              style=\"display:none;\">\n",
              "        \n",
              "  <svg xmlns=\"http://www.w3.org/2000/svg\" height=\"24px\"viewBox=\"0 0 24 24\"\n",
              "       width=\"24px\">\n",
              "    <path d=\"M0 0h24v24H0V0z\" fill=\"none\"/>\n",
              "    <path d=\"M18.56 5.44l.94 2.06.94-2.06 2.06-.94-2.06-.94-.94-2.06-.94 2.06-2.06.94zm-11 1L8.5 8.5l.94-2.06 2.06-.94-2.06-.94L8.5 2.5l-.94 2.06-2.06.94zm10 10l.94 2.06.94-2.06 2.06-.94-2.06-.94-.94-2.06-.94 2.06-2.06.94z\"/><path d=\"M17.41 7.96l-1.37-1.37c-.4-.4-.92-.59-1.43-.59-.52 0-1.04.2-1.43.59L10.3 9.45l-7.72 7.72c-.78.78-.78 2.05 0 2.83L4 21.41c.39.39.9.59 1.41.59.51 0 1.02-.2 1.41-.59l7.78-7.78 2.81-2.81c.8-.78.8-2.07 0-2.86zM5.41 20L4 18.59l7.72-7.72 1.47 1.35L5.41 20z\"/>\n",
              "  </svg>\n",
              "      </button>\n",
              "      \n",
              "  <style>\n",
              "    .colab-df-container {\n",
              "      display:flex;\n",
              "      flex-wrap:wrap;\n",
              "      gap: 12px;\n",
              "    }\n",
              "\n",
              "    .colab-df-convert {\n",
              "      background-color: #E8F0FE;\n",
              "      border: none;\n",
              "      border-radius: 50%;\n",
              "      cursor: pointer;\n",
              "      display: none;\n",
              "      fill: #1967D2;\n",
              "      height: 32px;\n",
              "      padding: 0 0 0 0;\n",
              "      width: 32px;\n",
              "    }\n",
              "\n",
              "    .colab-df-convert:hover {\n",
              "      background-color: #E2EBFA;\n",
              "      box-shadow: 0px 1px 2px rgba(60, 64, 67, 0.3), 0px 1px 3px 1px rgba(60, 64, 67, 0.15);\n",
              "      fill: #174EA6;\n",
              "    }\n",
              "\n",
              "    [theme=dark] .colab-df-convert {\n",
              "      background-color: #3B4455;\n",
              "      fill: #D2E3FC;\n",
              "    }\n",
              "\n",
              "    [theme=dark] .colab-df-convert:hover {\n",
              "      background-color: #434B5C;\n",
              "      box-shadow: 0px 1px 3px 1px rgba(0, 0, 0, 0.15);\n",
              "      filter: drop-shadow(0px 1px 2px rgba(0, 0, 0, 0.3));\n",
              "      fill: #FFFFFF;\n",
              "    }\n",
              "  </style>\n",
              "\n",
              "      <script>\n",
              "        const buttonEl =\n",
              "          document.querySelector('#df-697bc4ed-08c6-473b-b3a3-c7db26dc8da3 button.colab-df-convert');\n",
              "        buttonEl.style.display =\n",
              "          google.colab.kernel.accessAllowed ? 'block' : 'none';\n",
              "\n",
              "        async function convertToInteractive(key) {\n",
              "          const element = document.querySelector('#df-697bc4ed-08c6-473b-b3a3-c7db26dc8da3');\n",
              "          const dataTable =\n",
              "            await google.colab.kernel.invokeFunction('convertToInteractive',\n",
              "                                                     [key], {});\n",
              "          if (!dataTable) return;\n",
              "\n",
              "          const docLinkHtml = 'Like what you see? Visit the ' +\n",
              "            '<a target=\"_blank\" href=https://colab.research.google.com/notebooks/data_table.ipynb>data table notebook</a>'\n",
              "            + ' to learn more about interactive tables.';\n",
              "          element.innerHTML = '';\n",
              "          dataTable['output_type'] = 'display_data';\n",
              "          await google.colab.output.renderOutput(dataTable, element);\n",
              "          const docLink = document.createElement('div');\n",
              "          docLink.innerHTML = docLinkHtml;\n",
              "          element.appendChild(docLink);\n",
              "        }\n",
              "      </script>\n",
              "    </div>\n",
              "  </div>\n",
              "  "
            ]
          },
          "metadata": {},
          "execution_count": 3
        }
      ]
    },
    {
      "cell_type": "code",
      "source": [
        "df.info()"
      ],
      "metadata": {
        "colab": {
          "base_uri": "https://localhost:8080/"
        },
        "id": "q7P4AlzJyYYp",
        "outputId": "54397b21-0cc0-42f5-850a-4f677ab6c9e5"
      },
      "execution_count": null,
      "outputs": [
        {
          "output_type": "stream",
          "name": "stdout",
          "text": [
            "<class 'pandas.core.frame.DataFrame'>\n",
            "Int64Index: 18000 entries, 0 to 999\n",
            "Data columns (total 4 columns):\n",
            " #   Column           Non-Null Count  Dtype  \n",
            "---  ------           --------------  -----  \n",
            " 0   TDS              18000 non-null  int64  \n",
            " 1   Light Intensity  18000 non-null  int64  \n",
            " 2   pH               18000 non-null  float64\n",
            " 3   Label            18000 non-null  int64  \n",
            "dtypes: float64(1), int64(3)\n",
            "memory usage: 703.1 KB\n"
          ]
        }
      ]
    },
    {
      "cell_type": "markdown",
      "source": [
        "## **Data Preprocessing**"
      ],
      "metadata": {
        "id": "Eq9FbvddXKkj"
      }
    },
    {
      "cell_type": "code",
      "source": [
        "# data shuffling\n",
        "df = df.sample(frac=1).reset_index(drop=True)\n",
        "df"
      ],
      "metadata": {
        "colab": {
          "base_uri": "https://localhost:8080/",
          "height": 424
        },
        "id": "Vglk5KjeIB-c",
        "outputId": "c76e3455-9eb7-43c1-97e7-65ad5f0246bf"
      },
      "execution_count": null,
      "outputs": [
        {
          "output_type": "execute_result",
          "data": {
            "text/plain": [
              "        TDS  Light Intensity     pH  Label\n",
              "0      1223              919  4.172      9\n",
              "1      1014              755  7.615      8\n",
              "2       918              703  4.928      4\n",
              "3       574              420  6.171      3\n",
              "4       784              868  5.057     12\n",
              "...     ...              ...    ...    ...\n",
              "17995   445              996  6.879     15\n",
              "17996  1322              948  4.000      9\n",
              "17997   963              432  4.504      4\n",
              "17998   354              545  6.328      3\n",
              "17999  1485              650  4.854      7\n",
              "\n",
              "[18000 rows x 4 columns]"
            ],
            "text/html": [
              "\n",
              "  <div id=\"df-2136e520-b001-42a2-bf87-5b31ea2944e8\">\n",
              "    <div class=\"colab-df-container\">\n",
              "      <div>\n",
              "<style scoped>\n",
              "    .dataframe tbody tr th:only-of-type {\n",
              "        vertical-align: middle;\n",
              "    }\n",
              "\n",
              "    .dataframe tbody tr th {\n",
              "        vertical-align: top;\n",
              "    }\n",
              "\n",
              "    .dataframe thead th {\n",
              "        text-align: right;\n",
              "    }\n",
              "</style>\n",
              "<table border=\"1\" class=\"dataframe\">\n",
              "  <thead>\n",
              "    <tr style=\"text-align: right;\">\n",
              "      <th></th>\n",
              "      <th>TDS</th>\n",
              "      <th>Light Intensity</th>\n",
              "      <th>pH</th>\n",
              "      <th>Label</th>\n",
              "    </tr>\n",
              "  </thead>\n",
              "  <tbody>\n",
              "    <tr>\n",
              "      <th>0</th>\n",
              "      <td>1223</td>\n",
              "      <td>919</td>\n",
              "      <td>4.172</td>\n",
              "      <td>9</td>\n",
              "    </tr>\n",
              "    <tr>\n",
              "      <th>1</th>\n",
              "      <td>1014</td>\n",
              "      <td>755</td>\n",
              "      <td>7.615</td>\n",
              "      <td>8</td>\n",
              "    </tr>\n",
              "    <tr>\n",
              "      <th>2</th>\n",
              "      <td>918</td>\n",
              "      <td>703</td>\n",
              "      <td>4.928</td>\n",
              "      <td>4</td>\n",
              "    </tr>\n",
              "    <tr>\n",
              "      <th>3</th>\n",
              "      <td>574</td>\n",
              "      <td>420</td>\n",
              "      <td>6.171</td>\n",
              "      <td>3</td>\n",
              "    </tr>\n",
              "    <tr>\n",
              "      <th>4</th>\n",
              "      <td>784</td>\n",
              "      <td>868</td>\n",
              "      <td>5.057</td>\n",
              "      <td>12</td>\n",
              "    </tr>\n",
              "    <tr>\n",
              "      <th>...</th>\n",
              "      <td>...</td>\n",
              "      <td>...</td>\n",
              "      <td>...</td>\n",
              "      <td>...</td>\n",
              "    </tr>\n",
              "    <tr>\n",
              "      <th>17995</th>\n",
              "      <td>445</td>\n",
              "      <td>996</td>\n",
              "      <td>6.879</td>\n",
              "      <td>15</td>\n",
              "    </tr>\n",
              "    <tr>\n",
              "      <th>17996</th>\n",
              "      <td>1322</td>\n",
              "      <td>948</td>\n",
              "      <td>4.000</td>\n",
              "      <td>9</td>\n",
              "    </tr>\n",
              "    <tr>\n",
              "      <th>17997</th>\n",
              "      <td>963</td>\n",
              "      <td>432</td>\n",
              "      <td>4.504</td>\n",
              "      <td>4</td>\n",
              "    </tr>\n",
              "    <tr>\n",
              "      <th>17998</th>\n",
              "      <td>354</td>\n",
              "      <td>545</td>\n",
              "      <td>6.328</td>\n",
              "      <td>3</td>\n",
              "    </tr>\n",
              "    <tr>\n",
              "      <th>17999</th>\n",
              "      <td>1485</td>\n",
              "      <td>650</td>\n",
              "      <td>4.854</td>\n",
              "      <td>7</td>\n",
              "    </tr>\n",
              "  </tbody>\n",
              "</table>\n",
              "<p>18000 rows × 4 columns</p>\n",
              "</div>\n",
              "      <button class=\"colab-df-convert\" onclick=\"convertToInteractive('df-2136e520-b001-42a2-bf87-5b31ea2944e8')\"\n",
              "              title=\"Convert this dataframe to an interactive table.\"\n",
              "              style=\"display:none;\">\n",
              "        \n",
              "  <svg xmlns=\"http://www.w3.org/2000/svg\" height=\"24px\"viewBox=\"0 0 24 24\"\n",
              "       width=\"24px\">\n",
              "    <path d=\"M0 0h24v24H0V0z\" fill=\"none\"/>\n",
              "    <path d=\"M18.56 5.44l.94 2.06.94-2.06 2.06-.94-2.06-.94-.94-2.06-.94 2.06-2.06.94zm-11 1L8.5 8.5l.94-2.06 2.06-.94-2.06-.94L8.5 2.5l-.94 2.06-2.06.94zm10 10l.94 2.06.94-2.06 2.06-.94-2.06-.94-.94-2.06-.94 2.06-2.06.94z\"/><path d=\"M17.41 7.96l-1.37-1.37c-.4-.4-.92-.59-1.43-.59-.52 0-1.04.2-1.43.59L10.3 9.45l-7.72 7.72c-.78.78-.78 2.05 0 2.83L4 21.41c.39.39.9.59 1.41.59.51 0 1.02-.2 1.41-.59l7.78-7.78 2.81-2.81c.8-.78.8-2.07 0-2.86zM5.41 20L4 18.59l7.72-7.72 1.47 1.35L5.41 20z\"/>\n",
              "  </svg>\n",
              "      </button>\n",
              "      \n",
              "  <style>\n",
              "    .colab-df-container {\n",
              "      display:flex;\n",
              "      flex-wrap:wrap;\n",
              "      gap: 12px;\n",
              "    }\n",
              "\n",
              "    .colab-df-convert {\n",
              "      background-color: #E8F0FE;\n",
              "      border: none;\n",
              "      border-radius: 50%;\n",
              "      cursor: pointer;\n",
              "      display: none;\n",
              "      fill: #1967D2;\n",
              "      height: 32px;\n",
              "      padding: 0 0 0 0;\n",
              "      width: 32px;\n",
              "    }\n",
              "\n",
              "    .colab-df-convert:hover {\n",
              "      background-color: #E2EBFA;\n",
              "      box-shadow: 0px 1px 2px rgba(60, 64, 67, 0.3), 0px 1px 3px 1px rgba(60, 64, 67, 0.15);\n",
              "      fill: #174EA6;\n",
              "    }\n",
              "\n",
              "    [theme=dark] .colab-df-convert {\n",
              "      background-color: #3B4455;\n",
              "      fill: #D2E3FC;\n",
              "    }\n",
              "\n",
              "    [theme=dark] .colab-df-convert:hover {\n",
              "      background-color: #434B5C;\n",
              "      box-shadow: 0px 1px 3px 1px rgba(0, 0, 0, 0.15);\n",
              "      filter: drop-shadow(0px 1px 2px rgba(0, 0, 0, 0.3));\n",
              "      fill: #FFFFFF;\n",
              "    }\n",
              "  </style>\n",
              "\n",
              "      <script>\n",
              "        const buttonEl =\n",
              "          document.querySelector('#df-2136e520-b001-42a2-bf87-5b31ea2944e8 button.colab-df-convert');\n",
              "        buttonEl.style.display =\n",
              "          google.colab.kernel.accessAllowed ? 'block' : 'none';\n",
              "\n",
              "        async function convertToInteractive(key) {\n",
              "          const element = document.querySelector('#df-2136e520-b001-42a2-bf87-5b31ea2944e8');\n",
              "          const dataTable =\n",
              "            await google.colab.kernel.invokeFunction('convertToInteractive',\n",
              "                                                     [key], {});\n",
              "          if (!dataTable) return;\n",
              "\n",
              "          const docLinkHtml = 'Like what you see? Visit the ' +\n",
              "            '<a target=\"_blank\" href=https://colab.research.google.com/notebooks/data_table.ipynb>data table notebook</a>'\n",
              "            + ' to learn more about interactive tables.';\n",
              "          element.innerHTML = '';\n",
              "          dataTable['output_type'] = 'display_data';\n",
              "          await google.colab.output.renderOutput(dataTable, element);\n",
              "          const docLink = document.createElement('div');\n",
              "          docLink.innerHTML = docLinkHtml;\n",
              "          element.appendChild(docLink);\n",
              "        }\n",
              "      </script>\n",
              "    </div>\n",
              "  </div>\n",
              "  "
            ]
          },
          "metadata": {},
          "execution_count": 5
        }
      ]
    },
    {
      "cell_type": "code",
      "source": [
        "# edit bagian sini\n",
        "normalization = df['TDS'].max(),df['Light Intensity'].max(),df['pH'].max()\n",
        " \n",
        "print(\"Maximum value in column 'x': \" )\n",
        "print(normalization)"
      ],
      "metadata": {
        "colab": {
          "base_uri": "https://localhost:8080/"
        },
        "id": "29EBHyv9sa_m",
        "outputId": "08fe9be1-5c18-4649-c851-a29a1d8f96a8"
      },
      "execution_count": null,
      "outputs": [
        {
          "output_type": "stream",
          "name": "stdout",
          "text": [
            "Maximum value in column 'x': \n",
            "(1500, 1000, 8.0)\n"
          ]
        }
      ]
    },
    {
      "cell_type": "code",
      "source": [
        "from sklearn import preprocessing\n",
        "\n",
        "min_max_scaler = preprocessing.MinMaxScaler(feature_range=(0,1))\n",
        "\n",
        "# scaled feature\n",
        "df_after_min_max_scaler = min_max_scaler.fit_transform(df)\n",
        "df_after_min_max_scaler"
      ],
      "metadata": {
        "colab": {
          "base_uri": "https://localhost:8080/"
        },
        "id": "KAY1cjt6V9dc",
        "outputId": "7fef1c33-c672-44a8-b65c-89b3179b3f33"
      },
      "execution_count": null,
      "outputs": [
        {
          "output_type": "execute_result",
          "data": {
            "text/plain": [
              "array([[7.20833333e-01, 7.88333333e-01, 6.35250000e-01, 5.88235294e-01],\n",
              "       [8.33333333e-04, 6.35000000e-01, 1.49250000e-01, 9.41176471e-01],\n",
              "       [3.96666667e-01, 1.50000000e-02, 7.01000000e-01, 2.94117647e-01],\n",
              "       ...,\n",
              "       [1.53333333e-01, 6.80000000e-01, 6.06250000e-01, 6.47058824e-01],\n",
              "       [2.97500000e-01, 7.25000000e-01, 2.08500000e-01, 8.23529412e-01],\n",
              "       [1.31666667e-01, 7.10000000e-01, 7.63250000e-01, 8.82352941e-01]])"
            ]
          },
          "metadata": {},
          "execution_count": 13
        }
      ]
    },
    {
      "cell_type": "code",
      "source": [
        "from sklearn import preprocessing\n",
        "\n",
        "cols_to_norm = ['pH', 'TDS', 'Light Intensity']\n",
        "\n",
        "# min max scaler\n",
        "min_max_scaler = preprocessing.MinMaxScaler(feature_range=(0,1))\n",
        "\n",
        "#scaled feature\n",
        "df_after_min_max_scaler = min_max_scaler.fit_transform(df[cols_to_norm])\n",
        "# print(df_after_min_max_scaler.shape)\n",
        "\n",
        "# convert to dataframe\n",
        "column = ['pH','TDS','Light Intensity']\n",
        "df_norm = pd.DataFrame(df_after_min_max_scaler, columns=column)\n",
        "df_norm"
      ],
      "metadata": {
        "id": "YUEv0wuUf9Ui",
        "colab": {
          "base_uri": "https://localhost:8080/",
          "height": 424
        },
        "outputId": "749d47b2-326c-4db5-f4c4-fe784fc4eab6"
      },
      "execution_count": null,
      "outputs": [
        {
          "output_type": "execute_result",
          "data": {
            "text/plain": [
              "            pH       TDS  Light Intensity\n",
              "0      0.63525  0.720833         0.788333\n",
              "1      0.14925  0.000833         0.635000\n",
              "2      0.70100  0.396667         0.015000\n",
              "3      0.58200  0.554167         0.545000\n",
              "4      0.56475  0.980000         0.540000\n",
              "...        ...       ...              ...\n",
              "17995  0.11850  0.911667         0.046667\n",
              "17996  0.54950  0.265000         0.138333\n",
              "17997  0.60625  0.153333         0.680000\n",
              "17998  0.20850  0.297500         0.725000\n",
              "17999  0.76325  0.131667         0.710000\n",
              "\n",
              "[18000 rows x 3 columns]"
            ],
            "text/html": [
              "\n",
              "  <div id=\"df-d191229f-89a3-4ddf-b963-ec83fab14fb1\">\n",
              "    <div class=\"colab-df-container\">\n",
              "      <div>\n",
              "<style scoped>\n",
              "    .dataframe tbody tr th:only-of-type {\n",
              "        vertical-align: middle;\n",
              "    }\n",
              "\n",
              "    .dataframe tbody tr th {\n",
              "        vertical-align: top;\n",
              "    }\n",
              "\n",
              "    .dataframe thead th {\n",
              "        text-align: right;\n",
              "    }\n",
              "</style>\n",
              "<table border=\"1\" class=\"dataframe\">\n",
              "  <thead>\n",
              "    <tr style=\"text-align: right;\">\n",
              "      <th></th>\n",
              "      <th>pH</th>\n",
              "      <th>TDS</th>\n",
              "      <th>Light Intensity</th>\n",
              "    </tr>\n",
              "  </thead>\n",
              "  <tbody>\n",
              "    <tr>\n",
              "      <th>0</th>\n",
              "      <td>0.63525</td>\n",
              "      <td>0.720833</td>\n",
              "      <td>0.788333</td>\n",
              "    </tr>\n",
              "    <tr>\n",
              "      <th>1</th>\n",
              "      <td>0.14925</td>\n",
              "      <td>0.000833</td>\n",
              "      <td>0.635000</td>\n",
              "    </tr>\n",
              "    <tr>\n",
              "      <th>2</th>\n",
              "      <td>0.70100</td>\n",
              "      <td>0.396667</td>\n",
              "      <td>0.015000</td>\n",
              "    </tr>\n",
              "    <tr>\n",
              "      <th>3</th>\n",
              "      <td>0.58200</td>\n",
              "      <td>0.554167</td>\n",
              "      <td>0.545000</td>\n",
              "    </tr>\n",
              "    <tr>\n",
              "      <th>4</th>\n",
              "      <td>0.56475</td>\n",
              "      <td>0.980000</td>\n",
              "      <td>0.540000</td>\n",
              "    </tr>\n",
              "    <tr>\n",
              "      <th>...</th>\n",
              "      <td>...</td>\n",
              "      <td>...</td>\n",
              "      <td>...</td>\n",
              "    </tr>\n",
              "    <tr>\n",
              "      <th>17995</th>\n",
              "      <td>0.11850</td>\n",
              "      <td>0.911667</td>\n",
              "      <td>0.046667</td>\n",
              "    </tr>\n",
              "    <tr>\n",
              "      <th>17996</th>\n",
              "      <td>0.54950</td>\n",
              "      <td>0.265000</td>\n",
              "      <td>0.138333</td>\n",
              "    </tr>\n",
              "    <tr>\n",
              "      <th>17997</th>\n",
              "      <td>0.60625</td>\n",
              "      <td>0.153333</td>\n",
              "      <td>0.680000</td>\n",
              "    </tr>\n",
              "    <tr>\n",
              "      <th>17998</th>\n",
              "      <td>0.20850</td>\n",
              "      <td>0.297500</td>\n",
              "      <td>0.725000</td>\n",
              "    </tr>\n",
              "    <tr>\n",
              "      <th>17999</th>\n",
              "      <td>0.76325</td>\n",
              "      <td>0.131667</td>\n",
              "      <td>0.710000</td>\n",
              "    </tr>\n",
              "  </tbody>\n",
              "</table>\n",
              "<p>18000 rows × 3 columns</p>\n",
              "</div>\n",
              "      <button class=\"colab-df-convert\" onclick=\"convertToInteractive('df-d191229f-89a3-4ddf-b963-ec83fab14fb1')\"\n",
              "              title=\"Convert this dataframe to an interactive table.\"\n",
              "              style=\"display:none;\">\n",
              "        \n",
              "  <svg xmlns=\"http://www.w3.org/2000/svg\" height=\"24px\"viewBox=\"0 0 24 24\"\n",
              "       width=\"24px\">\n",
              "    <path d=\"M0 0h24v24H0V0z\" fill=\"none\"/>\n",
              "    <path d=\"M18.56 5.44l.94 2.06.94-2.06 2.06-.94-2.06-.94-.94-2.06-.94 2.06-2.06.94zm-11 1L8.5 8.5l.94-2.06 2.06-.94-2.06-.94L8.5 2.5l-.94 2.06-2.06.94zm10 10l.94 2.06.94-2.06 2.06-.94-2.06-.94-.94-2.06-.94 2.06-2.06.94z\"/><path d=\"M17.41 7.96l-1.37-1.37c-.4-.4-.92-.59-1.43-.59-.52 0-1.04.2-1.43.59L10.3 9.45l-7.72 7.72c-.78.78-.78 2.05 0 2.83L4 21.41c.39.39.9.59 1.41.59.51 0 1.02-.2 1.41-.59l7.78-7.78 2.81-2.81c.8-.78.8-2.07 0-2.86zM5.41 20L4 18.59l7.72-7.72 1.47 1.35L5.41 20z\"/>\n",
              "  </svg>\n",
              "      </button>\n",
              "      \n",
              "  <style>\n",
              "    .colab-df-container {\n",
              "      display:flex;\n",
              "      flex-wrap:wrap;\n",
              "      gap: 12px;\n",
              "    }\n",
              "\n",
              "    .colab-df-convert {\n",
              "      background-color: #E8F0FE;\n",
              "      border: none;\n",
              "      border-radius: 50%;\n",
              "      cursor: pointer;\n",
              "      display: none;\n",
              "      fill: #1967D2;\n",
              "      height: 32px;\n",
              "      padding: 0 0 0 0;\n",
              "      width: 32px;\n",
              "    }\n",
              "\n",
              "    .colab-df-convert:hover {\n",
              "      background-color: #E2EBFA;\n",
              "      box-shadow: 0px 1px 2px rgba(60, 64, 67, 0.3), 0px 1px 3px 1px rgba(60, 64, 67, 0.15);\n",
              "      fill: #174EA6;\n",
              "    }\n",
              "\n",
              "    [theme=dark] .colab-df-convert {\n",
              "      background-color: #3B4455;\n",
              "      fill: #D2E3FC;\n",
              "    }\n",
              "\n",
              "    [theme=dark] .colab-df-convert:hover {\n",
              "      background-color: #434B5C;\n",
              "      box-shadow: 0px 1px 3px 1px rgba(0, 0, 0, 0.15);\n",
              "      filter: drop-shadow(0px 1px 2px rgba(0, 0, 0, 0.3));\n",
              "      fill: #FFFFFF;\n",
              "    }\n",
              "  </style>\n",
              "\n",
              "      <script>\n",
              "        const buttonEl =\n",
              "          document.querySelector('#df-d191229f-89a3-4ddf-b963-ec83fab14fb1 button.colab-df-convert');\n",
              "        buttonEl.style.display =\n",
              "          google.colab.kernel.accessAllowed ? 'block' : 'none';\n",
              "\n",
              "        async function convertToInteractive(key) {\n",
              "          const element = document.querySelector('#df-d191229f-89a3-4ddf-b963-ec83fab14fb1');\n",
              "          const dataTable =\n",
              "            await google.colab.kernel.invokeFunction('convertToInteractive',\n",
              "                                                     [key], {});\n",
              "          if (!dataTable) return;\n",
              "\n",
              "          const docLinkHtml = 'Like what you see? Visit the ' +\n",
              "            '<a target=\"_blank\" href=https://colab.research.google.com/notebooks/data_table.ipynb>data table notebook</a>'\n",
              "            + ' to learn more about interactive tables.';\n",
              "          element.innerHTML = '';\n",
              "          dataTable['output_type'] = 'display_data';\n",
              "          await google.colab.output.renderOutput(dataTable, element);\n",
              "          const docLink = document.createElement('div');\n",
              "          docLink.innerHTML = docLinkHtml;\n",
              "          element.appendChild(docLink);\n",
              "        }\n",
              "      </script>\n",
              "    </div>\n",
              "  </div>\n",
              "  "
            ]
          },
          "metadata": {},
          "execution_count": 18
        }
      ]
    },
    {
      "cell_type": "code",
      "source": [
        "# feature scaling (normalize) to make data have similar distribution\n",
        "# min-max feature scaling\n",
        "cols_to_norm = ['pH','TDS','Light Intensity'] \n",
        "df[cols_to_norm] = df[cols_to_norm].apply(lambda x: (x - x.min()) / (x.max() - x.min()))\n",
        "df"
      ],
      "metadata": {
        "id": "js9ooQfarzyH",
        "colab": {
          "base_uri": "https://localhost:8080/",
          "height": 424
        },
        "outputId": "fa863bb8-0a79-40c7-f0e9-48d7e59e7c43"
      },
      "execution_count": null,
      "outputs": [
        {
          "output_type": "execute_result",
          "data": {
            "text/plain": [
              "            TDS  Light Intensity       pH  Label\n",
              "0      0.418333         0.935000  0.43000      2\n",
              "1      0.869167         0.765000  0.86775     10\n",
              "2      0.242500         0.608333  0.57800      3\n",
              "3      0.195000         0.498333  0.26275     16\n",
              "4      0.170833         0.931667  0.42200     11\n",
              "...         ...              ...      ...    ...\n",
              "17995  0.463333         0.595000  0.74300      5\n",
              "17996  0.301667         0.261667  0.50375      3\n",
              "17997  0.654167         0.015000  0.87725      8\n",
              "17998  0.138333         0.218333  0.23275     16\n",
              "17999  0.613333         0.615000  0.59475      1\n",
              "\n",
              "[18000 rows x 4 columns]"
            ],
            "text/html": [
              "\n",
              "  <div id=\"df-4473b0b9-9f98-4b18-b5ab-d9cce3fcaed1\">\n",
              "    <div class=\"colab-df-container\">\n",
              "      <div>\n",
              "<style scoped>\n",
              "    .dataframe tbody tr th:only-of-type {\n",
              "        vertical-align: middle;\n",
              "    }\n",
              "\n",
              "    .dataframe tbody tr th {\n",
              "        vertical-align: top;\n",
              "    }\n",
              "\n",
              "    .dataframe thead th {\n",
              "        text-align: right;\n",
              "    }\n",
              "</style>\n",
              "<table border=\"1\" class=\"dataframe\">\n",
              "  <thead>\n",
              "    <tr style=\"text-align: right;\">\n",
              "      <th></th>\n",
              "      <th>TDS</th>\n",
              "      <th>Light Intensity</th>\n",
              "      <th>pH</th>\n",
              "      <th>Label</th>\n",
              "    </tr>\n",
              "  </thead>\n",
              "  <tbody>\n",
              "    <tr>\n",
              "      <th>0</th>\n",
              "      <td>0.418333</td>\n",
              "      <td>0.935000</td>\n",
              "      <td>0.43000</td>\n",
              "      <td>2</td>\n",
              "    </tr>\n",
              "    <tr>\n",
              "      <th>1</th>\n",
              "      <td>0.869167</td>\n",
              "      <td>0.765000</td>\n",
              "      <td>0.86775</td>\n",
              "      <td>10</td>\n",
              "    </tr>\n",
              "    <tr>\n",
              "      <th>2</th>\n",
              "      <td>0.242500</td>\n",
              "      <td>0.608333</td>\n",
              "      <td>0.57800</td>\n",
              "      <td>3</td>\n",
              "    </tr>\n",
              "    <tr>\n",
              "      <th>3</th>\n",
              "      <td>0.195000</td>\n",
              "      <td>0.498333</td>\n",
              "      <td>0.26275</td>\n",
              "      <td>16</td>\n",
              "    </tr>\n",
              "    <tr>\n",
              "      <th>4</th>\n",
              "      <td>0.170833</td>\n",
              "      <td>0.931667</td>\n",
              "      <td>0.42200</td>\n",
              "      <td>11</td>\n",
              "    </tr>\n",
              "    <tr>\n",
              "      <th>...</th>\n",
              "      <td>...</td>\n",
              "      <td>...</td>\n",
              "      <td>...</td>\n",
              "      <td>...</td>\n",
              "    </tr>\n",
              "    <tr>\n",
              "      <th>17995</th>\n",
              "      <td>0.463333</td>\n",
              "      <td>0.595000</td>\n",
              "      <td>0.74300</td>\n",
              "      <td>5</td>\n",
              "    </tr>\n",
              "    <tr>\n",
              "      <th>17996</th>\n",
              "      <td>0.301667</td>\n",
              "      <td>0.261667</td>\n",
              "      <td>0.50375</td>\n",
              "      <td>3</td>\n",
              "    </tr>\n",
              "    <tr>\n",
              "      <th>17997</th>\n",
              "      <td>0.654167</td>\n",
              "      <td>0.015000</td>\n",
              "      <td>0.87725</td>\n",
              "      <td>8</td>\n",
              "    </tr>\n",
              "    <tr>\n",
              "      <th>17998</th>\n",
              "      <td>0.138333</td>\n",
              "      <td>0.218333</td>\n",
              "      <td>0.23275</td>\n",
              "      <td>16</td>\n",
              "    </tr>\n",
              "    <tr>\n",
              "      <th>17999</th>\n",
              "      <td>0.613333</td>\n",
              "      <td>0.615000</td>\n",
              "      <td>0.59475</td>\n",
              "      <td>1</td>\n",
              "    </tr>\n",
              "  </tbody>\n",
              "</table>\n",
              "<p>18000 rows × 4 columns</p>\n",
              "</div>\n",
              "      <button class=\"colab-df-convert\" onclick=\"convertToInteractive('df-4473b0b9-9f98-4b18-b5ab-d9cce3fcaed1')\"\n",
              "              title=\"Convert this dataframe to an interactive table.\"\n",
              "              style=\"display:none;\">\n",
              "        \n",
              "  <svg xmlns=\"http://www.w3.org/2000/svg\" height=\"24px\"viewBox=\"0 0 24 24\"\n",
              "       width=\"24px\">\n",
              "    <path d=\"M0 0h24v24H0V0z\" fill=\"none\"/>\n",
              "    <path d=\"M18.56 5.44l.94 2.06.94-2.06 2.06-.94-2.06-.94-.94-2.06-.94 2.06-2.06.94zm-11 1L8.5 8.5l.94-2.06 2.06-.94-2.06-.94L8.5 2.5l-.94 2.06-2.06.94zm10 10l.94 2.06.94-2.06 2.06-.94-2.06-.94-.94-2.06-.94 2.06-2.06.94z\"/><path d=\"M17.41 7.96l-1.37-1.37c-.4-.4-.92-.59-1.43-.59-.52 0-1.04.2-1.43.59L10.3 9.45l-7.72 7.72c-.78.78-.78 2.05 0 2.83L4 21.41c.39.39.9.59 1.41.59.51 0 1.02-.2 1.41-.59l7.78-7.78 2.81-2.81c.8-.78.8-2.07 0-2.86zM5.41 20L4 18.59l7.72-7.72 1.47 1.35L5.41 20z\"/>\n",
              "  </svg>\n",
              "      </button>\n",
              "      \n",
              "  <style>\n",
              "    .colab-df-container {\n",
              "      display:flex;\n",
              "      flex-wrap:wrap;\n",
              "      gap: 12px;\n",
              "    }\n",
              "\n",
              "    .colab-df-convert {\n",
              "      background-color: #E8F0FE;\n",
              "      border: none;\n",
              "      border-radius: 50%;\n",
              "      cursor: pointer;\n",
              "      display: none;\n",
              "      fill: #1967D2;\n",
              "      height: 32px;\n",
              "      padding: 0 0 0 0;\n",
              "      width: 32px;\n",
              "    }\n",
              "\n",
              "    .colab-df-convert:hover {\n",
              "      background-color: #E2EBFA;\n",
              "      box-shadow: 0px 1px 2px rgba(60, 64, 67, 0.3), 0px 1px 3px 1px rgba(60, 64, 67, 0.15);\n",
              "      fill: #174EA6;\n",
              "    }\n",
              "\n",
              "    [theme=dark] .colab-df-convert {\n",
              "      background-color: #3B4455;\n",
              "      fill: #D2E3FC;\n",
              "    }\n",
              "\n",
              "    [theme=dark] .colab-df-convert:hover {\n",
              "      background-color: #434B5C;\n",
              "      box-shadow: 0px 1px 3px 1px rgba(0, 0, 0, 0.15);\n",
              "      filter: drop-shadow(0px 1px 2px rgba(0, 0, 0, 0.3));\n",
              "      fill: #FFFFFF;\n",
              "    }\n",
              "  </style>\n",
              "\n",
              "      <script>\n",
              "        const buttonEl =\n",
              "          document.querySelector('#df-4473b0b9-9f98-4b18-b5ab-d9cce3fcaed1 button.colab-df-convert');\n",
              "        buttonEl.style.display =\n",
              "          google.colab.kernel.accessAllowed ? 'block' : 'none';\n",
              "\n",
              "        async function convertToInteractive(key) {\n",
              "          const element = document.querySelector('#df-4473b0b9-9f98-4b18-b5ab-d9cce3fcaed1');\n",
              "          const dataTable =\n",
              "            await google.colab.kernel.invokeFunction('convertToInteractive',\n",
              "                                                     [key], {});\n",
              "          if (!dataTable) return;\n",
              "\n",
              "          const docLinkHtml = 'Like what you see? Visit the ' +\n",
              "            '<a target=\"_blank\" href=https://colab.research.google.com/notebooks/data_table.ipynb>data table notebook</a>'\n",
              "            + ' to learn more about interactive tables.';\n",
              "          element.innerHTML = '';\n",
              "          dataTable['output_type'] = 'display_data';\n",
              "          await google.colab.output.renderOutput(dataTable, element);\n",
              "          const docLink = document.createElement('div');\n",
              "          docLink.innerHTML = docLinkHtml;\n",
              "          element.appendChild(docLink);\n",
              "        }\n",
              "      </script>\n",
              "    </div>\n",
              "  </div>\n",
              "  "
            ]
          },
          "metadata": {},
          "execution_count": 7
        }
      ]
    },
    {
      "cell_type": "code",
      "source": [
        "# split into input and output columns\n",
        "# input = pH, TDS, Light Intensity\n",
        "# output = labels\n",
        "X, y = df.values[:, :-1], df.values[:, -1]"
      ],
      "metadata": {
        "id": "OAaaXUIO8hN6"
      },
      "execution_count": null,
      "outputs": []
    },
    {
      "cell_type": "code",
      "source": [
        "# input\n",
        "print(\"Input Data:\")\n",
        "print(X)\n",
        "\n",
        "# output\n",
        "print(\"Output: \")\n",
        "print(y)"
      ],
      "metadata": {
        "colab": {
          "base_uri": "https://localhost:8080/"
        },
        "id": "42SO1jIW-v0x",
        "outputId": "9e397791-5253-4644-9c1e-75ed26c6f7aa"
      },
      "execution_count": null,
      "outputs": [
        {
          "output_type": "stream",
          "name": "stdout",
          "text": [
            "Input Data:\n",
            "[[0.36583333 0.23333333 0.33275   ]\n",
            " [0.27416667 0.55       0.0555    ]\n",
            " [0.94166667 0.27666667 0.401     ]\n",
            " ...\n",
            " [0.73       0.72       0.2055    ]\n",
            " [0.45166667 0.59166667 0.608     ]\n",
            " [0.28666667 0.99166667 0.14275   ]]\n",
            "Output: \n",
            "[ 4. 16.  1. ...  9.  0. 14.]\n"
          ]
        }
      ]
    },
    {
      "cell_type": "code",
      "source": [
        "# ensure all input data are floating point values\n",
        "X = X.astype('float32')\n",
        "X"
      ],
      "metadata": {
        "colab": {
          "base_uri": "https://localhost:8080/"
        },
        "id": "Q0j2c_6f_UQE",
        "outputId": "0c6bd7e3-3d69-4da9-a6f1-392902cb0e92"
      },
      "execution_count": null,
      "outputs": [
        {
          "output_type": "execute_result",
          "data": {
            "text/plain": [
              "array([[0.36583334, 0.23333333, 0.33275   ],\n",
              "       [0.27416667, 0.55      , 0.0555    ],\n",
              "       [0.94166666, 0.27666667, 0.401     ],\n",
              "       ...,\n",
              "       [0.73      , 0.72      , 0.2055    ],\n",
              "       [0.45166665, 0.59166664, 0.608     ],\n",
              "       [0.28666666, 0.9916667 , 0.14275   ]], dtype=float32)"
            ]
          },
          "metadata": {},
          "execution_count": 10
        }
      ]
    },
    {
      "cell_type": "code",
      "source": [
        "# split into input and output columns\n",
        "from sklearn.model_selection import train_test_split\n",
        "\n",
        "X_train, X_test, y_train, y_test = train_test_split(X, y, test_size=0.20)\n",
        "print(X_train.shape, X_test.shape, y_train.shape, y_test.shape)"
      ],
      "metadata": {
        "colab": {
          "base_uri": "https://localhost:8080/"
        },
        "id": "Dwyo3HH2AvGN",
        "outputId": "ff7affcc-5d18-42b1-c353-5003e85d9220"
      },
      "execution_count": null,
      "outputs": [
        {
          "output_type": "stream",
          "name": "stdout",
          "text": [
            "(14400, 3) (3600, 3) (14400,) (3600,)\n"
          ]
        }
      ]
    },
    {
      "cell_type": "code",
      "source": [
        "# determine the number of input features\n",
        "# input = pH, TDS, Light Intensity\n",
        "n_features = X_train.shape[1]\n",
        "n_features"
      ],
      "metadata": {
        "colab": {
          "base_uri": "https://localhost:8080/"
        },
        "id": "dswnxQD6BNpE",
        "outputId": "6a9f0662-83b3-4a4f-c850-655021d37faa"
      },
      "execution_count": null,
      "outputs": [
        {
          "output_type": "execute_result",
          "data": {
            "text/plain": [
              "3"
            ]
          },
          "metadata": {},
          "execution_count": 12
        }
      ]
    },
    {
      "cell_type": "markdown",
      "source": [
        "## **Create Model**"
      ],
      "metadata": {
        "id": "Hpv61DjaXOE6"
      }
    },
    {
      "cell_type": "markdown",
      "source": [
        "The function requires that the output layer is configured with an n nodes (one for each class), in this case 18 nodes, and a ‘softmax‘ activation in order to predict the probability for each class."
      ],
      "metadata": {
        "id": "xyEEZ3HHcTXm"
      }
    },
    {
      "cell_type": "code",
      "source": [
        "# define model\n",
        "tf.random.set_seed(42)\n",
        "\n",
        "model = Sequential()\n",
        "model.add(Flatten(input_shape=(n_features,))) # input layer\n",
        "# model.add(Dense(10, activation='relu', kernel_initializer='he_normal')) # hidden layer\n",
        "# model.add(Dense(8, activation='relu', kernel_initializer='he_normal')) # hidden layer\n",
        "model.add(Dense(64, activation='relu', kernel_initializer='he_normal')) # hidden layer\n",
        "model.add(Dense(32, activation='relu', kernel_initializer='he_normal')) # hidden layer\n",
        "model.add(Dense(16, activation='relu', kernel_initializer='he_normal')) # hidden layer\n",
        "model.add(Dense(18, activation='softmax')) # output layer"
      ],
      "metadata": {
        "id": "_ch3axbwG0wq"
      },
      "execution_count": null,
      "outputs": []
    },
    {
      "cell_type": "markdown",
      "source": [
        "In this section, we will investigate loss functions that are approriate for multiclass classification predictive modeling problems."
      ],
      "metadata": {
        "id": "sTgl2Dw1bmVK"
      }
    },
    {
      "cell_type": "code",
      "source": [
        "# compile the model\n",
        "# model trains using Adam optimizer with learning rate = 0.001\n",
        "# you can increase learning rate to 0.1\n",
        "# model calculates loss using sparse_categorical_crossentropy that is used to \n",
        "model.compile(optimizer=tf.optimizers.Adam(0.001), loss='sparse_categorical_crossentropy', metrics=['accuracy'])\n",
        "print(model.summary())"
      ],
      "metadata": {
        "id": "r4zekNEgIpfP",
        "colab": {
          "base_uri": "https://localhost:8080/"
        },
        "outputId": "d56ffafd-a1a8-4aca-dc0f-d38a40a6f7bd"
      },
      "execution_count": null,
      "outputs": [
        {
          "output_type": "stream",
          "name": "stdout",
          "text": [
            "Model: \"sequential\"\n",
            "_________________________________________________________________\n",
            " Layer (type)                Output Shape              Param #   \n",
            "=================================================================\n",
            " flatten (Flatten)           (None, 3)                 0         \n",
            "                                                                 \n",
            " dense (Dense)               (None, 64)                256       \n",
            "                                                                 \n",
            " dense_1 (Dense)             (None, 32)                2080      \n",
            "                                                                 \n",
            " dense_2 (Dense)             (None, 16)                528       \n",
            "                                                                 \n",
            " dense_3 (Dense)             (None, 18)                306       \n",
            "                                                                 \n",
            "=================================================================\n",
            "Total params: 3,170\n",
            "Trainable params: 3,170\n",
            "Non-trainable params: 0\n",
            "_________________________________________________________________\n",
            "None\n"
          ]
        }
      ]
    },
    {
      "cell_type": "code",
      "source": [
        "# fit the model\n",
        "history = model.fit(\n",
        "    x=X_train,  \n",
        "    y=y_train, \n",
        "    epochs=100, # train for 100 epochs \n",
        "    batch_size=32) #use 32 examples per batch\n",
        "\n",
        "# batch = 128"
      ],
      "metadata": {
        "colab": {
          "base_uri": "https://localhost:8080/"
        },
        "id": "Ft8a_AAKI0yf",
        "outputId": "7ccec773-81a9-444b-9c01-cc9e62fc5407"
      },
      "execution_count": null,
      "outputs": [
        {
          "output_type": "stream",
          "name": "stdout",
          "text": [
            "Epoch 1/100\n",
            "450/450 [==============================] - 1s 2ms/step - loss: 1.7065 - accuracy: 0.4485\n",
            "Epoch 2/100\n",
            "450/450 [==============================] - 1s 2ms/step - loss: 0.6126 - accuracy: 0.7896\n",
            "Epoch 3/100\n",
            "450/450 [==============================] - 1s 3ms/step - loss: 0.3437 - accuracy: 0.8842\n",
            "Epoch 4/100\n",
            "450/450 [==============================] - 1s 2ms/step - loss: 0.2492 - accuracy: 0.9195\n",
            "Epoch 5/100\n",
            "450/450 [==============================] - 1s 2ms/step - loss: 0.2052 - accuracy: 0.9324\n",
            "Epoch 6/100\n",
            "450/450 [==============================] - 1s 2ms/step - loss: 0.1747 - accuracy: 0.9435\n",
            "Epoch 7/100\n",
            "450/450 [==============================] - 1s 2ms/step - loss: 0.1574 - accuracy: 0.9485\n",
            "Epoch 8/100\n",
            "450/450 [==============================] - 1s 2ms/step - loss: 0.1448 - accuracy: 0.9506\n",
            "Epoch 9/100\n",
            "450/450 [==============================] - 1s 2ms/step - loss: 0.1390 - accuracy: 0.9533\n",
            "Epoch 10/100\n",
            "450/450 [==============================] - 1s 2ms/step - loss: 0.1289 - accuracy: 0.9562\n",
            "Epoch 11/100\n",
            "450/450 [==============================] - 1s 2ms/step - loss: 0.1216 - accuracy: 0.9572\n",
            "Epoch 12/100\n",
            "450/450 [==============================] - 1s 2ms/step - loss: 0.1172 - accuracy: 0.9599\n",
            "Epoch 13/100\n",
            "450/450 [==============================] - 1s 2ms/step - loss: 0.1137 - accuracy: 0.9592\n",
            "Epoch 14/100\n",
            "450/450 [==============================] - 1s 2ms/step - loss: 0.1133 - accuracy: 0.9562\n",
            "Epoch 15/100\n",
            "450/450 [==============================] - 2s 4ms/step - loss: 0.1073 - accuracy: 0.9592\n",
            "Epoch 16/100\n",
            "450/450 [==============================] - 2s 4ms/step - loss: 0.1050 - accuracy: 0.9611\n",
            "Epoch 17/100\n",
            "450/450 [==============================] - 1s 2ms/step - loss: 0.1022 - accuracy: 0.9604\n",
            "Epoch 18/100\n",
            "450/450 [==============================] - 1s 2ms/step - loss: 0.1014 - accuracy: 0.9597\n",
            "Epoch 19/100\n",
            "450/450 [==============================] - 1s 2ms/step - loss: 0.0958 - accuracy: 0.9638\n",
            "Epoch 20/100\n",
            "450/450 [==============================] - 1s 2ms/step - loss: 0.0966 - accuracy: 0.9629\n",
            "Epoch 21/100\n",
            "450/450 [==============================] - 1s 2ms/step - loss: 0.0971 - accuracy: 0.9604\n",
            "Epoch 22/100\n",
            "450/450 [==============================] - 1s 2ms/step - loss: 0.0934 - accuracy: 0.9610\n",
            "Epoch 23/100\n",
            "450/450 [==============================] - 1s 2ms/step - loss: 0.0910 - accuracy: 0.9642\n",
            "Epoch 24/100\n",
            "450/450 [==============================] - 1s 2ms/step - loss: 0.0890 - accuracy: 0.9651\n",
            "Epoch 25/100\n",
            "450/450 [==============================] - 1s 2ms/step - loss: 0.0884 - accuracy: 0.9668\n",
            "Epoch 26/100\n",
            "450/450 [==============================] - 1s 2ms/step - loss: 0.0882 - accuracy: 0.9645\n",
            "Epoch 27/100\n",
            "450/450 [==============================] - 1s 2ms/step - loss: 0.0879 - accuracy: 0.9649\n",
            "Epoch 28/100\n",
            "450/450 [==============================] - 1s 2ms/step - loss: 0.0843 - accuracy: 0.9656\n",
            "Epoch 29/100\n",
            "450/450 [==============================] - 1s 2ms/step - loss: 0.0836 - accuracy: 0.9663\n",
            "Epoch 30/100\n",
            "450/450 [==============================] - 1s 2ms/step - loss: 0.0804 - accuracy: 0.9673\n",
            "Epoch 31/100\n",
            "450/450 [==============================] - 1s 2ms/step - loss: 0.0805 - accuracy: 0.9674\n",
            "Epoch 32/100\n",
            "450/450 [==============================] - 1s 2ms/step - loss: 0.0826 - accuracy: 0.9665\n",
            "Epoch 33/100\n",
            "450/450 [==============================] - 1s 2ms/step - loss: 0.0849 - accuracy: 0.9655\n",
            "Epoch 34/100\n",
            "450/450 [==============================] - 1s 2ms/step - loss: 0.0783 - accuracy: 0.9679\n",
            "Epoch 35/100\n",
            "450/450 [==============================] - 1s 2ms/step - loss: 0.0916 - accuracy: 0.9626\n",
            "Epoch 36/100\n",
            "450/450 [==============================] - 1s 2ms/step - loss: 0.0779 - accuracy: 0.9669\n",
            "Epoch 37/100\n",
            "450/450 [==============================] - 1s 2ms/step - loss: 0.0728 - accuracy: 0.9704\n",
            "Epoch 38/100\n",
            "450/450 [==============================] - 1s 2ms/step - loss: 0.0783 - accuracy: 0.9690\n",
            "Epoch 39/100\n",
            "450/450 [==============================] - 1s 2ms/step - loss: 0.0741 - accuracy: 0.9711\n",
            "Epoch 40/100\n",
            "450/450 [==============================] - 1s 2ms/step - loss: 0.0752 - accuracy: 0.9682\n",
            "Epoch 41/100\n",
            "450/450 [==============================] - 1s 2ms/step - loss: 0.0751 - accuracy: 0.9692\n",
            "Epoch 42/100\n",
            "450/450 [==============================] - 1s 2ms/step - loss: 0.0770 - accuracy: 0.9668\n",
            "Epoch 43/100\n",
            "450/450 [==============================] - 1s 2ms/step - loss: 0.0748 - accuracy: 0.9701\n",
            "Epoch 44/100\n",
            "450/450 [==============================] - 1s 2ms/step - loss: 0.0749 - accuracy: 0.9704\n",
            "Epoch 45/100\n",
            "450/450 [==============================] - 1s 2ms/step - loss: 0.0725 - accuracy: 0.9711\n",
            "Epoch 46/100\n",
            "450/450 [==============================] - 1s 2ms/step - loss: 0.0739 - accuracy: 0.9706\n",
            "Epoch 47/100\n",
            "450/450 [==============================] - 1s 2ms/step - loss: 0.0723 - accuracy: 0.9710\n",
            "Epoch 48/100\n",
            "450/450 [==============================] - 1s 2ms/step - loss: 0.0778 - accuracy: 0.9676\n",
            "Epoch 49/100\n",
            "450/450 [==============================] - 1s 3ms/step - loss: 0.0701 - accuracy: 0.9717\n",
            "Epoch 50/100\n",
            "450/450 [==============================] - 1s 3ms/step - loss: 0.0682 - accuracy: 0.9721\n",
            "Epoch 51/100\n",
            "450/450 [==============================] - 1s 2ms/step - loss: 0.0664 - accuracy: 0.9735\n",
            "Epoch 52/100\n",
            "450/450 [==============================] - 1s 2ms/step - loss: 0.0724 - accuracy: 0.9696\n",
            "Epoch 53/100\n",
            "450/450 [==============================] - 1s 2ms/step - loss: 0.0758 - accuracy: 0.9677\n",
            "Epoch 54/100\n",
            "450/450 [==============================] - 1s 2ms/step - loss: 0.0699 - accuracy: 0.9712\n",
            "Epoch 55/100\n",
            "450/450 [==============================] - 1s 2ms/step - loss: 0.0699 - accuracy: 0.9701\n",
            "Epoch 56/100\n",
            "450/450 [==============================] - 1s 2ms/step - loss: 0.0706 - accuracy: 0.9703\n",
            "Epoch 57/100\n",
            "450/450 [==============================] - 1s 2ms/step - loss: 0.0673 - accuracy: 0.9714\n",
            "Epoch 58/100\n",
            "450/450 [==============================] - 1s 2ms/step - loss: 0.0697 - accuracy: 0.9699\n",
            "Epoch 59/100\n",
            "450/450 [==============================] - 1s 2ms/step - loss: 0.0715 - accuracy: 0.9700\n",
            "Epoch 60/100\n",
            "450/450 [==============================] - 1s 2ms/step - loss: 0.0717 - accuracy: 0.9696\n",
            "Epoch 61/100\n",
            "450/450 [==============================] - 1s 2ms/step - loss: 0.0660 - accuracy: 0.9731\n",
            "Epoch 62/100\n",
            "450/450 [==============================] - 1s 2ms/step - loss: 0.0655 - accuracy: 0.9733\n",
            "Epoch 63/100\n",
            "450/450 [==============================] - 1s 2ms/step - loss: 0.0731 - accuracy: 0.9688\n",
            "Epoch 64/100\n",
            "450/450 [==============================] - 1s 2ms/step - loss: 0.0662 - accuracy: 0.9722\n",
            "Epoch 65/100\n",
            "450/450 [==============================] - 1s 2ms/step - loss: 0.0677 - accuracy: 0.9710\n",
            "Epoch 66/100\n",
            "450/450 [==============================] - 1s 2ms/step - loss: 0.0660 - accuracy: 0.9717\n",
            "Epoch 67/100\n",
            "450/450 [==============================] - 1s 2ms/step - loss: 0.0695 - accuracy: 0.9690\n",
            "Epoch 68/100\n",
            "450/450 [==============================] - 1s 2ms/step - loss: 0.0675 - accuracy: 0.9701\n",
            "Epoch 69/100\n",
            "450/450 [==============================] - 1s 2ms/step - loss: 0.0641 - accuracy: 0.9734\n",
            "Epoch 70/100\n",
            "450/450 [==============================] - 1s 2ms/step - loss: 0.0718 - accuracy: 0.9701\n",
            "Epoch 71/100\n",
            "450/450 [==============================] - 1s 2ms/step - loss: 0.0662 - accuracy: 0.9736\n",
            "Epoch 72/100\n",
            "450/450 [==============================] - 1s 2ms/step - loss: 0.0664 - accuracy: 0.9719\n",
            "Epoch 73/100\n",
            "450/450 [==============================] - 1s 2ms/step - loss: 0.0636 - accuracy: 0.9735\n",
            "Epoch 74/100\n",
            "450/450 [==============================] - 1s 2ms/step - loss: 0.0655 - accuracy: 0.9717\n",
            "Epoch 75/100\n",
            "450/450 [==============================] - 1s 2ms/step - loss: 0.0638 - accuracy: 0.9735\n",
            "Epoch 76/100\n",
            "450/450 [==============================] - 1s 2ms/step - loss: 0.0631 - accuracy: 0.9725\n",
            "Epoch 77/100\n",
            "450/450 [==============================] - 1s 2ms/step - loss: 0.0670 - accuracy: 0.9727\n",
            "Epoch 78/100\n",
            "450/450 [==============================] - 1s 2ms/step - loss: 0.0735 - accuracy: 0.9694\n",
            "Epoch 79/100\n",
            "450/450 [==============================] - 1s 2ms/step - loss: 0.0644 - accuracy: 0.9744\n",
            "Epoch 80/100\n",
            "450/450 [==============================] - 1s 2ms/step - loss: 0.0649 - accuracy: 0.9709\n",
            "Epoch 81/100\n",
            "450/450 [==============================] - 1s 2ms/step - loss: 0.0651 - accuracy: 0.9719\n",
            "Epoch 82/100\n",
            "450/450 [==============================] - 1s 2ms/step - loss: 0.0659 - accuracy: 0.9737\n",
            "Epoch 83/100\n",
            "450/450 [==============================] - 1s 2ms/step - loss: 0.0661 - accuracy: 0.9724\n",
            "Epoch 84/100\n",
            "450/450 [==============================] - 1s 2ms/step - loss: 0.0659 - accuracy: 0.9721\n",
            "Epoch 85/100\n",
            "450/450 [==============================] - 1s 2ms/step - loss: 0.0671 - accuracy: 0.9712\n",
            "Epoch 86/100\n",
            "450/450 [==============================] - 1s 2ms/step - loss: 0.0674 - accuracy: 0.9726\n",
            "Epoch 87/100\n",
            "450/450 [==============================] - 1s 2ms/step - loss: 0.0692 - accuracy: 0.9703\n",
            "Epoch 88/100\n",
            "450/450 [==============================] - 1s 2ms/step - loss: 0.0652 - accuracy: 0.9723\n",
            "Epoch 89/100\n",
            "450/450 [==============================] - 1s 2ms/step - loss: 0.0612 - accuracy: 0.9727\n",
            "Epoch 90/100\n",
            "450/450 [==============================] - 1s 2ms/step - loss: 0.0676 - accuracy: 0.9717\n",
            "Epoch 91/100\n",
            "450/450 [==============================] - 1s 2ms/step - loss: 0.0694 - accuracy: 0.9708\n",
            "Epoch 92/100\n",
            "450/450 [==============================] - 1s 2ms/step - loss: 0.0643 - accuracy: 0.9726\n",
            "Epoch 93/100\n",
            "450/450 [==============================] - 1s 2ms/step - loss: 0.0626 - accuracy: 0.9735\n",
            "Epoch 94/100\n",
            "450/450 [==============================] - 1s 2ms/step - loss: 0.0612 - accuracy: 0.9728\n",
            "Epoch 95/100\n",
            "450/450 [==============================] - 1s 2ms/step - loss: 0.0619 - accuracy: 0.9742\n",
            "Epoch 96/100\n",
            "450/450 [==============================] - 1s 2ms/step - loss: 0.0570 - accuracy: 0.9765\n",
            "Epoch 97/100\n",
            "450/450 [==============================] - 1s 2ms/step - loss: 0.0650 - accuracy: 0.9716\n",
            "Epoch 98/100\n",
            "450/450 [==============================] - 1s 2ms/step - loss: 0.0612 - accuracy: 0.9742\n",
            "Epoch 99/100\n",
            "450/450 [==============================] - 1s 2ms/step - loss: 0.0649 - accuracy: 0.9739\n",
            "Epoch 100/100\n",
            "450/450 [==============================] - 1s 2ms/step - loss: 0.0646 - accuracy: 0.9736\n"
          ]
        }
      ]
    },
    {
      "cell_type": "code",
      "source": [
        "# evaluate the model\n",
        "train_loss, train_acc = model.evaluate(X_train, y_train, verbose=2)\n",
        "test_lost, test_acc = model.evaluate(X_test, y_test, verbose=2)\n",
        "# loss, acc = model.evaluate(X_test, y_test, verbose=2)\n",
        "print('Train accuracy: %.3f' % train_acc)\n",
        "print('Test accuracy: %.3f' % test_acc)"
      ],
      "metadata": {
        "colab": {
          "base_uri": "https://localhost:8080/"
        },
        "id": "Vnwo4BnWKJxc",
        "outputId": "d5fef76f-e569-4c92-8dd4-6f04526488cf"
      },
      "execution_count": null,
      "outputs": [
        {
          "output_type": "stream",
          "name": "stdout",
          "text": [
            "450/450 - 1s - loss: 0.0557 - accuracy: 0.9766 - 579ms/epoch - 1ms/step\n",
            "113/113 - 0s - loss: 0.0683 - accuracy: 0.9697 - 286ms/epoch - 3ms/step\n",
            "Train accuracy: 0.977\n",
            "Test accuracy: 0.970\n"
          ]
        }
      ]
    },
    {
      "cell_type": "markdown",
      "source": [
        "##**Making Prediction**"
      ],
      "metadata": {
        "id": "v3Zj96BvwnXr"
      }
    },
    {
      "cell_type": "code",
      "source": [
        "# make a prediction\n",
        "# tds, light intensity, ph\n",
        "from numpy import argmax\n",
        "# row = [0.5775, 0.48166665, 0.567] # label 0\n",
        "# row = [0.627500, 0.845000, 0.33150] # label 9\n",
        "# row = [0.405000, 0.376667, 0.96125] # label 5\n",
        "# row = [0.901667,\t0.235000,\t0.59900] # label 1\n",
        "row = [0.550833,\t0.716667,\t0.44050] # label 2\n",
        "\n",
        "yhat = model.predict([row], verbose=1)\n",
        "print('Predicted: %s (class=%d)' % (yhat, argmax(yhat)))"
      ],
      "metadata": {
        "colab": {
          "base_uri": "https://localhost:8080/"
        },
        "id": "AjJouxc2KdBj",
        "outputId": "100ce89c-7426-4c2f-e51d-5dbb0a9dea48"
      },
      "execution_count": null,
      "outputs": [
        {
          "output_type": "stream",
          "name": "stdout",
          "text": [
            "1/1 [==============================] - 0s 96ms/step\n",
            "Predicted: [[7.5784115e-08 1.5792241e-10 9.9888200e-01 6.9058543e-20 8.3405720e-21\n",
            "  6.3232157e-26 1.1178378e-03 2.1294567e-21 4.0060554e-26 8.3840036e-17\n",
            "  5.0225616e-23 2.4863214e-14 1.1864473e-13 2.6120936e-20 3.9485376e-19\n",
            "  6.2085843e-33 2.0813322e-38 0.0000000e+00]] (class=2)\n"
          ]
        }
      ]
    },
    {
      "cell_type": "code",
      "source": [
        "df.head()"
      ],
      "metadata": {
        "colab": {
          "base_uri": "https://localhost:8080/",
          "height": 206
        },
        "id": "Ybx8M3pcmqzE",
        "outputId": "2d4f3700-1936-4fc4-cb89-aae4ec94e52b"
      },
      "execution_count": null,
      "outputs": [
        {
          "output_type": "execute_result",
          "data": {
            "text/plain": [
              "        TDS  Light Intensity       pH  Label\n",
              "0  0.835000         0.761667  0.62000      6\n",
              "1  0.025000         0.160000  0.56400      3\n",
              "2  0.680833         0.783333  0.57500      6\n",
              "3  0.497500         0.000000  0.95175      5\n",
              "4  0.451667         0.175000  0.22075      4"
            ],
            "text/html": [
              "\n",
              "  <div id=\"df-10269d2e-3aa0-4741-840a-df99f6632eab\">\n",
              "    <div class=\"colab-df-container\">\n",
              "      <div>\n",
              "<style scoped>\n",
              "    .dataframe tbody tr th:only-of-type {\n",
              "        vertical-align: middle;\n",
              "    }\n",
              "\n",
              "    .dataframe tbody tr th {\n",
              "        vertical-align: top;\n",
              "    }\n",
              "\n",
              "    .dataframe thead th {\n",
              "        text-align: right;\n",
              "    }\n",
              "</style>\n",
              "<table border=\"1\" class=\"dataframe\">\n",
              "  <thead>\n",
              "    <tr style=\"text-align: right;\">\n",
              "      <th></th>\n",
              "      <th>TDS</th>\n",
              "      <th>Light Intensity</th>\n",
              "      <th>pH</th>\n",
              "      <th>Label</th>\n",
              "    </tr>\n",
              "  </thead>\n",
              "  <tbody>\n",
              "    <tr>\n",
              "      <th>0</th>\n",
              "      <td>0.835000</td>\n",
              "      <td>0.761667</td>\n",
              "      <td>0.62000</td>\n",
              "      <td>6</td>\n",
              "    </tr>\n",
              "    <tr>\n",
              "      <th>1</th>\n",
              "      <td>0.025000</td>\n",
              "      <td>0.160000</td>\n",
              "      <td>0.56400</td>\n",
              "      <td>3</td>\n",
              "    </tr>\n",
              "    <tr>\n",
              "      <th>2</th>\n",
              "      <td>0.680833</td>\n",
              "      <td>0.783333</td>\n",
              "      <td>0.57500</td>\n",
              "      <td>6</td>\n",
              "    </tr>\n",
              "    <tr>\n",
              "      <th>3</th>\n",
              "      <td>0.497500</td>\n",
              "      <td>0.000000</td>\n",
              "      <td>0.95175</td>\n",
              "      <td>5</td>\n",
              "    </tr>\n",
              "    <tr>\n",
              "      <th>4</th>\n",
              "      <td>0.451667</td>\n",
              "      <td>0.175000</td>\n",
              "      <td>0.22075</td>\n",
              "      <td>4</td>\n",
              "    </tr>\n",
              "  </tbody>\n",
              "</table>\n",
              "</div>\n",
              "      <button class=\"colab-df-convert\" onclick=\"convertToInteractive('df-10269d2e-3aa0-4741-840a-df99f6632eab')\"\n",
              "              title=\"Convert this dataframe to an interactive table.\"\n",
              "              style=\"display:none;\">\n",
              "        \n",
              "  <svg xmlns=\"http://www.w3.org/2000/svg\" height=\"24px\"viewBox=\"0 0 24 24\"\n",
              "       width=\"24px\">\n",
              "    <path d=\"M0 0h24v24H0V0z\" fill=\"none\"/>\n",
              "    <path d=\"M18.56 5.44l.94 2.06.94-2.06 2.06-.94-2.06-.94-.94-2.06-.94 2.06-2.06.94zm-11 1L8.5 8.5l.94-2.06 2.06-.94-2.06-.94L8.5 2.5l-.94 2.06-2.06.94zm10 10l.94 2.06.94-2.06 2.06-.94-2.06-.94-.94-2.06-.94 2.06-2.06.94z\"/><path d=\"M17.41 7.96l-1.37-1.37c-.4-.4-.92-.59-1.43-.59-.52 0-1.04.2-1.43.59L10.3 9.45l-7.72 7.72c-.78.78-.78 2.05 0 2.83L4 21.41c.39.39.9.59 1.41.59.51 0 1.02-.2 1.41-.59l7.78-7.78 2.81-2.81c.8-.78.8-2.07 0-2.86zM5.41 20L4 18.59l7.72-7.72 1.47 1.35L5.41 20z\"/>\n",
              "  </svg>\n",
              "      </button>\n",
              "      \n",
              "  <style>\n",
              "    .colab-df-container {\n",
              "      display:flex;\n",
              "      flex-wrap:wrap;\n",
              "      gap: 12px;\n",
              "    }\n",
              "\n",
              "    .colab-df-convert {\n",
              "      background-color: #E8F0FE;\n",
              "      border: none;\n",
              "      border-radius: 50%;\n",
              "      cursor: pointer;\n",
              "      display: none;\n",
              "      fill: #1967D2;\n",
              "      height: 32px;\n",
              "      padding: 0 0 0 0;\n",
              "      width: 32px;\n",
              "    }\n",
              "\n",
              "    .colab-df-convert:hover {\n",
              "      background-color: #E2EBFA;\n",
              "      box-shadow: 0px 1px 2px rgba(60, 64, 67, 0.3), 0px 1px 3px 1px rgba(60, 64, 67, 0.15);\n",
              "      fill: #174EA6;\n",
              "    }\n",
              "\n",
              "    [theme=dark] .colab-df-convert {\n",
              "      background-color: #3B4455;\n",
              "      fill: #D2E3FC;\n",
              "    }\n",
              "\n",
              "    [theme=dark] .colab-df-convert:hover {\n",
              "      background-color: #434B5C;\n",
              "      box-shadow: 0px 1px 3px 1px rgba(0, 0, 0, 0.15);\n",
              "      filter: drop-shadow(0px 1px 2px rgba(0, 0, 0, 0.3));\n",
              "      fill: #FFFFFF;\n",
              "    }\n",
              "  </style>\n",
              "\n",
              "      <script>\n",
              "        const buttonEl =\n",
              "          document.querySelector('#df-10269d2e-3aa0-4741-840a-df99f6632eab button.colab-df-convert');\n",
              "        buttonEl.style.display =\n",
              "          google.colab.kernel.accessAllowed ? 'block' : 'none';\n",
              "\n",
              "        async function convertToInteractive(key) {\n",
              "          const element = document.querySelector('#df-10269d2e-3aa0-4741-840a-df99f6632eab');\n",
              "          const dataTable =\n",
              "            await google.colab.kernel.invokeFunction('convertToInteractive',\n",
              "                                                     [key], {});\n",
              "          if (!dataTable) return;\n",
              "\n",
              "          const docLinkHtml = 'Like what you see? Visit the ' +\n",
              "            '<a target=\"_blank\" href=https://colab.research.google.com/notebooks/data_table.ipynb>data table notebook</a>'\n",
              "            + ' to learn more about interactive tables.';\n",
              "          element.innerHTML = '';\n",
              "          dataTable['output_type'] = 'display_data';\n",
              "          await google.colab.output.renderOutput(dataTable, element);\n",
              "          const docLink = document.createElement('div');\n",
              "          docLink.innerHTML = docLinkHtml;\n",
              "          element.appendChild(docLink);\n",
              "        }\n",
              "      </script>\n",
              "    </div>\n",
              "  </div>\n",
              "  "
            ]
          },
          "metadata": {},
          "execution_count": 19
        }
      ]
    },
    {
      "cell_type": "code",
      "source": [
        "0.6275 * 1500\n"
      ],
      "metadata": {
        "colab": {
          "base_uri": "https://localhost:8080/"
        },
        "id": "fWwBkxaGtheH",
        "outputId": "27a708c3-39b2-4019-dab3-835096cddc8e"
      },
      "execution_count": null,
      "outputs": [
        {
          "output_type": "execute_result",
          "data": {
            "text/plain": [
              "941.2499999999999"
            ]
          },
          "metadata": {},
          "execution_count": 32
        }
      ]
    },
    {
      "cell_type": "code",
      "source": [
        "0.845000 * 1000"
      ],
      "metadata": {
        "colab": {
          "base_uri": "https://localhost:8080/"
        },
        "id": "AYX3qur9uQAA",
        "outputId": "846f0f21-93b9-48a6-adc1-75977d540a5f"
      },
      "execution_count": null,
      "outputs": [
        {
          "output_type": "execute_result",
          "data": {
            "text/plain": [
              "845.0"
            ]
          },
          "metadata": {},
          "execution_count": 30
        }
      ]
    },
    {
      "cell_type": "code",
      "source": [
        "0.33150 * 8"
      ],
      "metadata": {
        "colab": {
          "base_uri": "https://localhost:8080/"
        },
        "id": "SEyOUj56uQlb",
        "outputId": "168ee722-d4c3-46f7-bf77-7f5cee7ee52e"
      },
      "execution_count": null,
      "outputs": [
        {
          "output_type": "execute_result",
          "data": {
            "text/plain": [
              "2.652"
            ]
          },
          "metadata": {},
          "execution_count": 31
        }
      ]
    },
    {
      "cell_type": "code",
      "source": [
        "# make a prediction with normalization\n",
        "# tds, light intensity, ph\n",
        "import numpy\n",
        "from numpy import argmax\n",
        "# row = [0.5775, 0.48166665, 0.567] # label 0\n",
        "row = numpy.array([1000, 750, 6]) # label 9\n",
        "# row = \n",
        "predict_row = row/normalization\n",
        "predict_row1 = predict_row.tolist()\n",
        "yhat = model.predict([predict_row1])\n",
        "print('Predicted: %s (class=%d)' % (yhat, argmax(yhat)))"
      ],
      "metadata": {
        "colab": {
          "base_uri": "https://localhost:8080/"
        },
        "id": "91qGp4gKlr5Q",
        "outputId": "a130c975-3012-4505-80f0-30d7ccbbe432"
      },
      "execution_count": null,
      "outputs": [
        {
          "output_type": "stream",
          "name": "stdout",
          "text": [
            "Predicted: [[1.0659668e-35 3.4292693e-27 1.2479373e-24 0.0000000e+00 0.0000000e+00\n",
            "  5.5408926e-20 3.4814849e-16 0.0000000e+00 1.1937662e-10 0.0000000e+00\n",
            "  1.0000000e+00 0.0000000e+00 0.0000000e+00 2.2150171e-10 0.0000000e+00\n",
            "  2.6247926e-34 0.0000000e+00 0.0000000e+00]] (class=10)\n"
          ]
        }
      ]
    },
    {
      "cell_type": "code",
      "source": [
        "predict_row"
      ],
      "metadata": {
        "colab": {
          "base_uri": "https://localhost:8080/"
        },
        "id": "BDfHgQzftTKV",
        "outputId": "1af73e25-4475-4beb-cd0d-679eec0e61a4"
      },
      "execution_count": null,
      "outputs": [
        {
          "output_type": "execute_result",
          "data": {
            "text/plain": [
              "array([1.   , 0.9  , 0.375])"
            ]
          },
          "metadata": {},
          "execution_count": 22
        }
      ]
    },
    {
      "cell_type": "markdown",
      "source": [
        "## **Generate a SavedModel**"
      ],
      "metadata": {
        "id": "L1jOvgmZ5CZ_"
      }
    },
    {
      "cell_type": "code",
      "source": [
        "export_dir = 'saved_model/1'\n",
        "tf.saved_model.save(model, export_dir)"
      ],
      "metadata": {
        "id": "i9fh4Es35Fh0"
      },
      "execution_count": null,
      "outputs": []
    },
    {
      "cell_type": "markdown",
      "source": [
        "## **Convert the SavedModel to TFLite**"
      ],
      "metadata": {
        "id": "IElTziNW5e_S"
      }
    },
    {
      "cell_type": "code",
      "source": [
        "# convert the model\n",
        "converter = tf.lite.TFLiteConverter.from_saved_model(export_dir)\n",
        "tflite_model = converted.convert()"
      ],
      "metadata": {
        "id": "iShkFDZx5jbK"
      },
      "execution_count": null,
      "outputs": []
    },
    {
      "cell_type": "code",
      "source": [
        "tflite_model_file = pathlib.Path('model.tflite')\n",
        "tflite_model_file.write_bytes(tflite_model)"
      ],
      "metadata": {
        "id": "c9OJNS1F5qat"
      },
      "execution_count": null,
      "outputs": []
    },
    {
      "cell_type": "markdown",
      "source": [
        "## **Initialize the TFLite Interpreter to Try It Out**"
      ],
      "metadata": {
        "id": "8rwWS87F5yS1"
      }
    },
    {
      "cell_type": "code",
      "source": [
        "# Load TFLite model and allocate tensors.\n",
        "interpreter = tf.lite.Interpreter(model_content=tflite_model)\n",
        "interpreter.allocate_tensors()\n",
        "\n",
        "# Get input and output tensors.\n",
        "input_details = interpreter.get_input_details()\n",
        "output_details = interpreter.get_output_details()"
      ],
      "metadata": {
        "id": "5k8R9sFRNFYQ"
      },
      "execution_count": null,
      "outputs": []
    },
    {
      "cell_type": "code",
      "source": [
        "# Test the TensorFlow Lite model on random input data.\n",
        "input_shape = input_details[0]['shape']\n",
        "inputs, outputs = [], []\n",
        "\n",
        "# ambil data dari github untuk testing"
      ],
      "metadata": {
        "id": "LyXaGZcDDlty"
      },
      "execution_count": null,
      "outputs": []
    },
    {
      "cell_type": "markdown",
      "source": [
        "## **Download the TFLite Model File**"
      ],
      "metadata": {
        "id": "uJoshl1jDTlQ"
      }
    },
    {
      "cell_type": "code",
      "source": [
        "try:\n",
        "    from google.colab import files\n",
        "    files.download(tflite_model_file)\n",
        "except:\n",
        "    pass"
      ],
      "metadata": {
        "id": "OfjCbLSdDYdz"
      },
      "execution_count": null,
      "outputs": []
    },
    {
      "cell_type": "markdown",
      "source": [
        "# **Notes and Example**"
      ],
      "metadata": {
        "id": "rO0h6bhQLFYv"
      }
    },
    {
      "cell_type": "markdown",
      "source": [
        "## **Debugging**\n",
        "\n",
        "The following list describes possible actions to debug model. To debug in ML requires us to sort through multiple possibilities at once. If an action sounds promising, experiment by modifying the code above.\n",
        "\n",
        "\n",
        "*   Transforming data\n",
        "*   Activation function\n",
        "* **Hyperparameter values**\n",
        "* Simpler model\n",
        "* Change optimizer\n",
        "\n",
        "Consider these actions and experiment where necessary\n",
        "\n"
      ],
      "metadata": {
        "id": "azLwvuY6i8Hq"
      }
    },
    {
      "cell_type": "markdown",
      "source": [
        "When debugging ML models, you should first attempt to diagnose the problem and apply the appropriate fix. For example, if you had changed your optimizer using `optimizer='sgd'`, then your model also converges faster. However, the problem was not with the optimizer but with the learning rate. Changing the optimizer only helps because `optimizer='sgd'` has a higher default learning rate than `optimizer='adam'`.\n",
        "\n",
        "Alternatively, you could train the model for longer with the default learning rate. However, in real-world ML, models take long to train. You should keep your training cycles as short as possible. Therefore, increasing the learning rate is the correct fix.\n",
        "\n",
        "These options demonstrate how debugging in ML is n-dimensional, and therefore you must use your understanding of model mechanics to narrow down your options. Because running experiments in ML is time consuming, requires careful setup, and can be subject to reproducibility issues, it's important to use your understanding of model mechanics to  narrow down options without having to experiment.\n",
        "\n",
        "Lastly, according to development best practices, you should transform your feature data appropriately. This Colab did not transform the feature data because transformation is not required for convergence. However, you should always transform data appropriately. Here, you could normalize your feature data using z-score or scale the feature data to [0,1]. "
      ],
      "metadata": {
        "id": "wMX3Slzmkfir"
      }
    },
    {
      "cell_type": "markdown",
      "source": [
        "## **Solution: Reaching Convergence**\n",
        "\n",
        "Of your loss isn't decreasing fast enough, from the guidance on [Learning Rate](https://developers.google.com/machine-learning/crash-course/reducing-loss/learning-rate), you know that you can increase the learning rate to train faster. Run the following code to increase the learning rate to 0.1. The the model reaches convergence quickly."
      ],
      "metadata": {
        "id": "uvGAcvOhixcU"
      }
    },
    {
      "cell_type": "code",
      "source": [
        "model = None\n",
        "model = keras.Sequential()\n",
        "model.add(keras.layers.Dense(1, activation='linear', input_dim=1))\n",
        "model.compile(optimizer=tf.optimizers.Adam(0.1), loss='mse')\n",
        "trainHistory = model.fit(features, labels, epochs=5, batch_size=1, verbose=1)\n",
        "# Plot loss curve\n",
        "plt.plot(trainHistory.history['loss'])\n",
        "plt.title('Loss Curves')"
      ],
      "metadata": {
        "id": "xWXk6uOEj9qi"
      },
      "execution_count": null,
      "outputs": []
    },
    {
      "cell_type": "code",
      "source": [
        "#set random seed\n",
        "tf.random.set_seed(42)\n",
        "\n",
        "#create the model\n",
        "model_12=tf.keras.Sequential([\n",
        "    tf.keras.layers.Flatten(input_shape=(28,28)),\n",
        "    tf.keras.layers.Dense(4,activation=\"relu\"),\n",
        "    tf.keras.layers.Dense(4,activation=\"relu\"),\n",
        "    tf.keras.layers.Dense(10,activation=\"softmax\")\n",
        "])\n",
        "\n",
        "#compile the model\n",
        "model_12.compile(\n",
        "   loss=tf.keras.losses.SparseCategoricalCrossentropy(),\n",
        "   optimizer=tf.keras.optimizers.Adam(),\n",
        "   metrics=\"accuracy\")\n",
        "\n",
        "#create a learning rate callback\n",
        "lr_scheduler = tf.keras.callbacks\n",
        "    .LearningRateScheduler(lambda epoch : 1e-3 *10**(epoch/20) )\n",
        "\n",
        "#fit the model\n",
        "fit_lr_history =model_12.fit(\n",
        "   train_data_norm,\n",
        "   train_labels,\n",
        "   epochs=40,\n",
        "   callbacks=[lr_scheduler],\n",
        "   validation_data=(test_data_norm,test_labels))"
      ],
      "metadata": {
        "id": "w_8v07K5YytR",
        "colab": {
          "base_uri": "https://localhost:8080/",
          "height": 130
        },
        "outputId": "7341f01a-ae60-497f-dcd2-c0af5a54ce30"
      },
      "execution_count": null,
      "outputs": [
        {
          "output_type": "error",
          "ename": "IndentationError",
          "evalue": "ignored",
          "traceback": [
            "\u001b[0;36m  File \u001b[0;32m\"<ipython-input-20-8a4996e0142d>\"\u001b[0;36m, line \u001b[0;32m20\u001b[0m\n\u001b[0;31m    .LearningRateScheduler(lambda epoch : 1e-3 *10**(epoch/20) )\u001b[0m\n\u001b[0m    ^\u001b[0m\n\u001b[0;31mIndentationError\u001b[0m\u001b[0;31m:\u001b[0m unexpected indent\n"
          ]
        }
      ]
    },
    {
      "cell_type": "markdown",
      "source": [
        "### **Callback**"
      ],
      "metadata": {
        "id": "_AVGktw6ZKun"
      }
    },
    {
      "cell_type": "code",
      "source": [
        "# masih contoh\n",
        "#plot the learniing rate curve\n",
        "import numpy as np\n",
        "import matplotlib.pyplot as plt\n",
        "lrs =1e-3 *(10**(tf.range(40)/20))\n",
        "plt.semilogx(lrs,fit_lr_history.history[\"loss\"])\n",
        "plt.xlabel(\"Learning Rate\")\n",
        "plt.ylabel(\"Loss\")\n",
        "plt.title(\"Finding the ideal Learning Rate\")"
      ],
      "metadata": {
        "id": "BkVt8VOFZQ8j"
      },
      "execution_count": null,
      "outputs": []
    }
  ]
}